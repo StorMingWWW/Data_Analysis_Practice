{
 "cells": [
  {
   "cell_type": "markdown",
   "id": "380180ac-026f-483b-a678-d1bb1803ddbd",
   "metadata": {},
   "source": [
    "Series 和 Series 操作"
   ]
  },
  {
   "cell_type": "code",
   "execution_count": 1,
   "id": "5407371e-3b26-4287-bac8-ae29f1fc0bc3",
   "metadata": {},
   "outputs": [
    {
     "data": {
      "text/plain": [
       "1      9.0\n",
       "2      NaN\n",
       "3     11.0\n",
       "5      5.0\n",
       "7      NaN\n",
       "9      NaN\n",
       "10     NaN\n",
       "dtype: float64"
      ]
     },
     "execution_count": 1,
     "metadata": {},
     "output_type": "execute_result"
    }
   ],
   "source": [
    "import pandas as pd\n",
    "s1 = pd.Series([1, 4, 2, 3, 5], \n",
    "              index = [1, 3, 5, 7, 9])\n",
    "s2 = pd.Series([8, 1, 7, 3, 9],\n",
    "              index = [1, 2, 3, 5, 10])\n",
    "s1 + s2"
   ]
  },
  {
   "cell_type": "code",
   "execution_count": 2,
   "id": "f3c49d5d-f4ab-4f2e-9beb-7d89d8d36f5e",
   "metadata": {},
   "outputs": [
    {
     "data": {
      "text/plain": [
       "1      9.0\n",
       "2      1.0\n",
       "3     11.0\n",
       "5      5.0\n",
       "7      3.0\n",
       "9      5.0\n",
       "10     9.0\n",
       "dtype: float64"
      ]
     },
     "execution_count": 2,
     "metadata": {},
     "output_type": "execute_result"
    }
   ],
   "source": [
    "s1.add(s2, fill_value = 0)"
   ]
  },
  {
   "cell_type": "code",
   "execution_count": 3,
   "id": "2feb1380-4d92-4975-9329-4d30b72ab385",
   "metadata": {
    "jupyter": {
     "source_hidden": true
    }
   },
   "outputs": [
    {
     "data": {
      "text/plain": [
       "1    -7.0\n",
       "2    -1.0\n",
       "3    -3.0\n",
       "5    -1.0\n",
       "7     3.0\n",
       "9     5.0\n",
       "10   -9.0\n",
       "dtype: float64"
      ]
     },
     "execution_count": 3,
     "metadata": {},
     "output_type": "execute_result"
    }
   ],
   "source": [
    "s1.sub(s2, fill_value = 0)"
   ]
  },
  {
   "cell_type": "code",
   "execution_count": 4,
   "id": "1ad17912-c238-45df-ad0b-a6d1e6a85cca",
   "metadata": {},
   "outputs": [
    {
     "data": {
      "text/plain": [
       "1      8.0\n",
       "2      1.0\n",
       "3     28.0\n",
       "5      6.0\n",
       "7      3.0\n",
       "9      5.0\n",
       "10     9.0\n",
       "dtype: float64"
      ]
     },
     "execution_count": 4,
     "metadata": {},
     "output_type": "execute_result"
    }
   ],
   "source": [
    "s1.mul(s2, fill_value = 1)"
   ]
  },
  {
   "cell_type": "code",
   "execution_count": 5,
   "id": "a8cf2e65-abb9-4343-b388-95efee2573b5",
   "metadata": {
    "jupyter": {
     "source_hidden": true
    }
   },
   "outputs": [
    {
     "data": {
      "text/plain": [
       "1     0.125000\n",
       "2     1.000000\n",
       "3     0.571429\n",
       "5     0.666667\n",
       "7     3.000000\n",
       "9     5.000000\n",
       "10    0.111111\n",
       "dtype: float64"
      ]
     },
     "execution_count": 5,
     "metadata": {},
     "output_type": "execute_result"
    }
   ],
   "source": [
    "s1.div(s2, fill_value = 1)"
   ]
  },
  {
   "cell_type": "code",
   "execution_count": 6,
   "id": "9f763781-9bcc-4755-8813-cc69ff0e0823",
   "metadata": {},
   "outputs": [
    {
     "data": {
      "text/plain": [
       "count    5.000000\n",
       "mean     3.000000\n",
       "std      1.581139\n",
       "min      1.000000\n",
       "25%      2.000000\n",
       "50%      3.000000\n",
       "75%      4.000000\n",
       "max      5.000000\n",
       "dtype: float64"
      ]
     },
     "execution_count": 6,
     "metadata": {},
     "output_type": "execute_result"
    }
   ],
   "source": [
    "s1.describe()"
   ]
  },
  {
   "cell_type": "code",
   "execution_count": 7,
   "id": "78702050-7806-4b2b-a035-5ce6121ff975",
   "metadata": {},
   "outputs": [
    {
     "data": {
      "text/plain": [
       "矮子       92\n",
       "狗子       67\n",
       "孙子       70\n",
       "小黄       88\n",
       "sed老师    49\n",
       "dtype: int64"
      ]
     },
     "execution_count": 7,
     "metadata": {},
     "output_type": "execute_result"
    }
   ],
   "source": [
    "s3 = pd.Series({\"矮子\":92, \"狗子\":67, \"孙子\":70, \"小黄\":88, \"sed老师\":49})\n",
    "s3"
   ]
  },
  {
   "cell_type": "code",
   "execution_count": 12,
   "id": "c3b282f5-ce1c-48ff-b8aa-1ab55be704b9",
   "metadata": {},
   "outputs": [
    {
     "data": {
      "text/plain": [
       "矮子              牛逼啊！\n",
       "狗子          完了，等死吧你~\n",
       "孙子               呵呵~\n",
       "小黄        还可以~(阴阳怪气)\n",
       "sed老师       完了，等死吧你~\n",
       "dtype: object"
      ]
     },
     "execution_count": 12,
     "metadata": {},
     "output_type": "execute_result"
    }
   ],
   "source": [
    "def Get_Grade_From_Score(Score):\n",
    "    if Score >= 90:\n",
    "        return \" 牛逼啊！\"\n",
    "    elif Score >= 80:\n",
    "        return \" 还可以~(阴阳怪气)\"\n",
    "    elif Score >= 70:\n",
    "        return \" 呵呵~\"\n",
    "    else:\n",
    "        return \" 完了，等死吧你~\"\n",
    "\n",
    "grades = s3.apply(Get_Grade_From_Score)\n",
    "grades"
   ]
  },
  {
   "cell_type": "code",
   "execution_count": 14,
   "id": "7a802f86-7bb1-4c8e-a075-5a3702b06afa",
   "metadata": {},
   "outputs": [
    {
     "data": {
      "text/plain": [
       "矮子       8464\n",
       "狗子       4489\n",
       "孙子       4900\n",
       "小黄       7744\n",
       "sed老师    2401\n",
       "dtype: int64"
      ]
     },
     "execution_count": 14,
     "metadata": {},
     "output_type": "execute_result"
    }
   ],
   "source": [
    "squared_scores = s3.apply(lambda x: x * x)\n",
    "squared_scores"
   ]
  },
  {
   "cell_type": "code",
   "execution_count": null,
   "id": "49b28a10-53ba-42f0-b4a8-855a0ba601ac",
   "metadata": {},
   "outputs": [],
   "source": []
  },
  {
   "cell_type": "code",
   "execution_count": null,
   "id": "28b8e4c4-e690-4a4c-9f6b-97ae6ae122ce",
   "metadata": {},
   "outputs": [],
   "source": []
  },
  {
   "cell_type": "code",
   "execution_count": null,
   "id": "350caa05-6217-47d2-8287-64b5fd743304",
   "metadata": {},
   "outputs": [],
   "source": []
  },
  {
   "cell_type": "code",
   "execution_count": null,
   "id": "7ae7a5c8-813d-456c-9c05-b84c3194f584",
   "metadata": {},
   "outputs": [],
   "source": []
  },
  {
   "cell_type": "code",
   "execution_count": null,
   "id": "62f7a1b6-1951-4e2d-b2ac-66d00e940bcd",
   "metadata": {},
   "outputs": [],
   "source": []
  },
  {
   "cell_type": "code",
   "execution_count": null,
   "id": "caf946ec-0a97-4b97-8a18-548c42f2043e",
   "metadata": {},
   "outputs": [],
   "source": []
  },
  {
   "cell_type": "code",
   "execution_count": null,
   "id": "8a66fe32-b510-4250-933f-6839dcf82111",
   "metadata": {},
   "outputs": [],
   "source": []
  },
  {
   "cell_type": "code",
   "execution_count": null,
   "id": "8963673d-65fb-4577-8635-c3c6d72e5273",
   "metadata": {},
   "outputs": [],
   "source": []
  },
  {
   "cell_type": "code",
   "execution_count": null,
   "id": "fbd3b0cc-5350-42ec-9abe-98018d9deb38",
   "metadata": {},
   "outputs": [],
   "source": []
  },
  {
   "cell_type": "code",
   "execution_count": null,
   "id": "0ab080ed-6665-4855-a205-d465af0ca022",
   "metadata": {},
   "outputs": [],
   "source": []
  },
  {
   "cell_type": "code",
   "execution_count": null,
   "id": "aa2c4988-8a33-44f4-8088-bad0c6b869a3",
   "metadata": {},
   "outputs": [],
   "source": []
  },
  {
   "cell_type": "code",
   "execution_count": null,
   "id": "68557326-d80c-42f7-86a1-d79807d0e00b",
   "metadata": {},
   "outputs": [],
   "source": []
  },
  {
   "cell_type": "code",
   "execution_count": null,
   "id": "b02d30f4-46f3-46c4-a613-6d9804cc895e",
   "metadata": {},
   "outputs": [],
   "source": []
  },
  {
   "cell_type": "code",
   "execution_count": null,
   "id": "28fee983-b241-43ca-8546-ac97ce699976",
   "metadata": {},
   "outputs": [],
   "source": []
  },
  {
   "cell_type": "code",
   "execution_count": null,
   "id": "60f1d086-47bf-443d-a8d8-13403131bf02",
   "metadata": {},
   "outputs": [],
   "source": []
  },
  {
   "cell_type": "code",
   "execution_count": null,
   "id": "913edd8b-8dde-4b0a-95a3-db9090a83d9f",
   "metadata": {},
   "outputs": [],
   "source": []
  },
  {
   "cell_type": "code",
   "execution_count": null,
   "id": "a2e5a844-c660-4eea-bdce-e3ee24c8bc69",
   "metadata": {},
   "outputs": [],
   "source": []
  },
  {
   "cell_type": "code",
   "execution_count": null,
   "id": "e9406449-efca-42ee-bbc4-dcc5533e40a1",
   "metadata": {},
   "outputs": [],
   "source": []
  }
 ],
 "metadata": {
  "kernelspec": {
   "display_name": "Python 3 (ipykernel)",
   "language": "python",
   "name": "python3"
  },
  "language_info": {
   "codemirror_mode": {
    "name": "ipython",
    "version": 3
   },
   "file_extension": ".py",
   "mimetype": "text/x-python",
   "name": "python",
   "nbconvert_exporter": "python",
   "pygments_lexer": "ipython3",
   "version": "3.11.5"
  }
 },
 "nbformat": 4,
 "nbformat_minor": 5
}
