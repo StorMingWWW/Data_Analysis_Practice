{
 "cells": [
  {
   "cell_type": "markdown",
   "id": "bfe8ef48-56d7-4d58-a3f0-1963a7bf9750",
   "metadata": {},
   "source": [
    "写出导入 pandas 的语句， 并且给 pandas 别名为 pd。"
   ]
  },
  {
   "cell_type": "code",
   "execution_count": 1,
   "id": "ff8964a4-c54b-4ddb-b034-23b059ea36e4",
   "metadata": {},
   "outputs": [],
   "source": [
    "import pandas as pd"
   ]
  },
  {
   "cell_type": "markdown",
   "id": "6b15de71-b10b-45ec-b486-c5bf312de957",
   "metadata": {},
   "source": [
    "创建一个叫 s1 的 Series，里面包含元素 -1.2、 3.7、 2.5、 -8.2、 6.3。创建后进行输出。"
   ]
  },
  {
   "cell_type": "code",
   "execution_count": 2,
   "id": "46ea7626-4f81-474f-8725-425cd747b4b6",
   "metadata": {},
   "outputs": [
    {
     "data": {
      "text/plain": [
       "0   -1.2\n",
       "1    3.7\n",
       "2    2.5\n",
       "3   -8.2\n",
       "4    6.3\n",
       "dtype: float64"
      ]
     },
     "execution_count": 2,
     "metadata": {},
     "output_type": "execute_result"
    }
   ],
   "source": [
    "s1 = pd.Series([-1.2, 3.7, 2.5, -8.2, 6.3])\n",
    "s1"
   ]
  },
  {
   "cell_type": "markdown",
   "id": "8d83026d-3a92-4833-90de-8acb97ed7b26",
   "metadata": {},
   "source": [
    "打印 s1 的所有索引以及所有元素值。"
   ]
  },
  {
   "cell_type": "code",
   "execution_count": 3,
   "id": "8d8f60e1-922b-4ada-8b91-64c7f757b04f",
   "metadata": {},
   "outputs": [
    {
     "name": "stdout",
     "output_type": "stream",
     "text": [
      "RangeIndex(start=0, stop=5, step=1)\n",
      "[-1.2  3.7  2.5 -8.2  6.3]\n"
     ]
    }
   ],
   "source": [
    "print(s1.index)\n",
    "print(s1.values)"
   ]
  },
  {
   "cell_type": "markdown",
   "id": "e157cdd4-438d-407e-a339-780f1d834806",
   "metadata": {},
   "source": [
    "创建一个叫 s2 的Series, 里面包含元素 1、 2、 3、 4、 5，\n",
    "\n",
    "并且对应索引5、 4、 3、 2、 1。创建后进行输出。"
   ]
  },
  {
   "cell_type": "code",
   "execution_count": 4,
   "id": "cdd0319e-1194-4fd9-a70c-3af40c5aac02",
   "metadata": {},
   "outputs": [
    {
     "data": {
      "text/plain": [
       "5    1\n",
       "4    2\n",
       "3    3\n",
       "2    4\n",
       "1    5\n",
       "dtype: int64"
      ]
     },
     "execution_count": 4,
     "metadata": {},
     "output_type": "execute_result"
    }
   ],
   "source": [
    "s2 = pd.Series([1, 2, 3, 4, 5],\n",
    "              index = [5, 4, 3, 2, 1])\n",
    "s2"
   ]
  },
  {
   "cell_type": "markdown",
   "id": "5e9f206f-33fd-4308-a6c8-8a4d09be03e1",
   "metadata": {},
   "source": [
    "输出 s2 里按位置顺序排在第 2 个的元素。"
   ]
  },
  {
   "cell_type": "code",
   "execution_count": 6,
   "id": "e2644015-73e9-49bc-8449-1377cfbb505d",
   "metadata": {},
   "outputs": [
    {
     "data": {
      "text/plain": [
       "np.int64(2)"
      ]
     },
     "execution_count": 6,
     "metadata": {},
     "output_type": "execute_result"
    }
   ],
   "source": [
    "s2.iloc[1]"
   ]
  },
  {
   "cell_type": "markdown",
   "id": "61cd5e1d-0027-4626-8051-633063d2d301",
   "metadata": {},
   "source": [
    "输出 S2 里按标签对应从 5 到 3 (包括 3 )范围内的元素。"
   ]
  },
  {
   "cell_type": "code",
   "execution_count": 10,
   "id": "caba308e-fbde-4a3f-95c0-dcb59ab056fa",
   "metadata": {},
   "outputs": [
    {
     "data": {
      "text/plain": [
       "5    1\n",
       "4    2\n",
       "3    3\n",
       "dtype: int64"
      ]
     },
     "execution_count": 10,
     "metadata": {},
     "output_type": "execute_result"
    }
   ],
   "source": [
    "s2.loc[5:3]"
   ]
  },
  {
   "cell_type": "markdown",
   "id": "c92bc13c-ee45-4f16-874b-fcb3a0fa1fc1",
   "metadata": {},
   "source": [
    "通过一个字典来创建 Series s3。字典的键为: 矮子，狗子，孙子，小黄，sed老师,  值为: 46、25、 91、 87、 49。 创建后进行输出。 "
   ]
  },
  {
   "cell_type": "code",
   "execution_count": 12,
   "id": "f5c0edb2-0e7d-4479-a30c-e041e584fccb",
   "metadata": {},
   "outputs": [
    {
     "data": {
      "text/plain": [
       "矮子       46\n",
       "狗子       25\n",
       "孙子       91\n",
       "小黄       87\n",
       "sed老师    49\n",
       "dtype: int64"
      ]
     },
     "execution_count": 12,
     "metadata": {},
     "output_type": "execute_result"
    }
   ],
   "source": [
    "s3 = pd.Series({\"矮子\":46, \"狗子\":25, \"孙子\":91, \"小黄\":87, \"sed老师\":49})\n",
    "s3"
   ]
  },
  {
   "cell_type": "markdown",
   "id": "75a48c8b-5c77-49de-b48e-c83d23b679b7",
   "metadata": {},
   "source": [
    "把 s3 里小黄标签对应的值改为 95 ， 再进行输出"
   ]
  },
  {
   "cell_type": "code",
   "execution_count": 14,
   "id": "01cba0b9-0618-4207-97c1-88ae6c2d703d",
   "metadata": {},
   "outputs": [
    {
     "data": {
      "text/plain": [
       "矮子       46\n",
       "狗子       25\n",
       "孙子       91\n",
       "小黄       95\n",
       "sed老师    49\n",
       "dtype: int64"
      ]
     },
     "execution_count": 14,
     "metadata": {},
     "output_type": "execute_result"
    }
   ],
   "source": [
    "s3.loc[\"小黄\"] = 95\n",
    "s3"
   ]
  },
  {
   "cell_type": "markdown",
   "id": "7cd5dee9-6aaa-4838-9a6c-7a2c41dc7e86",
   "metadata": {},
   "source": [
    "输出 s3 里所有值大于 80 且小于 90 的元素。"
   ]
  },
  {
   "cell_type": "code",
   "execution_count": 16,
   "id": "5da472ea-f79c-4182-906d-d9584ea41ff3",
   "metadata": {},
   "outputs": [
    {
     "data": {
      "text/plain": [
       "孙子    91\n",
       "小黄    95\n",
       "dtype: int64"
      ]
     },
     "execution_count": 16,
     "metadata": {},
     "output_type": "execute_result"
    }
   ],
   "source": [
    "s3[(s3 > 80) & (s3 < 100)]"
   ]
  },
  {
   "cell_type": "code",
   "execution_count": null,
   "id": "01ffd688-ff91-43a4-a0c1-317e5ea5ce30",
   "metadata": {},
   "outputs": [],
   "source": []
  },
  {
   "cell_type": "code",
   "execution_count": null,
   "id": "e7b12419-2621-47f0-b82c-fba6fe58e1e9",
   "metadata": {},
   "outputs": [],
   "source": []
  },
  {
   "cell_type": "code",
   "execution_count": null,
   "id": "8e7795c8-9bd9-4b81-9a53-f3e72c694570",
   "metadata": {},
   "outputs": [],
   "source": []
  },
  {
   "cell_type": "code",
   "execution_count": null,
   "id": "d7bd856a-c722-4131-abbf-d7d274e294cc",
   "metadata": {},
   "outputs": [],
   "source": []
  },
  {
   "cell_type": "code",
   "execution_count": null,
   "id": "da58e463-bdc4-4110-8206-23db4f95b97d",
   "metadata": {},
   "outputs": [],
   "source": []
  },
  {
   "cell_type": "code",
   "execution_count": null,
   "id": "21114eee-f58a-43e3-a141-5a48da1e9a62",
   "metadata": {},
   "outputs": [],
   "source": []
  },
  {
   "cell_type": "code",
   "execution_count": null,
   "id": "1a78096a-03f5-4a20-8824-b6d70051fed8",
   "metadata": {},
   "outputs": [],
   "source": []
  },
  {
   "cell_type": "code",
   "execution_count": null,
   "id": "cf0d69d9-18e6-4f5f-980e-41ac61690f10",
   "metadata": {},
   "outputs": [],
   "source": []
  },
  {
   "cell_type": "code",
   "execution_count": null,
   "id": "3206673a-eebd-4e6d-b00b-f23a2acd5d84",
   "metadata": {},
   "outputs": [],
   "source": []
  },
  {
   "cell_type": "code",
   "execution_count": null,
   "id": "8a135536-34bc-4484-8055-d24fabe75da4",
   "metadata": {},
   "outputs": [],
   "source": []
  },
  {
   "cell_type": "code",
   "execution_count": null,
   "id": "85c24fe9-308b-4eb0-b95e-f85ce9cd6aa1",
   "metadata": {},
   "outputs": [],
   "source": []
  },
  {
   "cell_type": "code",
   "execution_count": null,
   "id": "2ae17dc6-c9dc-40be-a64e-654c2072c559",
   "metadata": {},
   "outputs": [],
   "source": []
  },
  {
   "cell_type": "code",
   "execution_count": null,
   "id": "bf3cc770-f737-4cb6-bd4d-7665d5cb8570",
   "metadata": {},
   "outputs": [],
   "source": []
  },
  {
   "cell_type": "code",
   "execution_count": null,
   "id": "1d159693-75b5-4207-b40f-254825d37ee4",
   "metadata": {},
   "outputs": [],
   "source": []
  }
 ],
 "metadata": {
  "kernelspec": {
   "display_name": "Python 3 (ipykernel)",
   "language": "python",
   "name": "python3"
  },
  "language_info": {
   "codemirror_mode": {
    "name": "ipython",
    "version": 3
   },
   "file_extension": ".py",
   "mimetype": "text/x-python",
   "name": "python",
   "nbconvert_exporter": "python",
   "pygments_lexer": "ipython3",
   "version": "3.11.5"
  }
 },
 "nbformat": 4,
 "nbformat_minor": 5
}
