{
 "cells": [
  {
   "cell_type": "markdown",
   "id": "06da0797-b84d-4f41-95f0-943ba80f0391",
   "metadata": {},
   "source": [
    "写入导入 pandas 的语句，并且给 pandas 别名为 pd。"
   ]
  },
  {
   "cell_type": "code",
   "execution_count": 1,
   "id": "3ed472cd-2212-4b15-b9ea-0e1d174e500d",
   "metadata": {},
   "outputs": [],
   "source": [
    "import pandas as pd"
   ]
  },
  {
   "cell_type": "markdown",
   "id": "07094f46-f48d-4579-94cd-ee818c8a0d84",
   "metadata": {},
   "source": [
    "创建 s1， 包含元素`[92, 67, 70, 88, 76]`及对应索引`[\"孙哥\", \"小黄\", \"矮子\", \"狗处\", \"sed老师\"]`。创建 s2，包含元素`[95, 85, 60, 79, 76]`及对应索引`[\"赤小兔\", \"AMS\", \"阿夏夏\", \"暴暴熊\", \"半藏森林\"]`。 创建后打印 s1 和 s2 。"
   ]
  },
  {
   "cell_type": "code",
   "execution_count": 2,
   "id": "ba1cec41-575c-4565-9779-c5e93091d4c6",
   "metadata": {
    "scrolled": true
   },
   "outputs": [
    {
     "name": "stdout",
     "output_type": "stream",
     "text": [
      "孙哥       92\n",
      "小黄       67\n",
      "AMS      70\n",
      "狗处       88\n",
      "sed老师    76\n",
      "dtype: int64\n",
      "孙哥      95\n",
      "AMS     85\n",
      "阿夏夏     60\n",
      "暴暴熊     79\n",
      "半藏森林    76\n",
      "dtype: int64\n"
     ]
    }
   ],
   "source": [
    "s1 = pd.Series([92, 67, 70, 88, 76],\n",
    "              index = [\"孙哥\", \"小黄\", \"AMS\", \"狗处\", \"sed老师\"])\n",
    "s2 = pd.Series([95, 85, 60, 79, 76],\n",
    "              index = [\"孙哥\", \"AMS\", \"阿夏夏\", \"暴暴熊\", \"半藏森林\"])\n",
    "print(s1)\n",
    "print(s2)"
   ]
  },
  {
   "cell_type": "markdown",
   "id": "e66e2d36-2fee-4fa2-af44-1009ce0231f1",
   "metadata": {},
   "source": [
    "让 s1 和 s2 的相同索引元素之间进行相加， 若无法找到对应索引的值则将缺失值用 0 代替。"
   ]
  },
  {
   "cell_type": "code",
   "execution_count": 3,
   "id": "5c60e257-bb50-452f-84f9-747cceab9778",
   "metadata": {},
   "outputs": [
    {
     "data": {
      "text/plain": [
       "AMS      155.0\n",
       "sed老师     76.0\n",
       "半藏森林      76.0\n",
       "孙哥       187.0\n",
       "小黄        67.0\n",
       "暴暴熊       79.0\n",
       "狗处        88.0\n",
       "阿夏夏       60.0\n",
       "dtype: float64"
      ]
     },
     "execution_count": 3,
     "metadata": {},
     "output_type": "execute_result"
    }
   ],
   "source": [
    "s1.add(s2, fill_value = 0)"
   ]
  },
  {
   "cell_type": "markdown",
   "id": "3c6ed2d7-ea65-4bdd-8d93-9ca38cf1f16f",
   "metadata": {},
   "source": [
    "输出 S1 的统计学相关数据，包括最大值、最小值、平均值、标准差。"
   ]
  },
  {
   "cell_type": "code",
   "execution_count": 4,
   "id": "8001b9f1-d324-4422-abfd-63f227c63f45",
   "metadata": {},
   "outputs": [
    {
     "data": {
      "text/plain": [
       "count     5.000000\n",
       "mean     78.600000\n",
       "std      10.990905\n",
       "min      67.000000\n",
       "25%      70.000000\n",
       "50%      76.000000\n",
       "75%      88.000000\n",
       "max      92.000000\n",
       "dtype: float64"
      ]
     },
     "execution_count": 4,
     "metadata": {},
     "output_type": "execute_result"
    }
   ],
   "source": [
    "s1.describe()"
   ]
  },
  {
   "cell_type": "markdown",
   "id": "a442d207-dad4-431e-96b0-3324bbbf295d",
   "metadata": {},
   "source": [
    "把 S1 更新为所有数字加 5 后的结果，并进行输出。"
   ]
  },
  {
   "cell_type": "code",
   "execution_count": 5,
   "id": "c6f5a83f-f031-4006-bf86-06661b029966",
   "metadata": {},
   "outputs": [
    {
     "data": {
      "text/plain": [
       "孙哥       97\n",
       "小黄       72\n",
       "AMS      75\n",
       "狗处       93\n",
       "sed老师    81\n",
       "dtype: int64"
      ]
     },
     "execution_count": 5,
     "metadata": {},
     "output_type": "execute_result"
    }
   ],
   "source": [
    "s1 += 5\n",
    "s1"
   ]
  },
  {
   "cell_type": "markdown",
   "id": "9b6f8745-d403-4d9e-8e49-3dbd2352ff1d",
   "metadata": {},
   "source": [
    "根据以下规则，输出一个新的 Series, 包含 s1 里各个学生成绩所对应的等级。\n",
    "> - A(\"牛逼啊！\")            : 90分及以上\n",
    "> - B(\"打得真不错~(阴阳怪气)\"): 80分及以上 - 90分\n",
    "> - C(\"就这？(阴阳怪气)\")     : 70分及以上 - 80分\n",
    "> - D(\"呵呵~\")               : 60分及以上 - 70分\n",
    "> - 不及格(\"完了，等死吧你~\")  : 60分以下"
   ]
  },
  {
   "cell_type": "code",
   "execution_count": 7,
   "id": "eaa6247f-d438-4739-908b-36dd1952ab55",
   "metadata": {},
   "outputs": [
    {
     "data": {
      "text/plain": [
       "孙哥                牛逼啊！\n",
       "小黄           就这？(阴阳怪气)\n",
       "AMS          就这？(阴阳怪气)\n",
       "狗处                牛逼啊！\n",
       "sed老师     打得真不错~(阴阳怪气)\n",
       "dtype: object"
      ]
     },
     "execution_count": 7,
     "metadata": {},
     "output_type": "execute_result"
    }
   ],
   "source": [
    "def Get_Grade_From_Score(Score):\n",
    "    if Score >= 90:\n",
    "        return \" 牛逼啊！\"\n",
    "    elif Score >= 80:\n",
    "        return \" 打得真不错~(阴阳怪气)\"\n",
    "    elif Score >= 70:\n",
    "        return \" 就这？(阴阳怪气)\"\n",
    "    elif Score >= 60:\n",
    "        return \" 呵呵~\"\n",
    "    else:\n",
    "        return \" 完了，等死吧你~\"\n",
    "        \n",
    "grades = s1.apply(Get_Grade_From_Score)\n",
    "grades"
   ]
  },
  {
   "cell_type": "code",
   "execution_count": null,
   "id": "d7e39ea0-22b7-412a-bc9b-59a66035757a",
   "metadata": {},
   "outputs": [],
   "source": []
  },
  {
   "cell_type": "code",
   "execution_count": null,
   "id": "982948dd-93f4-433f-9579-2f18d0e14eaf",
   "metadata": {},
   "outputs": [],
   "source": []
  },
  {
   "cell_type": "code",
   "execution_count": null,
   "id": "f6227aa6-1b53-4604-8e57-789b58c505d5",
   "metadata": {},
   "outputs": [],
   "source": []
  },
  {
   "cell_type": "code",
   "execution_count": null,
   "id": "3e90e290-f909-4be3-a889-ec79739e2497",
   "metadata": {},
   "outputs": [],
   "source": []
  },
  {
   "cell_type": "code",
   "execution_count": null,
   "id": "018e7e44-f1d3-4e0f-a86f-03a2f3d9bd12",
   "metadata": {},
   "outputs": [],
   "source": []
  },
  {
   "cell_type": "code",
   "execution_count": null,
   "id": "0833a3da-1284-4e00-afb9-2c7b1b2104e8",
   "metadata": {},
   "outputs": [],
   "source": []
  },
  {
   "cell_type": "code",
   "execution_count": null,
   "id": "9093d52c-9841-42fd-89c2-834baf2759ea",
   "metadata": {},
   "outputs": [],
   "source": []
  },
  {
   "cell_type": "code",
   "execution_count": null,
   "id": "fb42ca62-0f50-4053-a8aa-b0bf3e99e580",
   "metadata": {},
   "outputs": [],
   "source": []
  },
  {
   "cell_type": "code",
   "execution_count": null,
   "id": "3a20f969-0dc4-45dd-bd0f-e1c08ed0cf3c",
   "metadata": {},
   "outputs": [],
   "source": []
  },
  {
   "cell_type": "code",
   "execution_count": null,
   "id": "145ce62c-3f28-4591-bca8-aeec268fa11a",
   "metadata": {},
   "outputs": [],
   "source": []
  },
  {
   "cell_type": "code",
   "execution_count": null,
   "id": "03083869-0a2d-4115-8ffe-bfff1478df6e",
   "metadata": {},
   "outputs": [],
   "source": []
  },
  {
   "cell_type": "markdown",
   "id": "a601d322-0f36-4c1e-9a65-46662c5993a7",
   "metadata": {},
   "source": []
  },
  {
   "cell_type": "code",
   "execution_count": null,
   "id": "5c6cf22d-f6c2-481d-86c8-f8b9e304c64c",
   "metadata": {},
   "outputs": [],
   "source": []
  },
  {
   "cell_type": "code",
   "execution_count": null,
   "id": "3836e182-7cd3-4c40-acbd-4cfa5b1a6776",
   "metadata": {},
   "outputs": [],
   "source": []
  },
  {
   "cell_type": "code",
   "execution_count": null,
   "id": "dfbb5891-e4ff-46cf-a468-3f92c68f9d66",
   "metadata": {},
   "outputs": [],
   "source": []
  },
  {
   "cell_type": "code",
   "execution_count": null,
   "id": "cbea4e75-5634-4bdf-aeda-45449a98743d",
   "metadata": {},
   "outputs": [],
   "source": []
  },
  {
   "cell_type": "code",
   "execution_count": null,
   "id": "185acd7d-6c69-4f7e-89b5-3263ba7c7b7f",
   "metadata": {},
   "outputs": [],
   "source": []
  },
  {
   "cell_type": "code",
   "execution_count": null,
   "id": "38fddd48-9dc1-4612-90fe-129d73b0a518",
   "metadata": {},
   "outputs": [],
   "source": []
  },
  {
   "cell_type": "code",
   "execution_count": null,
   "id": "cd58aba4-cc4e-489a-bcf9-ac323429942e",
   "metadata": {},
   "outputs": [],
   "source": []
  },
  {
   "cell_type": "code",
   "execution_count": null,
   "id": "8caee10d-7283-4827-985c-970b36aecdd6",
   "metadata": {},
   "outputs": [],
   "source": []
  },
  {
   "cell_type": "code",
   "execution_count": null,
   "id": "2585f9ee-0746-4a30-a1c0-a415f6004780",
   "metadata": {},
   "outputs": [],
   "source": []
  }
 ],
 "metadata": {
  "kernelspec": {
   "display_name": "Python 3 (ipykernel)",
   "language": "python",
   "name": "python3"
  },
  "language_info": {
   "codemirror_mode": {
    "name": "ipython",
    "version": 3
   },
   "file_extension": ".py",
   "mimetype": "text/x-python",
   "name": "python",
   "nbconvert_exporter": "python",
   "pygments_lexer": "ipython3",
   "version": "3.11.5"
  }
 },
 "nbformat": 4,
 "nbformat_minor": 5
}
