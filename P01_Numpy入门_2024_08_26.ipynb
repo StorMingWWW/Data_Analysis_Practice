{
 "cells": [
  {
   "cell_type": "markdown",
   "id": "d6a9cacd-0bc7-4560-8681-6005340b1e77",
   "metadata": {},
   "source": [
    "##### 写入导入 numpy 的语句，并且给 numpy 命名为 np。"
   ]
  },
  {
   "cell_type": "code",
   "execution_count": 1,
   "id": "2990a818-9261-49cb-9a6b-5641ac4d34fa",
   "metadata": {},
   "outputs": [],
   "source": [
    "import numpy as np"
   ]
  },
  {
   "cell_type": "markdown",
   "id": "a37d91fa-9296-47a0-832f-331cce465c32",
   "metadata": {},
   "source": [
    "##### 创建一个变量名为 arrl 的一维数组 里面的元素为整数 6、2、-7、2、1。 创建后输出 arr1. "
   ]
  },
  {
   "cell_type": "code",
   "execution_count": 2,
   "id": "d52a61ce-f953-4e97-ae61-4b421be7f1d2",
   "metadata": {},
   "outputs": [
    {
     "data": {
      "text/plain": [
       "array([ 6,  2, -7,  2,  8, -2,  1])"
      ]
     },
     "execution_count": 2,
     "metadata": {},
     "output_type": "execute_result"
    }
   ],
   "source": [
    "arr1 = np.array([6, 2, -7, 2, 8, -2, 1])\n",
    "arr1"
   ]
  },
  {
   "cell_type": "markdown",
   "id": "bbc6de0d-8cdc-4717-a0c7-6b37b83385a5",
   "metadata": {},
   "source": [
    "##### 创建一个变量名为 arr2 的二维数组， 里面的元素为以下两个数组： 由整数 1、3、5、 组成的一维数组，以及由整数 2、 4、 6 组成的一维数组创建后输出 arr2。"
   ]
  },
  {
   "cell_type": "code",
   "execution_count": 3,
   "id": "57481db4-b5cb-4113-813b-341726b9496b",
   "metadata": {},
   "outputs": [
    {
     "data": {
      "text/plain": [
       "array([[1, 3, 5],\n",
       "       [2, 4, 6]])"
      ]
     },
     "execution_count": 3,
     "metadata": {},
     "output_type": "execute_result"
    }
   ],
   "source": [
    "arr2 = np.array([[1, 3, 5],[2, 4, 6]])\n",
    "arr2"
   ]
  },
  {
   "cell_type": "markdown",
   "id": "3065b480-c499-41cb-8229-6f25608d1882",
   "metadata": {},
   "source": [
    "##### 分别打印 arr1 和 arr2 的维度、形状、元素数量、元素类型。"
   ]
  },
  {
   "cell_type": "code",
   "execution_count": 7,
   "id": "6686a4ef-8346-488e-9079-b44529b6be20",
   "metadata": {},
   "outputs": [
    {
     "name": "stdout",
     "output_type": "stream",
     "text": [
      "1\n",
      "2\n",
      "(7,)\n",
      "(2, 3)\n",
      "7\n",
      "6\n",
      "int64\n",
      "int64\n"
     ]
    }
   ],
   "source": [
    "print(arr1. ndim)\n",
    "print(arr2. ndim)\n",
    "print(arr1. shape)\n",
    "print(arr2. shape)\n",
    "print(arr1. size)\n",
    "print(arr2. size)\n",
    "print(arr1. dtype)\n",
    "print(arr2. dtype)"
   ]
  },
  {
   "cell_type": "markdown",
   "id": "1eb69fb8-3689-4073-9502-c61ab791708d",
   "metadata": {},
   "source": [
    "##### 创建一个变量名为 arr_all_0 的一维数组里面的元素为 6 个 0, 并输出。"
   ]
  },
  {
   "cell_type": "code",
   "execution_count": 9,
   "id": "8cdc00e1-2117-4692-b305-f894fea2f6f2",
   "metadata": {},
   "outputs": [
    {
     "data": {
      "text/plain": [
       "array([0., 0., 0., 0., 0., 0.])"
      ]
     },
     "execution_count": 9,
     "metadata": {},
     "output_type": "execute_result"
    }
   ],
   "source": [
    "arr_all_0 = np. zeros(6)\n",
    "arr_all_0"
   ]
  },
  {
   "cell_type": "markdown",
   "id": "d317f98f-a9e1-40ef-9f0f-ba2463a672a3",
   "metadata": {},
   "source": [
    "##### 创建一个变量名为 arr_all_1 的一维数组里面的元素为 6 个 1, 并输出。"
   ]
  },
  {
   "cell_type": "code",
   "execution_count": 10,
   "id": "41c4a5db-665b-4c55-acd3-6e43f760640d",
   "metadata": {},
   "outputs": [
    {
     "data": {
      "text/plain": [
       "array([1., 1., 1., 1., 1., 1.])"
      ]
     },
     "execution_count": 10,
     "metadata": {},
     "output_type": "execute_result"
    }
   ],
   "source": [
    "arr_all_1 = np. ones(6)\n",
    "arr_all_1"
   ]
  },
  {
   "cell_type": "markdown",
   "id": "33d30a22-4d0e-47d0-b3ed-58ca720ef767",
   "metadata": {},
   "source": [
    "##### 创建一个变量名为 arr_even 的一维数组 里面的元素为 10 (包括 10) 到 20 (包括 20) 之间的偶数，并输出。"
   ]
  },
  {
   "cell_type": "code",
   "execution_count": 11,
   "id": "6934789d-3e9b-462a-8e69-1f75315938d2",
   "metadata": {},
   "outputs": [
    {
     "data": {
      "text/plain": [
       "array([10, 12, 14, 16, 18, 20])"
      ]
     },
     "execution_count": 11,
     "metadata": {},
     "output_type": "execute_result"
    }
   ],
   "source": [
    "arr_even = np.arange(10, 21, 2)\n",
    "arr_even"
   ]
  },
  {
   "cell_type": "markdown",
   "id": "964fb740-42de-4cb7-a3c9-25e1eb6a11a4",
   "metadata": {},
   "source": [
    "#####"
   ]
  },
  {
   "cell_type": "code",
   "execution_count": null,
   "id": "184f6ca9-037a-4bda-9ff9-cf17c3555695",
   "metadata": {},
   "outputs": [],
   "source": []
  },
  {
   "cell_type": "markdown",
   "id": "e07e9611-fb68-4c47-a322-88449952e2b0",
   "metadata": {},
   "source": [
    "#####"
   ]
  },
  {
   "cell_type": "code",
   "execution_count": null,
   "id": "5992a681-3543-41aa-8fd9-296c78925117",
   "metadata": {},
   "outputs": [],
   "source": []
  },
  {
   "cell_type": "markdown",
   "id": "9122f919-47a3-42ec-8ca1-9671e4d29189",
   "metadata": {},
   "source": [
    "#####"
   ]
  },
  {
   "cell_type": "code",
   "execution_count": null,
   "id": "8e62f142-86f3-4a74-96ef-5570111641f0",
   "metadata": {},
   "outputs": [],
   "source": []
  },
  {
   "cell_type": "markdown",
   "id": "3846a85d-63c1-4c4f-803a-d157b4832e2a",
   "metadata": {},
   "source": [
    "#####"
   ]
  },
  {
   "cell_type": "code",
   "execution_count": null,
   "id": "c06533a0-cab7-4837-950a-94d1602b9c2b",
   "metadata": {},
   "outputs": [],
   "source": []
  }
 ],
 "metadata": {
  "kernelspec": {
   "display_name": "Python 3 (ipykernel)",
   "language": "python",
   "name": "python3"
  },
  "language_info": {
   "codemirror_mode": {
    "name": "ipython",
    "version": 3
   },
   "file_extension": ".py",
   "mimetype": "text/x-python",
   "name": "python",
   "nbconvert_exporter": "python",
   "pygments_lexer": "ipython3",
   "version": "3.11.5"
  }
 },
 "nbformat": 4,
 "nbformat_minor": 5
}
