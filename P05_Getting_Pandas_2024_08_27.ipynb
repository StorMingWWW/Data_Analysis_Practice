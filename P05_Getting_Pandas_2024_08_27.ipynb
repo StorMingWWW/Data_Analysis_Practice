{
 "cells": [
  {
   "cell_type": "markdown",
   "id": "a07e3b1c-c759-443e-8471-4591cd359c20",
   "metadata": {},
   "source": [
    "导入`pandas`"
   ]
  },
  {
   "cell_type": "code",
   "execution_count": 1,
   "id": "59b8a336-ce12-4103-a20d-750b502a141a",
   "metadata": {},
   "outputs": [],
   "source": [
    "import pandas as pd"
   ]
  },
  {
   "cell_type": "markdown",
   "id": "7ee010b5-0e8c-46ff-b06b-f00c7ab1ec45",
   "metadata": {},
   "source": [
    "创建 Series"
   ]
  },
  {
   "cell_type": "code",
   "execution_count": 2,
   "id": "77d3ab5a-b553-4fc3-bf2f-321ed2b695dc",
   "metadata": {},
   "outputs": [
    {
     "data": {
      "text/plain": [
       "0     5\n",
       "1    17\n",
       "2     3\n",
       "3    26\n",
       "4    31\n",
       "dtype: int64"
      ]
     },
     "execution_count": 2,
     "metadata": {},
     "output_type": "execute_result"
    }
   ],
   "source": [
    "s1 = pd.Series([5, 17, 3, 26, 31])\n",
    "s1"
   ]
  },
  {
   "cell_type": "markdown",
   "id": "ca1ec0d2-5af5-4886-b68e-959c1a0fe310",
   "metadata": {},
   "source": [
    "获得 Series 的元素和索引"
   ]
  },
  {
   "cell_type": "code",
   "execution_count": 3,
   "id": "238cb303-6c48-48c3-b811-5e838b236aed",
   "metadata": {},
   "outputs": [
    {
     "name": "stdout",
     "output_type": "stream",
     "text": [
      "[ 5 17  3 26 31]\n",
      "RangeIndex(start=0, stop=5, step=1)\n"
     ]
    }
   ],
   "source": [
    "print(s1.values)\n",
    "print(s1.index)"
   ]
  },
  {
   "cell_type": "markdown",
   "id": "3674de05-8d91-4ff4-9440-68511564c79a",
   "metadata": {},
   "source": [
    "#### 索引和切片操作"
   ]
  },
  {
   "cell_type": "markdown",
   "id": "05188f66-748f-441a-b636-0697c5cc5b1b",
   "metadata": {},
   "source": [
    "##### 获得 s1 里的索引为 2 的值"
   ]
  },
  {
   "cell_type": "code",
   "execution_count": 4,
   "id": "b9548708-f7a7-43fe-8612-338a3b74e20f",
   "metadata": {},
   "outputs": [
    {
     "data": {
      "text/plain": [
       "np.int64(3)"
      ]
     },
     "execution_count": 4,
     "metadata": {},
     "output_type": "execute_result"
    }
   ],
   "source": [
    "s1[2]"
   ]
  },
  {
   "cell_type": "markdown",
   "id": "b90dfffe-9c7b-4c73-af40-2b47d2c8f470",
   "metadata": {},
   "source": [
    "##### 获得 s1 里的索引从 1 到 2 的值"
   ]
  },
  {
   "cell_type": "code",
   "execution_count": 5,
   "id": "33381713-6c8a-4fa9-993e-095fbad2a9a9",
   "metadata": {},
   "outputs": [
    {
     "data": {
      "text/plain": [
       "1    17\n",
       "2     3\n",
       "dtype: int64"
      ]
     },
     "execution_count": 5,
     "metadata": {},
     "output_type": "execute_result"
    }
   ],
   "source": [
    "s1[1:3]"
   ]
  },
  {
   "cell_type": "markdown",
   "id": "f809bc3a-ba6c-46d1-a098-01ed392a9fdc",
   "metadata": {},
   "source": [
    "#### Pandas Series"
   ]
  },
  {
   "cell_type": "code",
   "execution_count": 6,
   "id": "5a61659a-5793-4897-87e1-814fd13f1ebd",
   "metadata": {},
   "outputs": [
    {
     "data": {
      "text/plain": [
       "a     5\n",
       "d    17\n",
       "b     3\n",
       "c    26\n",
       "e    31\n",
       "dtype: int64"
      ]
     },
     "execution_count": 6,
     "metadata": {},
     "output_type": "execute_result"
    }
   ],
   "source": [
    "s2 = pd.Series([5, 17, 3, 26, 31],\n",
    "              index = [\"a\", \"d\", \"b\", \"c\", \"e\"])\n",
    "s2"
   ]
  },
  {
   "cell_type": "markdown",
   "id": "4bd0ee38-ab44-4cef-a6d3-3ce2c765d599",
   "metadata": {},
   "source": [
    "#### 用两种索引"
   ]
  },
  {
   "cell_type": "markdown",
   "id": "b1fcfbe7-57c5-455d-ac11-e101fb63f15e",
   "metadata": {},
   "source": [
    "##### 用`标签`索引"
   ]
  },
  {
   "cell_type": "code",
   "execution_count": 7,
   "id": "9b5b89b1-9922-4f41-addf-9e437a2855b7",
   "metadata": {},
   "outputs": [
    {
     "data": {
      "text/plain": [
       "np.int64(3)"
      ]
     },
     "execution_count": 7,
     "metadata": {},
     "output_type": "execute_result"
    }
   ],
   "source": [
    "s2[\"b\"]"
   ]
  },
  {
   "cell_type": "markdown",
   "id": "b777571c-3c1c-4921-878a-670fcb846ab7",
   "metadata": {},
   "source": [
    "##### 用`位置`索引"
   ]
  },
  {
   "cell_type": "code",
   "execution_count": 9,
   "id": "ea407ff0-67d8-44cb-89ff-4e6171ed059d",
   "metadata": {},
   "outputs": [
    {
     "name": "stderr",
     "output_type": "stream",
     "text": [
      "C:\\Users\\Administrator\\AppData\\Local\\Temp\\ipykernel_7740\\3318850340.py:1: FutureWarning: Series.__getitem__ treating keys as positions is deprecated. In a future version, integer keys will always be treated as labels (consistent with DataFrame behavior). To access a value by position, use `ser.iloc[pos]`\n",
      "  s2[2]\n"
     ]
    },
    {
     "data": {
      "text/plain": [
       "np.int64(3)"
      ]
     },
     "execution_count": 9,
     "metadata": {},
     "output_type": "execute_result"
    }
   ],
   "source": [
    "s2[2]"
   ]
  },
  {
   "cell_type": "markdown",
   "id": "997442e6-bf8a-4e47-80db-5b4753e6682b",
   "metadata": {},
   "source": [
    "#### 用两种索引切片"
   ]
  },
  {
   "cell_type": "markdown",
   "id": "13c4ca9d-539a-4458-9d80-7b897deec08f",
   "metadata": {},
   "source": [
    "用`标签`索引"
   ]
  },
  {
   "cell_type": "code",
   "execution_count": 10,
   "id": "5e7aba76-8362-46a4-866e-179982d4de94",
   "metadata": {},
   "outputs": [
    {
     "data": {
      "text/plain": [
       "d    17\n",
       "b     3\n",
       "c    26\n",
       "dtype: int64"
      ]
     },
     "execution_count": 10,
     "metadata": {},
     "output_type": "execute_result"
    }
   ],
   "source": [
    "s2[\"d\":\"c\"]"
   ]
  },
  {
   "cell_type": "markdown",
   "id": "14cb2a0f-75db-40c9-9072-002550a467ad",
   "metadata": {},
   "source": [
    "用`位置`索引"
   ]
  },
  {
   "cell_type": "code",
   "execution_count": 11,
   "id": "fc75c155-ffea-4bb0-8b23-e84a665c9910",
   "metadata": {},
   "outputs": [
    {
     "data": {
      "text/plain": [
       "d    17\n",
       "b     3\n",
       "dtype: int64"
      ]
     },
     "execution_count": 11,
     "metadata": {},
     "output_type": "execute_result"
    }
   ],
   "source": [
    "s2[1:3]"
   ]
  },
  {
   "cell_type": "markdown",
   "id": "84b8afbe-b277-417c-8627-26ccb85bfcb3",
   "metadata": {},
   "source": [
    "#### 用索引获得任意元素"
   ]
  },
  {
   "cell_type": "markdown",
   "id": "89fdd81b-6669-487f-9221-e443b10c5373",
   "metadata": {},
   "source": [
    "用`标签`索引"
   ]
  },
  {
   "cell_type": "code",
   "execution_count": 13,
   "id": "62f0346a-9d05-4dbb-9d76-32995ff9340e",
   "metadata": {},
   "outputs": [
    {
     "data": {
      "text/plain": [
       "a     5\n",
       "e    31\n",
       "c    26\n",
       "dtype: int64"
      ]
     },
     "execution_count": 13,
     "metadata": {},
     "output_type": "execute_result"
    }
   ],
   "source": [
    "s2[[\"a\", \"e\", \"c\"]]"
   ]
  },
  {
   "cell_type": "markdown",
   "id": "c4f0ca27-fd09-41c5-802b-ce60b1f753ea",
   "metadata": {},
   "source": [
    "用`位置`索引"
   ]
  },
  {
   "cell_type": "code",
   "execution_count": 14,
   "id": "dd582235-8492-4b32-808c-9c5d7bc76a74",
   "metadata": {},
   "outputs": [
    {
     "name": "stderr",
     "output_type": "stream",
     "text": [
      "C:\\Users\\Administrator\\AppData\\Local\\Temp\\ipykernel_7740\\3524771054.py:1: FutureWarning: Series.__getitem__ treating keys as positions is deprecated. In a future version, integer keys will always be treated as labels (consistent with DataFrame behavior). To access a value by position, use `ser.iloc[pos]`\n",
      "  s2[[0, 4, 3]]\n"
     ]
    },
    {
     "data": {
      "text/plain": [
       "a     5\n",
       "e    31\n",
       "c    26\n",
       "dtype: int64"
      ]
     },
     "execution_count": 14,
     "metadata": {},
     "output_type": "execute_result"
    }
   ],
   "source": [
    "s2[[0, 4, 3]]"
   ]
  },
  {
   "cell_type": "code",
   "execution_count": 16,
   "id": "dd9d26f7-9ea8-4524-a3df-c83b75aa1838",
   "metadata": {},
   "outputs": [
    {
     "data": {
      "text/plain": [
       "1     5\n",
       "3    17\n",
       "5     3\n",
       "7    26\n",
       "9    31\n",
       "dtype: int64"
      ]
     },
     "execution_count": 16,
     "metadata": {},
     "output_type": "execute_result"
    }
   ],
   "source": [
    "s3 = pd.Series([5, 17, 3, 26, 31],\n",
    "              index = [1, 3, 5, 7, 9])\n",
    "s3"
   ]
  },
  {
   "cell_type": "markdown",
   "id": "7799d3a9-c41d-4064-80a0-b3f7cfeca5ad",
   "metadata": {},
   "source": [
    "#### `loc`和`iloc`"
   ]
  },
  {
   "cell_type": "markdown",
   "id": "908d2c31-e8df-4914-88c7-82117cf3b9c3",
   "metadata": {},
   "source": [
    "loc - 用`标签`索引"
   ]
  },
  {
   "cell_type": "code",
   "execution_count": 17,
   "id": "0609dc8b-7eea-4571-a40b-430e38101eac",
   "metadata": {},
   "outputs": [
    {
     "data": {
      "text/plain": [
       "1     5\n",
       "3    17\n",
       "dtype: int64"
      ]
     },
     "execution_count": 17,
     "metadata": {},
     "output_type": "execute_result"
    }
   ],
   "source": [
    "s3.loc[1:3]"
   ]
  },
  {
   "cell_type": "markdown",
   "id": "2ef09c3c-7267-4d6b-81f1-4b56c9bd0351",
   "metadata": {},
   "source": [
    "iloc - 用`位置`索引"
   ]
  },
  {
   "cell_type": "code",
   "execution_count": 18,
   "id": "6fe1f402-5825-41f4-b311-485997c2415b",
   "metadata": {},
   "outputs": [
    {
     "data": {
      "text/plain": [
       "3    17\n",
       "5     3\n",
       "dtype: int64"
      ]
     },
     "execution_count": 18,
     "metadata": {},
     "output_type": "execute_result"
    }
   ],
   "source": [
    "s3.iloc[1:3]"
   ]
  },
  {
   "cell_type": "markdown",
   "id": "acd634d1-68b5-4419-a233-7789383cfc3b",
   "metadata": {},
   "source": [
    "创建 Series 的另一种方式"
   ]
  },
  {
   "cell_type": "code",
   "execution_count": 20,
   "id": "49551226-1560-4594-9094-994b488b5847",
   "metadata": {},
   "outputs": [
    {
     "data": {
      "text/plain": [
       "青菜     4.1\n",
       "白萝卜    2.2\n",
       "西红柿    5.3\n",
       "土豆     3.7\n",
       "黄瓜     6.8\n",
       "dtype: float64"
      ]
     },
     "execution_count": 20,
     "metadata": {},
     "output_type": "execute_result"
    }
   ],
   "source": [
    "s4 = pd.Series([4.1, 2.2, 5.3, 3.7, 6.8],\n",
    "              index = [\"青菜\", \"白萝卜\", \"西红柿\", \"土豆\", \"黄瓜\"])\n",
    "s4"
   ]
  },
  {
   "cell_type": "code",
   "execution_count": 22,
   "id": "c05da472-ed7e-4cff-96fd-fc55f762ca32",
   "metadata": {},
   "outputs": [
    {
     "data": {
      "text/plain": [
       "孙一峰         4.56\n",
       "黄旭东         2.56\n",
       "狗处          6.35\n",
       "高跷骑士矮子春     4.89\n",
       "瓦莉拉        89.56\n",
       "dtype: float64"
      ]
     },
     "execution_count": 22,
     "metadata": {},
     "output_type": "execute_result"
    }
   ],
   "source": [
    "s5 = pd.Series({\"孙一峰\": 4.56, \"黄旭东\": 2.56, \"狗处\": 6.35, \n",
    "                \"高跷骑士矮子春\": 4.89, \"瓦莉拉\": 89.56})\n",
    "s5"
   ]
  },
  {
   "cell_type": "markdown",
   "id": "d986f46d-cd2d-404e-b361-d1bb919c2be3",
   "metadata": {},
   "source": [
    "查看标签是否存在"
   ]
  },
  {
   "cell_type": "code",
   "execution_count": 23,
   "id": "73165996-de52-4692-a386-6ed7388a7524",
   "metadata": {},
   "outputs": [
    {
     "data": {
      "text/plain": [
       "True"
      ]
     },
     "execution_count": 23,
     "metadata": {},
     "output_type": "execute_result"
    }
   ],
   "source": [
    "\"土豆\" in s4"
   ]
  },
  {
   "cell_type": "markdown",
   "id": "7a8ef595-fcee-48cc-8ff1-95ecaf79962f",
   "metadata": {},
   "source": [
    "修改 Series 里的值"
   ]
  },
  {
   "cell_type": "code",
   "execution_count": 26,
   "id": "e145b182-4897-41b9-8066-0e279e67e73f",
   "metadata": {},
   "outputs": [
    {
     "name": "stdout",
     "output_type": "stream",
     "text": [
      "250.0\n",
      "青菜       4.1\n",
      "白萝卜      2.2\n",
      "西红柿      5.3\n",
      "土豆     250.0\n",
      "黄瓜       6.8\n",
      "dtype: float64\n"
     ]
    }
   ],
   "source": [
    "s4[\"土豆\"] = 250\n",
    "print(s4[\"土豆\"])\n",
    "print(s4)"
   ]
  },
  {
   "cell_type": "code",
   "execution_count": 27,
   "id": "74d89abc-eff5-4715-b82e-5e0bca363047",
   "metadata": {},
   "outputs": [
    {
     "name": "stdout",
     "output_type": "stream",
     "text": [
      "38.0\n",
      "666.0\n"
     ]
    }
   ],
   "source": [
    "s5.loc[\"孙一峰\"] = 38\n",
    "print(s5.loc[\"孙一峰\"])\n",
    "s5.loc[\"黄旭东\"] = 666\n",
    "print(s5.loc[\"黄旭东\"])"
   ]
  },
  {
   "cell_type": "markdown",
   "id": "08c6974b-9aa7-4c17-a8a1-7f5882f48250",
   "metadata": {},
   "source": [
    "根据条件筛选 Series 元素"
   ]
  },
  {
   "cell_type": "code",
   "execution_count": 28,
   "id": "58787e06-052a-4596-a075-54cf27238f66",
   "metadata": {},
   "outputs": [
    {
     "data": {
      "text/plain": [
       "孙一峰     38.00\n",
       "黄旭东    666.00\n",
       "瓦莉拉     89.56\n",
       "dtype: float64"
      ]
     },
     "execution_count": 28,
     "metadata": {},
     "output_type": "execute_result"
    }
   ],
   "source": [
    "s5[s5 > 10]"
   ]
  },
  {
   "cell_type": "code",
   "execution_count": 30,
   "id": "0da923c3-9f2c-444c-af71-9b9b9859ac38",
   "metadata": {},
   "outputs": [
    {
     "data": {
      "text/plain": [
       "孙一峰    38.00\n",
       "狗处      6.35\n",
       "瓦莉拉    89.56\n",
       "dtype: float64"
      ]
     },
     "execution_count": 30,
     "metadata": {},
     "output_type": "execute_result"
    }
   ],
   "source": [
    "s5[(s5 > 6)&(s5 < 200)]"
   ]
  },
  {
   "cell_type": "code",
   "execution_count": null,
   "id": "0cb594ac-c217-4eac-afb7-95194b2d09b7",
   "metadata": {},
   "outputs": [],
   "source": []
  },
  {
   "cell_type": "code",
   "execution_count": null,
   "id": "a6770867-b3f0-4e1d-956d-bb18df076081",
   "metadata": {},
   "outputs": [],
   "source": []
  },
  {
   "cell_type": "code",
   "execution_count": null,
   "id": "28b1128d-517b-4fe9-b76d-24e0fe64af44",
   "metadata": {},
   "outputs": [],
   "source": []
  },
  {
   "cell_type": "code",
   "execution_count": null,
   "id": "0ce5357f-8223-4131-920b-81891fe13afc",
   "metadata": {},
   "outputs": [],
   "source": []
  },
  {
   "cell_type": "code",
   "execution_count": null,
   "id": "9502a07a-7bdd-49f2-b1ed-ee6e0c8ae42f",
   "metadata": {},
   "outputs": [],
   "source": []
  },
  {
   "cell_type": "code",
   "execution_count": null,
   "id": "ecee9d56-58fd-4442-88e9-2a92809fb821",
   "metadata": {},
   "outputs": [],
   "source": []
  },
  {
   "cell_type": "code",
   "execution_count": null,
   "id": "2d4f082a-e561-4b68-9c49-31ccb3ed011e",
   "metadata": {},
   "outputs": [],
   "source": []
  },
  {
   "cell_type": "code",
   "execution_count": null,
   "id": "7296b0cd-4eb1-4969-a2fc-706ecf2f960d",
   "metadata": {},
   "outputs": [],
   "source": []
  },
  {
   "cell_type": "code",
   "execution_count": null,
   "id": "9fb5c84b-b0ad-45b4-a2ab-4f647a37b7b9",
   "metadata": {},
   "outputs": [],
   "source": []
  },
  {
   "cell_type": "code",
   "execution_count": null,
   "id": "5abeb33e-c390-49c9-9147-c67fa641f5b7",
   "metadata": {},
   "outputs": [],
   "source": []
  },
  {
   "cell_type": "code",
   "execution_count": null,
   "id": "ad241efb-f0e0-49fd-ba32-c789401e0597",
   "metadata": {},
   "outputs": [],
   "source": []
  },
  {
   "cell_type": "code",
   "execution_count": null,
   "id": "2b1a011d-31e5-4aca-9d0e-d81622427453",
   "metadata": {},
   "outputs": [],
   "source": []
  },
  {
   "cell_type": "code",
   "execution_count": null,
   "id": "5796ad04-a146-4612-b99f-927d047c2e28",
   "metadata": {},
   "outputs": [],
   "source": []
  }
 ],
 "metadata": {
  "kernelspec": {
   "display_name": "Python 3 (ipykernel)",
   "language": "python",
   "name": "python3"
  },
  "language_info": {
   "codemirror_mode": {
    "name": "ipython",
    "version": 3
   },
   "file_extension": ".py",
   "mimetype": "text/x-python",
   "name": "python",
   "nbconvert_exporter": "python",
   "pygments_lexer": "ipython3",
   "version": "3.11.5"
  }
 },
 "nbformat": 4,
 "nbformat_minor": 5
}
