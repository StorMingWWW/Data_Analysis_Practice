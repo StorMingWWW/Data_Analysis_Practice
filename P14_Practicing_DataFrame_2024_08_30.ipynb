{
 "cells": [
  {
   "cell_type": "markdown",
   "id": "c9dcb972-2163-4daa-a98d-b03739d27583",
   "metadata": {},
   "source": [
    "导入`pandas`的语句，并且给`pandas`别名为`pd`。"
   ]
  },
  {
   "cell_type": "code",
   "execution_count": 1,
   "id": "5463f300-169f-44c3-b1bd-fc25f2648351",
   "metadata": {},
   "outputs": [],
   "source": [
    "import pandas as pd\n",
    "import numpy as np"
   ]
  },
  {
   "cell_type": "markdown",
   "id": "bdf8d478-6506-4afb-a117-8282f488ca25",
   "metadata": {},
   "source": [
    "创建一个名为`Students`的`DataFrame`，包含数据如下：\n",
    "\n",
    "`{\"001\":{\"姓名\": \"孙哥\", \"考试1\": 85, \"考试2\": 95, \"考试3\": 92},\n",
    "\"002\":{\"姓名\": \"黄哥\", \"考试1\": 91, \"考试2\":92, \"考试3\": 94},\n",
    "\"003\":{\"姓名\": \"翘兔\", \"考试1\": 86, \"考试2\":81, \"考试3\": 89},\n",
    "\"004\":{\"姓名\": \"sed老师\", \"考试1\": 79, \"考试2\": 89, \"考试3\": 95},\n",
    "\"005\":{\"姓名\": \"狗处\", \"考试1\": 96, \"考试2\": 91, \"考试3\": 91},\n",
    "\"006\":{\"姓名\": \"死矮子\", \"考试1\": 81, \"考试2\":89, \"考试3\":92}}`\n",
    "\n",
    "要求学号{001、002等}为索引，姓名、考试1、考试2、考试3为列名，并输出创建好的`DataFrame`。"
   ]
  },
  {
   "cell_type": "code",
   "execution_count": 2,
   "id": "8551ac40-874f-4330-9c1a-bc4129f87295",
   "metadata": {},
   "outputs": [
    {
     "data": {
      "text/html": [
       "<div>\n",
       "<style scoped>\n",
       "    .dataframe tbody tr th:only-of-type {\n",
       "        vertical-align: middle;\n",
       "    }\n",
       "\n",
       "    .dataframe tbody tr th {\n",
       "        vertical-align: top;\n",
       "    }\n",
       "\n",
       "    .dataframe thead th {\n",
       "        text-align: right;\n",
       "    }\n",
       "</style>\n",
       "<table border=\"1\" class=\"dataframe\">\n",
       "  <thead>\n",
       "    <tr style=\"text-align: right;\">\n",
       "      <th></th>\n",
       "      <th>姓名</th>\n",
       "      <th>考试1</th>\n",
       "      <th>考试2</th>\n",
       "      <th>考试3</th>\n",
       "    </tr>\n",
       "  </thead>\n",
       "  <tbody>\n",
       "    <tr>\n",
       "      <th>001</th>\n",
       "      <td>孙哥</td>\n",
       "      <td>85</td>\n",
       "      <td>95</td>\n",
       "      <td>92</td>\n",
       "    </tr>\n",
       "    <tr>\n",
       "      <th>002</th>\n",
       "      <td>黄哥</td>\n",
       "      <td>91</td>\n",
       "      <td>92</td>\n",
       "      <td>94</td>\n",
       "    </tr>\n",
       "    <tr>\n",
       "      <th>003</th>\n",
       "      <td>翘兔</td>\n",
       "      <td>86</td>\n",
       "      <td>81</td>\n",
       "      <td>89</td>\n",
       "    </tr>\n",
       "    <tr>\n",
       "      <th>004</th>\n",
       "      <td>sed老师</td>\n",
       "      <td>79</td>\n",
       "      <td>89</td>\n",
       "      <td>95</td>\n",
       "    </tr>\n",
       "    <tr>\n",
       "      <th>005</th>\n",
       "      <td>狗处</td>\n",
       "      <td>96</td>\n",
       "      <td>91</td>\n",
       "      <td>91</td>\n",
       "    </tr>\n",
       "    <tr>\n",
       "      <th>006</th>\n",
       "      <td>死矮子</td>\n",
       "      <td>81</td>\n",
       "      <td>89</td>\n",
       "      <td>92</td>\n",
       "    </tr>\n",
       "  </tbody>\n",
       "</table>\n",
       "</div>"
      ],
      "text/plain": [
       "        姓名 考试1 考试2 考试3\n",
       "001     孙哥  85  95  92\n",
       "002     黄哥  91  92  94\n",
       "003     翘兔  86  81  89\n",
       "004  sed老师  79  89  95\n",
       "005     狗处  96  91  91\n",
       "006    死矮子  81  89  92"
      ]
     },
     "execution_count": 2,
     "metadata": {},
     "output_type": "execute_result"
    }
   ],
   "source": [
    "Students = pd.DataFrame({\"001\":{\"姓名\": \"孙哥\", \"考试1\": 85, \"考试2\": 95, \"考试3\": 92},\n",
    "\"002\":{\"姓名\": \"黄哥\", \"考试1\": 91, \"考试2\":92, \"考试3\": 94},\n",
    "\"003\":{\"姓名\": \"翘兔\", \"考试1\": 86, \"考试2\":81, \"考试3\": 89},\n",
    "\"004\":{\"姓名\": \"sed老师\", \"考试1\": 79, \"考试2\": 89, \"考试3\": 95},\n",
    "\"005\":{\"姓名\": \"狗处\", \"考试1\": 96, \"考试2\": 91, \"考试3\": 91},\n",
    "\"006\":{\"姓名\": \"死矮子\", \"考试1\": 81, \"考试2\":89, \"考试3\":92}}).T\n",
    "Students"
   ]
  },
  {
   "cell_type": "markdown",
   "id": "063bf988-870c-40a7-a8d5-595ababdfc1a",
   "metadata": {},
   "source": [
    "创建一个叫`Students_DataFrame`的`DataFrame`,索引为学号，包含姓名列(列名为\"姓名\")， 以及计算出三次考试平均值后的结果列(列名为\"平均分\")。"
   ]
  },
  {
   "cell_type": "code",
   "execution_count": 3,
   "id": "2eceb42a-3065-4725-b42e-cdc0d40cfd64",
   "metadata": {},
   "outputs": [
    {
     "data": {
      "text/html": [
       "<div>\n",
       "<style scoped>\n",
       "    .dataframe tbody tr th:only-of-type {\n",
       "        vertical-align: middle;\n",
       "    }\n",
       "\n",
       "    .dataframe tbody tr th {\n",
       "        vertical-align: top;\n",
       "    }\n",
       "\n",
       "    .dataframe thead th {\n",
       "        text-align: right;\n",
       "    }\n",
       "</style>\n",
       "<table border=\"1\" class=\"dataframe\">\n",
       "  <thead>\n",
       "    <tr style=\"text-align: right;\">\n",
       "      <th></th>\n",
       "      <th>姓名</th>\n",
       "      <th>平均分</th>\n",
       "    </tr>\n",
       "  </thead>\n",
       "  <tbody>\n",
       "    <tr>\n",
       "      <th>001</th>\n",
       "      <td>孙哥</td>\n",
       "      <td>90.666667</td>\n",
       "    </tr>\n",
       "    <tr>\n",
       "      <th>002</th>\n",
       "      <td>黄哥</td>\n",
       "      <td>92.333333</td>\n",
       "    </tr>\n",
       "    <tr>\n",
       "      <th>003</th>\n",
       "      <td>翘兔</td>\n",
       "      <td>85.333333</td>\n",
       "    </tr>\n",
       "    <tr>\n",
       "      <th>004</th>\n",
       "      <td>sed老师</td>\n",
       "      <td>87.666667</td>\n",
       "    </tr>\n",
       "    <tr>\n",
       "      <th>005</th>\n",
       "      <td>狗处</td>\n",
       "      <td>92.666667</td>\n",
       "    </tr>\n",
       "    <tr>\n",
       "      <th>006</th>\n",
       "      <td>死矮子</td>\n",
       "      <td>87.333333</td>\n",
       "    </tr>\n",
       "  </tbody>\n",
       "</table>\n",
       "</div>"
      ],
      "text/plain": [
       "        姓名        平均分\n",
       "001     孙哥  90.666667\n",
       "002     黄哥  92.333333\n",
       "003     翘兔  85.333333\n",
       "004  sed老师  87.666667\n",
       "005     狗处  92.666667\n",
       "006    死矮子  87.333333"
      ]
     },
     "execution_count": 3,
     "metadata": {},
     "output_type": "execute_result"
    }
   ],
   "source": [
    "Average = Students.loc[:, \"考试1\":\"考试3\"].mean(axis = 1)\n",
    "Name = Students[\"姓名\"]\n",
    "Students_Average = pd.DataFrame({\"姓名\": Name, \"平均分\": Average})\n",
    "Students_Average"
   ]
  },
  {
   "cell_type": "markdown",
   "id": "3d4667f2-a8e5-4627-8a6d-a360fe1698c7",
   "metadata": {},
   "source": [
    "输出每次考试第二高的分数组成的 Series， 可以尝试结合匿名函数。"
   ]
  },
  {
   "cell_type": "code",
   "execution_count": 4,
   "id": "90424c15-9658-4101-abe4-196c3e153a18",
   "metadata": {},
   "outputs": [
    {
     "data": {
      "text/plain": [
       "考试1    91\n",
       "考试2    92\n",
       "考试3    94\n",
       "dtype: int64"
      ]
     },
     "execution_count": 4,
     "metadata": {},
     "output_type": "execute_result"
    }
   ],
   "source": [
    "Students.loc[:, \"考试1\": \"考试3\"]. apply(lambda x: np.sort(x)[-2])"
   ]
  },
  {
   "cell_type": "markdown",
   "id": "72866093-6d1c-4de3-b478-ac98fe4f1659",
   "metadata": {},
   "source": [
    "根据以下规则，输出每个学号对应的四次考试的等级：\n",
    ">- (A+): 平均分 >= 95  输出 \"牛逼啊你！\"\n",
    ">- (A)  : 90 <= 平均分 < 95  输出 \"还可以~(阴阳怪气)\"\n",
    ">- (B+): 85 <= 平均分 < 90  输出 \"也还行~\"\n",
    ">- (B)  : 80 <= 平均分 < 85  输出 \"呵呵~(阴阳怪气)\"\n",
    ">- (C+): 75 <= 平均分 < 80  输出 \"你特么弱智吧你！\"\n",
    ">- (C)  : 平均分 < 75  输出 \"没救了，找块地把自己买了吧~\""
   ]
  },
  {
   "cell_type": "code",
   "execution_count": 10,
   "id": "ee1bb34f-e818-4e3e-9a2a-e6338ffe8c97",
   "metadata": {},
   "outputs": [],
   "source": [
    "def Get_Grade (Score):\n",
    "    if Score >= 95:\n",
    "        return \"牛逼啊你！\"\n",
    "    elif Score >= 85:\n",
    "        return \"还可以~(阴阳怪气)\"\n",
    "    elif Score >= 80:\n",
    "        return \"也还行~\"\n",
    "    elif Score >= 75:\n",
    "        return \"呵呵~(阴阳怪气)\"\n",
    "    elif Score >= 70:\n",
    "        return \"你特么弱智吧你！\"\n",
    "    else:\n",
    "        return \"没救了，找块地把自己买了吧~\""
   ]
  },
  {
   "cell_type": "code",
   "execution_count": 12,
   "id": "52a119e5-e67b-4d0b-a57f-44d63f37478e",
   "metadata": {},
   "outputs": [
    {
     "name": "stderr",
     "output_type": "stream",
     "text": [
      "C:\\Users\\Administrator\\AppData\\Local\\Temp\\ipykernel_11828\\3350277585.py:1: FutureWarning: DataFrame.applymap has been deprecated. Use DataFrame.map instead.\n",
      "  Students.loc[:,\"考试1\": \"考试3\"].applymap(Get_Grade)\n"
     ]
    },
    {
     "data": {
      "text/html": [
       "<div>\n",
       "<style scoped>\n",
       "    .dataframe tbody tr th:only-of-type {\n",
       "        vertical-align: middle;\n",
       "    }\n",
       "\n",
       "    .dataframe tbody tr th {\n",
       "        vertical-align: top;\n",
       "    }\n",
       "\n",
       "    .dataframe thead th {\n",
       "        text-align: right;\n",
       "    }\n",
       "</style>\n",
       "<table border=\"1\" class=\"dataframe\">\n",
       "  <thead>\n",
       "    <tr style=\"text-align: right;\">\n",
       "      <th></th>\n",
       "      <th>考试1</th>\n",
       "      <th>考试2</th>\n",
       "      <th>考试3</th>\n",
       "    </tr>\n",
       "  </thead>\n",
       "  <tbody>\n",
       "    <tr>\n",
       "      <th>001</th>\n",
       "      <td>还可以~(阴阳怪气)</td>\n",
       "      <td>牛逼啊你！</td>\n",
       "      <td>还可以~(阴阳怪气)</td>\n",
       "    </tr>\n",
       "    <tr>\n",
       "      <th>002</th>\n",
       "      <td>还可以~(阴阳怪气)</td>\n",
       "      <td>还可以~(阴阳怪气)</td>\n",
       "      <td>还可以~(阴阳怪气)</td>\n",
       "    </tr>\n",
       "    <tr>\n",
       "      <th>003</th>\n",
       "      <td>还可以~(阴阳怪气)</td>\n",
       "      <td>也还行~</td>\n",
       "      <td>还可以~(阴阳怪气)</td>\n",
       "    </tr>\n",
       "    <tr>\n",
       "      <th>004</th>\n",
       "      <td>呵呵~(阴阳怪气)</td>\n",
       "      <td>还可以~(阴阳怪气)</td>\n",
       "      <td>牛逼啊你！</td>\n",
       "    </tr>\n",
       "    <tr>\n",
       "      <th>005</th>\n",
       "      <td>牛逼啊你！</td>\n",
       "      <td>还可以~(阴阳怪气)</td>\n",
       "      <td>还可以~(阴阳怪气)</td>\n",
       "    </tr>\n",
       "    <tr>\n",
       "      <th>006</th>\n",
       "      <td>也还行~</td>\n",
       "      <td>还可以~(阴阳怪气)</td>\n",
       "      <td>还可以~(阴阳怪气)</td>\n",
       "    </tr>\n",
       "  </tbody>\n",
       "</table>\n",
       "</div>"
      ],
      "text/plain": [
       "            考试1         考试2         考试3\n",
       "001  还可以~(阴阳怪气)       牛逼啊你！  还可以~(阴阳怪气)\n",
       "002  还可以~(阴阳怪气)  还可以~(阴阳怪气)  还可以~(阴阳怪气)\n",
       "003  还可以~(阴阳怪气)        也还行~  还可以~(阴阳怪气)\n",
       "004   呵呵~(阴阳怪气)  还可以~(阴阳怪气)       牛逼啊你！\n",
       "005       牛逼啊你！  还可以~(阴阳怪气)  还可以~(阴阳怪气)\n",
       "006        也还行~  还可以~(阴阳怪气)  还可以~(阴阳怪气)"
      ]
     },
     "execution_count": 12,
     "metadata": {},
     "output_type": "execute_result"
    }
   ],
   "source": [
    "Students.loc[:,\"考试1\": \"考试3\"].applymap(Get_Grade)"
   ]
  },
  {
   "cell_type": "markdown",
   "id": "59ab02b2-7d28-4d78-a238-5159e05f1647",
   "metadata": {},
   "source": [
    "展示`Students`每个考试分数数据列的统计信息，包括个数、平均值、标准差、四分位数等。"
   ]
  },
  {
   "cell_type": "code",
   "execution_count": 13,
   "id": "b1fb34f8-b10d-49bc-8204-9b253518eeed",
   "metadata": {},
   "outputs": [
    {
     "data": {
      "text/html": [
       "<div>\n",
       "<style scoped>\n",
       "    .dataframe tbody tr th:only-of-type {\n",
       "        vertical-align: middle;\n",
       "    }\n",
       "\n",
       "    .dataframe tbody tr th {\n",
       "        vertical-align: top;\n",
       "    }\n",
       "\n",
       "    .dataframe thead th {\n",
       "        text-align: right;\n",
       "    }\n",
       "</style>\n",
       "<table border=\"1\" class=\"dataframe\">\n",
       "  <thead>\n",
       "    <tr style=\"text-align: right;\">\n",
       "      <th></th>\n",
       "      <th>姓名</th>\n",
       "      <th>考试1</th>\n",
       "      <th>考试2</th>\n",
       "      <th>考试3</th>\n",
       "    </tr>\n",
       "  </thead>\n",
       "  <tbody>\n",
       "    <tr>\n",
       "      <th>count</th>\n",
       "      <td>6</td>\n",
       "      <td>6</td>\n",
       "      <td>6</td>\n",
       "      <td>6</td>\n",
       "    </tr>\n",
       "    <tr>\n",
       "      <th>unique</th>\n",
       "      <td>6</td>\n",
       "      <td>6</td>\n",
       "      <td>5</td>\n",
       "      <td>5</td>\n",
       "    </tr>\n",
       "    <tr>\n",
       "      <th>top</th>\n",
       "      <td>孙哥</td>\n",
       "      <td>85</td>\n",
       "      <td>89</td>\n",
       "      <td>92</td>\n",
       "    </tr>\n",
       "    <tr>\n",
       "      <th>freq</th>\n",
       "      <td>1</td>\n",
       "      <td>1</td>\n",
       "      <td>2</td>\n",
       "      <td>2</td>\n",
       "    </tr>\n",
       "  </tbody>\n",
       "</table>\n",
       "</div>"
      ],
      "text/plain": [
       "        姓名  考试1  考试2  考试3\n",
       "count    6    6    6    6\n",
       "unique   6    6    5    5\n",
       "top     孙哥   85   89   92\n",
       "freq     1    1    2    2"
      ]
     },
     "execution_count": 13,
     "metadata": {},
     "output_type": "execute_result"
    }
   ],
   "source": [
    "Students.describe()"
   ]
  },
  {
   "cell_type": "code",
   "execution_count": 14,
   "id": "3dffffce-3790-4de1-ba2d-7f1013eec453",
   "metadata": {},
   "outputs": [
    {
     "data": {
      "text/plain": [
       "001    85\n",
       "002    91\n",
       "003    86\n",
       "004    79\n",
       "005    96\n",
       "006    81\n",
       "Name: 考试1, dtype: object"
      ]
     },
     "execution_count": 14,
     "metadata": {},
     "output_type": "execute_result"
    }
   ],
   "source": [
    "Students[\"考试1\"]"
   ]
  },
  {
   "cell_type": "code",
   "execution_count": 15,
   "id": "5456a5e2-d5f7-44ca-b5be-8a2cb55d44dc",
   "metadata": {},
   "outputs": [
    {
     "data": {
      "text/html": [
       "<div>\n",
       "<style scoped>\n",
       "    .dataframe tbody tr th:only-of-type {\n",
       "        vertical-align: middle;\n",
       "    }\n",
       "\n",
       "    .dataframe tbody tr th {\n",
       "        vertical-align: top;\n",
       "    }\n",
       "\n",
       "    .dataframe thead th {\n",
       "        text-align: right;\n",
       "    }\n",
       "</style>\n",
       "<table border=\"1\" class=\"dataframe\">\n",
       "  <thead>\n",
       "    <tr style=\"text-align: right;\">\n",
       "      <th></th>\n",
       "      <th>考试1</th>\n",
       "      <th>考试2</th>\n",
       "      <th>考试3</th>\n",
       "    </tr>\n",
       "  </thead>\n",
       "  <tbody>\n",
       "    <tr>\n",
       "      <th>count</th>\n",
       "      <td>6.000000</td>\n",
       "      <td>6.000000</td>\n",
       "      <td>6.000000</td>\n",
       "    </tr>\n",
       "    <tr>\n",
       "      <th>mean</th>\n",
       "      <td>86.333333</td>\n",
       "      <td>89.500000</td>\n",
       "      <td>92.166667</td>\n",
       "    </tr>\n",
       "    <tr>\n",
       "      <th>std</th>\n",
       "      <td>6.314006</td>\n",
       "      <td>4.722288</td>\n",
       "      <td>2.136976</td>\n",
       "    </tr>\n",
       "    <tr>\n",
       "      <th>min</th>\n",
       "      <td>79.000000</td>\n",
       "      <td>81.000000</td>\n",
       "      <td>89.000000</td>\n",
       "    </tr>\n",
       "    <tr>\n",
       "      <th>25%</th>\n",
       "      <td>82.000000</td>\n",
       "      <td>89.000000</td>\n",
       "      <td>91.250000</td>\n",
       "    </tr>\n",
       "    <tr>\n",
       "      <th>50%</th>\n",
       "      <td>85.500000</td>\n",
       "      <td>90.000000</td>\n",
       "      <td>92.000000</td>\n",
       "    </tr>\n",
       "    <tr>\n",
       "      <th>75%</th>\n",
       "      <td>89.750000</td>\n",
       "      <td>91.750000</td>\n",
       "      <td>93.500000</td>\n",
       "    </tr>\n",
       "    <tr>\n",
       "      <th>max</th>\n",
       "      <td>96.000000</td>\n",
       "      <td>95.000000</td>\n",
       "      <td>95.000000</td>\n",
       "    </tr>\n",
       "  </tbody>\n",
       "</table>\n",
       "</div>"
      ],
      "text/plain": [
       "             考试1        考试2        考试3\n",
       "count   6.000000   6.000000   6.000000\n",
       "mean   86.333333  89.500000  92.166667\n",
       "std     6.314006   4.722288   2.136976\n",
       "min    79.000000  81.000000  89.000000\n",
       "25%    82.000000  89.000000  91.250000\n",
       "50%    85.500000  90.000000  92.000000\n",
       "75%    89.750000  91.750000  93.500000\n",
       "max    96.000000  95.000000  95.000000"
      ]
     },
     "execution_count": 15,
     "metadata": {},
     "output_type": "execute_result"
    }
   ],
   "source": [
    "Students[\"考试1\"] = Students[\"考试1\"].astype('int')\n",
    "Students[\"考试2\"] = Students[\"考试2\"].astype('int')\n",
    "Students[\"考试3\"] = Students[\"考试3\"].astype('int')\n",
    "Students. describe()"
   ]
  },
  {
   "cell_type": "code",
   "execution_count": null,
   "id": "8c0d4b70-1d63-457e-8b0c-a26d0882acc8",
   "metadata": {},
   "outputs": [],
   "source": []
  },
  {
   "cell_type": "code",
   "execution_count": null,
   "id": "93d696a6-c2d2-4a6d-8955-8c26a97ea362",
   "metadata": {},
   "outputs": [],
   "source": []
  },
  {
   "cell_type": "code",
   "execution_count": null,
   "id": "05175729-dcce-49ce-89ed-fcb58358bdc3",
   "metadata": {},
   "outputs": [],
   "source": []
  },
  {
   "cell_type": "code",
   "execution_count": null,
   "id": "89bcc2c5-157a-4144-ab0d-7fa4931fba2d",
   "metadata": {},
   "outputs": [],
   "source": []
  },
  {
   "cell_type": "code",
   "execution_count": null,
   "id": "e2e34901-67d5-4328-a2f4-99c19b2f5baa",
   "metadata": {},
   "outputs": [],
   "source": []
  },
  {
   "cell_type": "code",
   "execution_count": null,
   "id": "7855650b-b020-4911-b8d5-cba19f6403b3",
   "metadata": {},
   "outputs": [],
   "source": []
  },
  {
   "cell_type": "code",
   "execution_count": null,
   "id": "435f4d7d-2e56-4064-9026-743b4c867c3d",
   "metadata": {},
   "outputs": [],
   "source": []
  },
  {
   "cell_type": "code",
   "execution_count": null,
   "id": "eaf09e34-0508-446c-8c2c-4d597d2fe1ae",
   "metadata": {},
   "outputs": [],
   "source": []
  },
  {
   "cell_type": "code",
   "execution_count": null,
   "id": "78ddf501-104d-4157-8678-e380b398bcd3",
   "metadata": {},
   "outputs": [],
   "source": []
  },
  {
   "cell_type": "code",
   "execution_count": null,
   "id": "9894493c-8ee8-4974-8592-2275c02123a4",
   "metadata": {},
   "outputs": [],
   "source": []
  },
  {
   "cell_type": "code",
   "execution_count": null,
   "id": "57abc93c-c4e5-4d74-b67c-85c41b26acc0",
   "metadata": {},
   "outputs": [],
   "source": []
  },
  {
   "cell_type": "code",
   "execution_count": null,
   "id": "134a3235-523f-428d-8e02-651bf2e67e52",
   "metadata": {},
   "outputs": [],
   "source": []
  },
  {
   "cell_type": "code",
   "execution_count": null,
   "id": "43ee6d01-e7ee-4cbf-a3e2-fb1fd0d55fa5",
   "metadata": {},
   "outputs": [],
   "source": []
  },
  {
   "cell_type": "code",
   "execution_count": null,
   "id": "5be87e44-d609-421a-a678-de5293e9c32e",
   "metadata": {},
   "outputs": [],
   "source": []
  },
  {
   "cell_type": "code",
   "execution_count": null,
   "id": "4e27b9c7-5880-43f8-9318-75247767e8c1",
   "metadata": {},
   "outputs": [],
   "source": []
  },
  {
   "cell_type": "code",
   "execution_count": null,
   "id": "111d8e93-d0a3-4697-b8c1-a373b86bf07d",
   "metadata": {},
   "outputs": [],
   "source": []
  },
  {
   "cell_type": "code",
   "execution_count": null,
   "id": "0feac6ad-e26a-460f-8507-93de33f8556a",
   "metadata": {},
   "outputs": [],
   "source": []
  },
  {
   "cell_type": "code",
   "execution_count": null,
   "id": "8811ac05-d5dd-46a1-9d67-c61f1f534518",
   "metadata": {},
   "outputs": [],
   "source": []
  },
  {
   "cell_type": "code",
   "execution_count": null,
   "id": "79978c3d-6083-4689-91a4-ee626cfe5851",
   "metadata": {},
   "outputs": [],
   "source": []
  },
  {
   "cell_type": "code",
   "execution_count": null,
   "id": "48f6a20a-e040-4e52-8c3c-4b40d17d9478",
   "metadata": {},
   "outputs": [],
   "source": []
  },
  {
   "cell_type": "code",
   "execution_count": null,
   "id": "ff0f37d5-736e-418a-8f0c-88d04ba90651",
   "metadata": {},
   "outputs": [],
   "source": []
  },
  {
   "cell_type": "code",
   "execution_count": null,
   "id": "07704f04-7a21-441b-b335-797d2208354f",
   "metadata": {},
   "outputs": [],
   "source": []
  },
  {
   "cell_type": "code",
   "execution_count": null,
   "id": "2ed5b840-399f-466a-bd8f-4e0a5f909b52",
   "metadata": {},
   "outputs": [],
   "source": []
  },
  {
   "cell_type": "code",
   "execution_count": null,
   "id": "f40c9a8e-c0c2-4902-9f5d-236d255ec53a",
   "metadata": {},
   "outputs": [],
   "source": []
  },
  {
   "cell_type": "code",
   "execution_count": null,
   "id": "ccdbdc6e-bbe1-4970-b55a-a62b9c5b9e6c",
   "metadata": {},
   "outputs": [],
   "source": []
  },
  {
   "cell_type": "code",
   "execution_count": null,
   "id": "70f9b9d7-5a2c-4bfa-a5ec-29d0dcacef6b",
   "metadata": {},
   "outputs": [],
   "source": []
  },
  {
   "cell_type": "code",
   "execution_count": null,
   "id": "d1028801-3751-4cee-9399-20092a81b047",
   "metadata": {},
   "outputs": [],
   "source": []
  },
  {
   "cell_type": "code",
   "execution_count": null,
   "id": "e9f3b1dc-3757-40eb-9f3c-68e1a589aacd",
   "metadata": {},
   "outputs": [],
   "source": []
  },
  {
   "cell_type": "code",
   "execution_count": null,
   "id": "c583fe38-ce29-4612-8d8e-9ddd61818101",
   "metadata": {},
   "outputs": [],
   "source": []
  },
  {
   "cell_type": "code",
   "execution_count": null,
   "id": "923c68cd-5a2c-4617-b425-ce627f6eb35e",
   "metadata": {},
   "outputs": [],
   "source": []
  },
  {
   "cell_type": "code",
   "execution_count": null,
   "id": "e9078f3e-5f35-459f-bbda-73ed3bc7fc7a",
   "metadata": {},
   "outputs": [],
   "source": []
  },
  {
   "cell_type": "code",
   "execution_count": null,
   "id": "d83703ad-9afd-409f-baa2-18001d195d7f",
   "metadata": {},
   "outputs": [],
   "source": []
  },
  {
   "cell_type": "code",
   "execution_count": null,
   "id": "5a1966ce-317d-479a-99ab-92628f25c23f",
   "metadata": {},
   "outputs": [],
   "source": []
  },
  {
   "cell_type": "code",
   "execution_count": null,
   "id": "300d8fed-787c-4270-95df-6f884ef96bd2",
   "metadata": {},
   "outputs": [],
   "source": []
  },
  {
   "cell_type": "code",
   "execution_count": null,
   "id": "3b6e6283-cf88-4636-9a3e-67221cc53227",
   "metadata": {},
   "outputs": [],
   "source": []
  },
  {
   "cell_type": "code",
   "execution_count": null,
   "id": "2f6acdec-c419-4898-af0a-0f4ebf805009",
   "metadata": {},
   "outputs": [],
   "source": []
  },
  {
   "cell_type": "code",
   "execution_count": null,
   "id": "302c0a8b-cd3e-4ec9-8bde-0bf0671a6459",
   "metadata": {},
   "outputs": [],
   "source": []
  },
  {
   "cell_type": "code",
   "execution_count": null,
   "id": "b629fee0-4387-41e1-94d0-da5e399eb7fc",
   "metadata": {},
   "outputs": [],
   "source": []
  },
  {
   "cell_type": "code",
   "execution_count": null,
   "id": "a593b411-e978-4b3e-8f65-2eebf39611af",
   "metadata": {},
   "outputs": [],
   "source": []
  },
  {
   "cell_type": "code",
   "execution_count": null,
   "id": "203e879b-fae2-4d22-abe8-0283a416ecdf",
   "metadata": {},
   "outputs": [],
   "source": []
  },
  {
   "cell_type": "code",
   "execution_count": null,
   "id": "d8b00d4b-28c8-41ee-9309-ea2c8b0c8002",
   "metadata": {},
   "outputs": [],
   "source": []
  },
  {
   "cell_type": "code",
   "execution_count": null,
   "id": "9d2d15b7-9535-427b-a83c-adaf0fa55313",
   "metadata": {},
   "outputs": [],
   "source": []
  },
  {
   "cell_type": "code",
   "execution_count": null,
   "id": "b5f03378-476b-4f6e-b0dc-bdc3e10ae3ec",
   "metadata": {},
   "outputs": [],
   "source": []
  },
  {
   "cell_type": "code",
   "execution_count": null,
   "id": "ce80086a-7f18-4e8a-b2b5-4d812b75914d",
   "metadata": {},
   "outputs": [],
   "source": []
  },
  {
   "cell_type": "code",
   "execution_count": null,
   "id": "f2e827d2-22c3-4445-a74a-252fd743883e",
   "metadata": {},
   "outputs": [],
   "source": []
  },
  {
   "cell_type": "code",
   "execution_count": null,
   "id": "16b5228e-ddfe-4441-913c-c697e2855b01",
   "metadata": {},
   "outputs": [],
   "source": []
  },
  {
   "cell_type": "code",
   "execution_count": null,
   "id": "ed189b1f-bf70-4048-b856-68e49608fdf8",
   "metadata": {},
   "outputs": [],
   "source": []
  },
  {
   "cell_type": "code",
   "execution_count": null,
   "id": "11aa66b5-b24f-40b6-9edc-e0ce7e6523e3",
   "metadata": {},
   "outputs": [],
   "source": []
  },
  {
   "cell_type": "code",
   "execution_count": null,
   "id": "2fab8cea-8fd2-43fd-8f09-6b586715a0f9",
   "metadata": {},
   "outputs": [],
   "source": []
  },
  {
   "cell_type": "code",
   "execution_count": null,
   "id": "269904e3-208f-449f-ad53-f3cfea78ad39",
   "metadata": {},
   "outputs": [],
   "source": []
  },
  {
   "cell_type": "code",
   "execution_count": null,
   "id": "bd1b33b6-9a0e-43a5-96bd-508d1a1613fd",
   "metadata": {},
   "outputs": [],
   "source": []
  },
  {
   "cell_type": "code",
   "execution_count": null,
   "id": "26ab8300-2082-43fe-8528-af00dbee9183",
   "metadata": {},
   "outputs": [],
   "source": []
  },
  {
   "cell_type": "code",
   "execution_count": null,
   "id": "79aa4244-43c2-49c3-ad95-dbcd88596b39",
   "metadata": {},
   "outputs": [],
   "source": []
  },
  {
   "cell_type": "code",
   "execution_count": null,
   "id": "808ffc69-dfe1-4561-9019-050f60f9a71b",
   "metadata": {},
   "outputs": [],
   "source": []
  },
  {
   "cell_type": "code",
   "execution_count": null,
   "id": "ca061656-efbc-48c1-9545-b3b5931cfc83",
   "metadata": {},
   "outputs": [],
   "source": []
  },
  {
   "cell_type": "code",
   "execution_count": null,
   "id": "e757bd6e-6aa1-4fb8-8eeb-11b833fedb21",
   "metadata": {},
   "outputs": [],
   "source": []
  },
  {
   "cell_type": "code",
   "execution_count": null,
   "id": "70a4ef75-b93e-46bb-b926-bff40c55779b",
   "metadata": {},
   "outputs": [],
   "source": []
  },
  {
   "cell_type": "code",
   "execution_count": null,
   "id": "17716a3a-30a8-44de-835c-d910f1dc79a9",
   "metadata": {},
   "outputs": [],
   "source": []
  },
  {
   "cell_type": "code",
   "execution_count": null,
   "id": "1d89c5dd-0a62-47c2-bd0a-19046774970c",
   "metadata": {},
   "outputs": [],
   "source": []
  },
  {
   "cell_type": "code",
   "execution_count": null,
   "id": "213e1378-6521-4b56-ab19-7ae793f7108c",
   "metadata": {},
   "outputs": [],
   "source": []
  },
  {
   "cell_type": "code",
   "execution_count": null,
   "id": "9649b30f-1ab4-4014-bc8a-14ed93d57bd1",
   "metadata": {},
   "outputs": [],
   "source": []
  },
  {
   "cell_type": "code",
   "execution_count": null,
   "id": "fcc01be4-1201-4a91-9a9c-5b0f9b37a31d",
   "metadata": {},
   "outputs": [],
   "source": []
  },
  {
   "cell_type": "code",
   "execution_count": null,
   "id": "f68aa10d-c6d7-4a88-aebb-c30147a0a4df",
   "metadata": {},
   "outputs": [],
   "source": []
  },
  {
   "cell_type": "code",
   "execution_count": null,
   "id": "dbd97877-944e-40bb-a657-e181de66fae3",
   "metadata": {},
   "outputs": [],
   "source": []
  },
  {
   "cell_type": "code",
   "execution_count": null,
   "id": "90933b30-e823-4e77-b67a-52913f43854e",
   "metadata": {},
   "outputs": [],
   "source": []
  },
  {
   "cell_type": "code",
   "execution_count": null,
   "id": "1d3790b4-6fa3-411c-a265-03e163cb6efb",
   "metadata": {},
   "outputs": [],
   "source": []
  },
  {
   "cell_type": "code",
   "execution_count": null,
   "id": "676bb439-22e7-4d49-85a4-97b203f766cf",
   "metadata": {},
   "outputs": [],
   "source": []
  },
  {
   "cell_type": "code",
   "execution_count": null,
   "id": "37625ea4-2670-43fb-ab84-c00f8e4efb1b",
   "metadata": {},
   "outputs": [],
   "source": []
  },
  {
   "cell_type": "code",
   "execution_count": null,
   "id": "12e9e806-59c9-45f8-9332-053fe831d0bb",
   "metadata": {},
   "outputs": [],
   "source": []
  },
  {
   "cell_type": "code",
   "execution_count": null,
   "id": "0500453b-a480-4592-9a4b-1578bc7ca438",
   "metadata": {},
   "outputs": [],
   "source": []
  },
  {
   "cell_type": "code",
   "execution_count": null,
   "id": "403ec98c-090b-4da6-ab96-ee023f06d225",
   "metadata": {},
   "outputs": [],
   "source": []
  },
  {
   "cell_type": "code",
   "execution_count": null,
   "id": "27f302a7-3503-49cc-b33e-bee204d2bf1a",
   "metadata": {},
   "outputs": [],
   "source": []
  },
  {
   "cell_type": "code",
   "execution_count": null,
   "id": "1fde821f-aa4b-484b-81db-c9397084989e",
   "metadata": {},
   "outputs": [],
   "source": []
  },
  {
   "cell_type": "code",
   "execution_count": null,
   "id": "bc64bb7d-8705-4ccb-872f-95d47f5b5846",
   "metadata": {},
   "outputs": [],
   "source": []
  },
  {
   "cell_type": "code",
   "execution_count": null,
   "id": "71f07f7d-253e-4411-b371-6da374037e93",
   "metadata": {},
   "outputs": [],
   "source": []
  },
  {
   "cell_type": "code",
   "execution_count": null,
   "id": "f3cc3d57-0da1-4c66-8653-0105802c4aa3",
   "metadata": {},
   "outputs": [],
   "source": []
  },
  {
   "cell_type": "code",
   "execution_count": null,
   "id": "219f4766-83cd-49e6-b835-d80c615c9c9f",
   "metadata": {},
   "outputs": [],
   "source": []
  },
  {
   "cell_type": "code",
   "execution_count": null,
   "id": "c53b08ff-4d53-4359-a0df-79d000e9230e",
   "metadata": {},
   "outputs": [],
   "source": []
  },
  {
   "cell_type": "code",
   "execution_count": null,
   "id": "24600d5f-aaf9-4880-819d-1ceb9a2876d1",
   "metadata": {},
   "outputs": [],
   "source": []
  },
  {
   "cell_type": "code",
   "execution_count": null,
   "id": "9b84afe0-e785-4252-95bd-9921481cc69a",
   "metadata": {},
   "outputs": [],
   "source": []
  },
  {
   "cell_type": "code",
   "execution_count": null,
   "id": "3a98a742-6f47-4555-b827-c9eae7e9ac9f",
   "metadata": {},
   "outputs": [],
   "source": []
  },
  {
   "cell_type": "code",
   "execution_count": null,
   "id": "9cbb59f1-6eb5-4ef5-a1e8-5b651bd290ac",
   "metadata": {},
   "outputs": [],
   "source": []
  },
  {
   "cell_type": "code",
   "execution_count": null,
   "id": "b3bfab3d-d8cb-4476-9b05-cd61ed3d3527",
   "metadata": {},
   "outputs": [],
   "source": []
  },
  {
   "cell_type": "code",
   "execution_count": null,
   "id": "443bff97-75bc-48db-b407-a0d626e020e3",
   "metadata": {},
   "outputs": [],
   "source": []
  },
  {
   "cell_type": "code",
   "execution_count": null,
   "id": "a271e403-fed8-40d0-942f-91d15033b5d1",
   "metadata": {},
   "outputs": [],
   "source": []
  },
  {
   "cell_type": "code",
   "execution_count": null,
   "id": "e6f1df4f-2bd1-4d7c-9fa6-6580def82a4e",
   "metadata": {},
   "outputs": [],
   "source": []
  },
  {
   "cell_type": "code",
   "execution_count": null,
   "id": "be2ebd08-ed22-4659-87aa-8ea5e0dc0020",
   "metadata": {},
   "outputs": [],
   "source": []
  },
  {
   "cell_type": "code",
   "execution_count": null,
   "id": "37f10167-9f5f-4e84-9d06-12c7f9da1d0b",
   "metadata": {},
   "outputs": [],
   "source": []
  },
  {
   "cell_type": "code",
   "execution_count": null,
   "id": "3736e835-00c5-46ae-84c2-efc6b0a2ffe0",
   "metadata": {},
   "outputs": [],
   "source": []
  }
 ],
 "metadata": {
  "kernelspec": {
   "display_name": "Python 3 (ipykernel)",
   "language": "python",
   "name": "python3"
  },
  "language_info": {
   "codemirror_mode": {
    "name": "ipython",
    "version": 3
   },
   "file_extension": ".py",
   "mimetype": "text/x-python",
   "name": "python",
   "nbconvert_exporter": "python",
   "pygments_lexer": "ipython3",
   "version": "3.11.5"
  }
 },
 "nbformat": 4,
 "nbformat_minor": 5
}
