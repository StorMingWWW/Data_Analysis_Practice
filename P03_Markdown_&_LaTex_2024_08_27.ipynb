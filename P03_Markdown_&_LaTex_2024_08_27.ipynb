{
 "cells": [
  {
   "cell_type": "markdown",
   "id": "77a864d1-b063-4cd0-ad7d-19fbd5bdba1b",
   "metadata": {},
   "source": [
    "# # 标题"
   ]
  },
  {
   "cell_type": "markdown",
   "id": "d8e41a07-2567-4919-bf54-deb82b0182c0",
   "metadata": {},
   "source": [
    "# 标题"
   ]
  },
  {
   "cell_type": "code",
   "execution_count": 5,
   "id": "752de501-5ca7-4d28-833d-77112c3ff092",
   "metadata": {
    "jp-MarkdownHeadingCollapsed": true
   },
   "outputs": [],
   "source": [
    "# ## 我是第二大的标题"
   ]
  },
  {
   "cell_type": "markdown",
   "id": "99f1cb6d-57f0-4d20-bb65-93db68d51a8f",
   "metadata": {},
   "source": [
    "## 我是第二大的标题"
   ]
  },
  {
   "cell_type": "code",
   "execution_count": 10,
   "id": "73bb76ef-3e99-4a9c-b464-4f37258b78da",
   "metadata": {
    "jp-MarkdownHeadingCollapsed": true
   },
   "outputs": [],
   "source": [
    "# ### 我是第三大的标题"
   ]
  },
  {
   "cell_type": "markdown",
   "id": "eca575e5-c1b1-4162-9b14-287eb764aa8f",
   "metadata": {},
   "source": [
    "### 我是第三大的标题"
   ]
  },
  {
   "cell_type": "markdown",
   "id": "4a5e36d7-959a-4014-ac56-4bb46080845e",
   "metadata": {},
   "source": [
    "### 我是第三大的标题"
   ]
  },
  {
   "cell_type": "code",
   "execution_count": 11,
   "id": "5049330b-b23e-417c-8a03-3d554fb6e2a7",
   "metadata": {},
   "outputs": [],
   "source": [
    "# #### 我是倒数第三小的标题"
   ]
  },
  {
   "cell_type": "markdown",
   "id": "786f0cbd-716a-4745-879a-d6d10b4c60c8",
   "metadata": {},
   "source": [
    "#### 我是倒数第三小的标题"
   ]
  },
  {
   "cell_type": "code",
   "execution_count": 12,
   "id": "f6122ac9-b630-4829-9123-7c915d3fe175",
   "metadata": {
    "jp-MarkdownHeadingCollapsed": true
   },
   "outputs": [],
   "source": [
    "# ##### 我是倒数第二小的标题"
   ]
  },
  {
   "cell_type": "markdown",
   "id": "af034861-71d3-48df-81db-c3bb0af864e4",
   "metadata": {},
   "source": [
    "##### 我是倒数第二小的标题"
   ]
  },
  {
   "cell_type": "markdown",
   "id": "30a1db1b-324c-4c27-9923-00af55916ea5",
   "metadata": {},
   "source": [
    "##### 我是倒数第二小的标题"
   ]
  },
  {
   "cell_type": "code",
   "execution_count": 13,
   "id": "bd25b7f7-5e59-4d39-ba96-d28194bc249e",
   "metadata": {},
   "outputs": [],
   "source": [
    "# ###### 我是最小的标题"
   ]
  },
  {
   "cell_type": "markdown",
   "id": "f236ed82-1327-4c08-b408-3c4f72c89786",
   "metadata": {},
   "source": [
    "###### 我是最小的标题"
   ]
  },
  {
   "cell_type": "code",
   "execution_count": 7,
   "id": "0899e67e-593b-48ca-90be-bb4857746cef",
   "metadata": {},
   "outputs": [],
   "source": [
    "# 我是**粗体字**"
   ]
  },
  {
   "cell_type": "markdown",
   "id": "e797c72e-c982-4fe0-a2c1-f7c64c18c787",
   "metadata": {},
   "source": [
    "我是**粗体字**"
   ]
  },
  {
   "cell_type": "code",
   "execution_count": 8,
   "id": "a17aba0f-a5f3-4731-91d8-0f7f4ca53449",
   "metadata": {},
   "outputs": [],
   "source": [
    "# 我是*斜体字*"
   ]
  },
  {
   "cell_type": "markdown",
   "id": "b13bf5f0-4d0e-40ff-b816-73a6a0d6d000",
   "metadata": {},
   "source": [
    "我是*斜体字*"
   ]
  },
  {
   "cell_type": "code",
   "execution_count": 9,
   "id": "1d4605c1-33ed-4a95-9974-66d24f0582b1",
   "metadata": {},
   "outputs": [],
   "source": [
    "# 我被~删除~了"
   ]
  },
  {
   "cell_type": "markdown",
   "id": "793ad66f-299a-4134-8a45-be342efa9b63",
   "metadata": {},
   "source": [
    "我被~删除~了"
   ]
  },
  {
   "cell_type": "code",
   "execution_count": 14,
   "id": "c3feb028-271f-46b7-99bf-61602b1391b1",
   "metadata": {},
   "outputs": [],
   "source": [
    "# 我是普普通通的文字\n",
    "\n",
    "# 我是另一行的普通文字"
   ]
  },
  {
   "cell_type": "markdown",
   "id": "187c3f2f-582a-4aab-8a94-4e7ba7a8ebc4",
   "metadata": {},
   "source": [
    "我是普普通通的文字\n",
    "\n",
    "我是另一行的普通文字"
   ]
  },
  {
   "cell_type": "code",
   "execution_count": 15,
   "id": "009e1ed6-9deb-4b16-bf1d-06c83dd9c61f",
   "metadata": {},
   "outputs": [],
   "source": [
    "# 我是普普通通的文字\n",
    "# 我是另一行的普通文字"
   ]
  },
  {
   "cell_type": "markdown",
   "id": "a82d399d-e4c2-452f-8d4d-70eddd4ebed3",
   "metadata": {},
   "source": [
    "我是普普通通的文字\n",
    "我是另一行的普通文字"
   ]
  },
  {
   "cell_type": "code",
   "execution_count": 16,
   "id": "2d80958a-b5cb-4c84-bf81-4d002c11d675",
   "metadata": {},
   "outputs": [],
   "source": [
    "# - 我是列表的第一项\n",
    "# - 我是列表的第二项\n",
    "# - 我是列表的第三项"
   ]
  },
  {
   "cell_type": "markdown",
   "id": "16f2f9b8-742c-4b5f-a80f-8b094f2d2536",
   "metadata": {},
   "source": [
    "- 我是列表的第一项\n",
    "- 我是列表的第二项\n",
    "- 我是列表的第三项"
   ]
  },
  {
   "cell_type": "code",
   "execution_count": 17,
   "id": "6a0875cf-8b67-45f4-9930-91bd12390c12",
   "metadata": {},
   "outputs": [],
   "source": [
    "# 1. 我是列表的第一项\n",
    "# 2. 我是列表的第二项\n",
    "# 3. 我是列表的第三项"
   ]
  },
  {
   "cell_type": "markdown",
   "id": "3ecc52f1-d65c-4549-b6d7-e0d0d2191a72",
   "metadata": {},
   "source": [
    "1. 我是列表的第一项\n",
    "2. 我是列表的第二项\n",
    "3. 我是列表的第三项"
   ]
  },
  {
   "cell_type": "code",
   "execution_count": 18,
   "id": "274385e9-8b75-4d0e-ba10-34ce4894e4f5",
   "metadata": {},
   "outputs": [],
   "source": [
    "# [我的主页地址](https://space.bilibili.com/253995133)"
   ]
  },
  {
   "cell_type": "markdown",
   "id": "4b160056-599b-48ec-832b-853f207eb2d0",
   "metadata": {},
   "source": [
    "[我的主页地址](https://space.bilibili.com/253995133)"
   ]
  },
  {
   "cell_type": "code",
   "execution_count": 19,
   "id": "d2315049-308a-4c78-9b91-cf5a51209abf",
   "metadata": {},
   "outputs": [],
   "source": [
    "# ![城市景观](https://img0.baidu.com/it/u=25183460,870873689&fm=253)"
   ]
  },
  {
   "cell_type": "markdown",
   "id": "93bbc78c-127f-484e-b9a8-fb0784bacd04",
   "metadata": {},
   "source": [
    "![城市景观](https://img0.baidu.com/it/u=25183460,870873689&fm=253)"
   ]
  },
  {
   "cell_type": "code",
   "execution_count": 23,
   "id": "02311d47-c34d-46e6-a85b-a0c53ea54961",
   "metadata": {},
   "outputs": [
    {
     "data": {
      "text/plain": [
       "'\\n>蒹葭苍苍\\n白露为霜\\n'"
      ]
     },
     "execution_count": 23,
     "metadata": {},
     "output_type": "execute_result"
    }
   ],
   "source": [
    "\"\"\"\n",
    ">蒹葭苍苍\n",
    "白露为霜\n",
    "\"\"\""
   ]
  },
  {
   "cell_type": "markdown",
   "id": "4a812b8e-288d-4066-be7d-7550ae8da8d8",
   "metadata": {},
   "source": [
    ">蒹葭苍苍\n",
    "白露为霜"
   ]
  },
  {
   "cell_type": "code",
   "execution_count": 24,
   "id": "e3ead026-d0d0-4f68-8009-b81b55094f1f",
   "metadata": {},
   "outputs": [
    {
     "data": {
      "text/plain": [
       "'\\n>蒹葭苍苍  \\n白露为霜\\n'"
      ]
     },
     "execution_count": 24,
     "metadata": {},
     "output_type": "execute_result"
    }
   ],
   "source": [
    "\"\"\"\n",
    ">蒹葭苍苍  \n",
    "白露为霜\n",
    "\"\"\""
   ]
  },
  {
   "cell_type": "markdown",
   "id": "3b4fd64e-73db-4a74-ad36-179719d9bfea",
   "metadata": {},
   "source": [
    ">蒹葭苍苍  \n",
    "白露为霜"
   ]
  },
  {
   "cell_type": "code",
   "execution_count": 25,
   "id": "0a0667b7-0301-478f-9a47-2c877df88dbb",
   "metadata": {
    "jupyter": {
     "source_hidden": true
    }
   },
   "outputs": [
    {
     "data": {
      "text/plain": [
       "'\\n我们通过`import math`来引入math库\\n'"
      ]
     },
     "execution_count": 25,
     "metadata": {},
     "output_type": "execute_result"
    }
   ],
   "source": [
    "\"\"\"\n",
    "我们通过`import math`来引入math库\n",
    "\"\"\""
   ]
  },
  {
   "cell_type": "markdown",
   "id": "f21964e0-e318-4e2f-b860-d19e38854fa9",
   "metadata": {},
   "source": [
    "我们通过`import math`来引入math库"
   ]
  },
  {
   "cell_type": "code",
   "execution_count": 26,
   "id": "8a8d6b4c-401b-42f4-9ede-9e585389f8f4",
   "metadata": {},
   "outputs": [
    {
     "data": {
      "text/plain": [
       "'\\n```\\nimport math\\nprint(\"Hello World! \")\\nprint(math.pl)\\n```\\n'"
      ]
     },
     "execution_count": 26,
     "metadata": {},
     "output_type": "execute_result"
    }
   ],
   "source": [
    "\"\"\"\n",
    "```\n",
    "import math\n",
    "print(\"Hello World! \")\n",
    "print(math.pl)\n",
    "```\n",
    "\"\"\""
   ]
  },
  {
   "cell_type": "markdown",
   "id": "c82614ad-b5e0-4220-893b-44ab587fbe85",
   "metadata": {},
   "source": [
    "```\n",
    "import math\n",
    "print(\"Hello World! \")\n",
    "print(math.pl)\n",
    "```"
   ]
  },
  {
   "cell_type": "code",
   "execution_count": 27,
   "id": "62219f62-4ee2-48fe-9bcb-3021ce2d9cb1",
   "metadata": {},
   "outputs": [
    {
     "data": {
      "text/plain": [
       "'\\n使用公式:\\nr = n * (sum(x * y)) - sum(x) * sum(y)\\n/ (sqrt((n * sum(x ^ 2) - (sum(x) ^ 2)) * (n * sum(y ^ 2)- (sum(y))^ 2)))\\n'"
      ]
     },
     "execution_count": 27,
     "metadata": {},
     "output_type": "execute_result"
    }
   ],
   "source": [
    "\"\"\"\n",
    "使用公式:\n",
    "$r = n * (sum(x * y)) - sum(x) * sum(y)\n",
    "/ (sqrt((n * sum(x ^ 2) - (sum(x) ^ 2)) * (n * sum(y ^ 2)- (sum(y))^ 2)))$\n",
    "\"\"\""
   ]
  },
  {
   "cell_type": "markdown",
   "id": "336e0ab8-0a6f-4a4a-9c25-7c95f2b149c9",
   "metadata": {},
   "source": [
    "$r = n * (sum(x * y)) - sum(x) * sum(y)\n",
    "/ (sqrt((n * sum(x ^ 2) - (sum(x) ^ 2)) * (n * sum(y ^ 2)- (sum(y))^ 2)))$"
   ]
  },
  {
   "cell_type": "code",
   "execution_count": 28,
   "id": "da5000fd-62c6-4101-894e-c8d358a11254",
   "metadata": {},
   "outputs": [
    {
     "data": {
      "text/plain": [
       "'\\n这是一个公式: $y = x + 3$\\n'"
      ]
     },
     "execution_count": 28,
     "metadata": {},
     "output_type": "execute_result"
    }
   ],
   "source": [
    "\"\"\"\n",
    "这是一个公式: $y = x + 3$\n",
    "\"\"\""
   ]
  },
  {
   "cell_type": "markdown",
   "id": "20d80c95-bde7-40eb-b6c7-718d78199435",
   "metadata": {},
   "source": [
    "这是一个公式: $y = x + 3$"
   ]
  },
  {
   "cell_type": "code",
   "execution_count": 29,
   "id": "a1ba3a13-80fe-4e70-8da0-e92de9c44fec",
   "metadata": {},
   "outputs": [
    {
     "data": {
      "text/plain": [
       "'\\n下面是一行独占的公式: $$y = x + 3$$\\n'"
      ]
     },
     "execution_count": 29,
     "metadata": {},
     "output_type": "execute_result"
    }
   ],
   "source": [
    "\"\"\"\n",
    "下面是一行独占的公式: $$y = x + 3$$\n",
    "\"\"\""
   ]
  },
  {
   "cell_type": "markdown",
   "id": "da3a819c-8e79-4c70-8206-c566aa1c14f5",
   "metadata": {},
   "source": [
    "下面是一行独占的公式: $$y = x + 3$$"
   ]
  },
  {
   "cell_type": "code",
   "execution_count": 30,
   "id": "bf7fcea9-2312-4a87-b4b4-030ff1a49b5e",
   "metadata": {},
   "outputs": [
    {
     "data": {
      "text/plain": [
       "'\\n$$x + y$$\\n$$x - y$$\\n$$x \\times y$$\\n$$x \\\\div y$$ \\n'"
      ]
     },
     "execution_count": 30,
     "metadata": {},
     "output_type": "execute_result"
    }
   ],
   "source": [
    "\"\"\"\n",
    "$$x + y$$\n",
    "$$x - y$$\n",
    "$$x \\times y$$\n",
    "$$x \\div y$$ \n",
    "\"\"\""
   ]
  },
  {
   "cell_type": "markdown",
   "id": "06f18699-8075-4ee2-9995-1fc216da5534",
   "metadata": {},
   "source": [
    "$$x + y$$\n",
    "$$x - y$$\n",
    "$$x \\times y$$\n",
    "$$x \\div y$$ "
   ]
  },
  {
   "cell_type": "markdown",
   "id": "d6ba6cd3-a367-4688-8a2f-e336a0f30aca",
   "metadata": {},
   "source": [
    "\"\"\"\n",
    "$$x ^ 3$$\n",
    "$$x^3$$\n",
    "$$H_2O$$\n",
    "$$s_{input}$$\n",
    "\"\"\""
   ]
  },
  {
   "cell_type": "markdown",
   "id": "42e956a6-cdd9-40f5-98a8-52b9a32a7c71",
   "metadata": {},
   "source": [
    "$$x ^ 3$$\n",
    "$$x^3$$\n",
    "$$H_2O$$\n",
    "$$s_{input}$$"
   ]
  },
  {
   "cell_type": "code",
   "execution_count": 33,
   "id": "e0476af3-f8f6-45fd-b0a2-d5fd18f5b69c",
   "metadata": {},
   "outputs": [
    {
     "data": {
      "text/plain": [
       "'\\n$$\\\\sum (x^2 + y^2)$$\\n$$\\\\sqrt[3]x$$\\n$$\\\\sqrt[3]{a^2m^2}$$\\n'"
      ]
     },
     "execution_count": 33,
     "metadata": {},
     "output_type": "execute_result"
    }
   ],
   "source": [
    "\"\"\"\n",
    "$$\\sum (x^2 + y^2)$$\n",
    "$$\\sqrt[3]x$$\n",
    "$$\\sqrt[3]{a^2m^2}$$\n",
    "\"\"\""
   ]
  },
  {
   "cell_type": "markdown",
   "id": "e2aa7c2a-d24d-4be7-97f6-947f999fe766",
   "metadata": {},
   "source": [
    "$$\\sum (x^2 + y^2)$$\n",
    "$$\\sqrt[3]x$$\n",
    "$$\\sqrt[3]{a^2m^2}$$"
   ]
  },
  {
   "cell_type": "code",
   "execution_count": 34,
   "id": "beff4172-2a2d-4e83-bcdd-e7f2d5d73971",
   "metadata": {},
   "outputs": [
    {
     "data": {
      "text/plain": [
       "'\\n$$\\\\sqrt[3]{a^2m^2}$$\\n$$\\\\sqrt[3]a^2m^2$$\\n'"
      ]
     },
     "execution_count": 34,
     "metadata": {},
     "output_type": "execute_result"
    }
   ],
   "source": [
    "\"\"\"\n",
    "$$\\sqrt[3]{a^2m^2}$$\n",
    "$$\\sqrt[3]a^2m^2$$\n",
    "\"\"\""
   ]
  },
  {
   "cell_type": "markdown",
   "id": "5295b0dd-6ad0-445b-b0fc-a351e72541ff",
   "metadata": {},
   "source": [
    "$$\\sqrt[3]{a^2m^2}$$\n",
    "$$\\sqrt[3]a^2m^2$$"
   ]
  },
  {
   "cell_type": "code",
   "execution_count": 35,
   "id": "f8b570e3-39f5-4301-9e2f-59767b2d13df",
   "metadata": {},
   "outputs": [
    {
     "data": {
      "text/plain": [
       "'\\n$$\\x0crac{x + y}{x - y}$$\\n'"
      ]
     },
     "execution_count": 35,
     "metadata": {},
     "output_type": "execute_result"
    }
   ],
   "source": [
    "\"\"\"\n",
    "$$\\frac{x + y}{x - y}$$\n",
    "\"\"\""
   ]
  },
  {
   "cell_type": "markdown",
   "id": "a29a2d33-da69-4e46-b14c-ff089e82261e",
   "metadata": {},
   "source": [
    "$$\\frac{x + y}{x - y}$$"
   ]
  },
  {
   "cell_type": "markdown",
   "id": "191d8481-cda6-4b7a-9686-1d4c0a9d68df",
   "metadata": {},
   "source": [
    "\"\"\"\n",
    "\n",
    "\"\"\""
   ]
  },
  {
   "cell_type": "code",
   "execution_count": null,
   "id": "906532a9-8f4d-473e-a364-e1a9969a6ca7",
   "metadata": {},
   "outputs": [],
   "source": []
  }
 ],
 "metadata": {
  "kernelspec": {
   "display_name": "Python 3 (ipykernel)",
   "language": "python",
   "name": "python3"
  },
  "language_info": {
   "codemirror_mode": {
    "name": "ipython",
    "version": 3
   },
   "file_extension": ".py",
   "mimetype": "text/x-python",
   "name": "python",
   "nbconvert_exporter": "python",
   "pygments_lexer": "ipython3",
   "version": "3.11.5"
  }
 },
 "nbformat": 4,
 "nbformat_minor": 5
}
