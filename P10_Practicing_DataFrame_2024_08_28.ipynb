{
 "cells": [
  {
   "cell_type": "markdown",
   "id": "f51f193b-8e14-4659-ab84-4ed4aa07af57",
   "metadata": {},
   "source": [
    "写入导入 pandas 的语句， 并且给 pandas 别名为 `pd`。"
   ]
  },
  {
   "cell_type": "code",
   "execution_count": 1,
   "id": "2840e715-0efc-4e3e-b5d7-f357fca0d3d4",
   "metadata": {},
   "outputs": [],
   "source": [
    "import pandas as pd"
   ]
  },
  {
   "cell_type": "markdown",
   "id": "7570f782-3f25-4786-a0c5-5ab2a587bd00",
   "metadata": {},
   "source": [
    "创建一个叫 `Name` 的 Series， 里面包含字符串元素 `\"孙哥\", \"黄哥\", \"翘兔\", \"sed老师\", \"狗处\", \"死矮子\"` ， 标签为 `\"001\", \"002\", \"003\", \"004\", \"005\", \"006\"` 。\n",
    "\n",
    "创建一个叫 `Gender` 的 Series， 里面包含字符串元素 `\"女\", \"女\", \"男\", \"男\", \"女\", \"男\"` ， 标签为 `\"006\", \"005\", \"004\", \"003\", \"002\", \"001\"` 。\n",
    "\n",
    "创建一个叫 `Height` 的 Series， 里面包含字符串元素 `172.5, 168.0, 178.2, 181.3, 161.7` ， 标签为 `\"001\", \"002\", \"003\", \"004\", \"005\"` 。"
   ]
  },
  {
   "cell_type": "code",
   "execution_count": 2,
   "id": "477348dc-1ea9-4255-9406-a4665eb6b398",
   "metadata": {},
   "outputs": [],
   "source": [
    "Name = pd.Series([\"孙哥\", \"黄哥\", \"翘兔\", \"sed老师\", \"狗处\", \"死矮子\"],\n",
    "                index = [\"001\", \"002\", \"003\", \"004\", \"005\", \"006\"])\n",
    "Gender = pd.Series([\"女\", \"女\", \"男\", \"男\", \"女\", \"男\"],\n",
    "                index = [\"006\", \"005\", \"004\", \"003\", \"002\", \"001\"])\n",
    "Height = pd.Series([172.5, 168.0, 178.2, 181.3, 161.7],\n",
    "                index = [\"001\", \"002\", \"003\", \"004\", \"005\"])"
   ]
  },
  {
   "cell_type": "markdown",
   "id": "6fd93d92-3552-4ebe-aecc-12654a6b01ab",
   "metadata": {},
   "source": [
    "创建一个名叫`Students`的`DataFrame`, 包含列名姓名、性别、身高，数据分别对应创建好的`Name`、`Gender`、以及`Height`这三个Series，输出创建好的`Students`。"
   ]
  },
  {
   "cell_type": "code",
   "execution_count": 3,
   "id": "b7293f35-9d41-4a88-bb43-4b0103cf47a5",
   "metadata": {},
   "outputs": [
    {
     "data": {
      "text/html": [
       "<div>\n",
       "<style scoped>\n",
       "    .dataframe tbody tr th:only-of-type {\n",
       "        vertical-align: middle;\n",
       "    }\n",
       "\n",
       "    .dataframe tbody tr th {\n",
       "        vertical-align: top;\n",
       "    }\n",
       "\n",
       "    .dataframe thead th {\n",
       "        text-align: right;\n",
       "    }\n",
       "</style>\n",
       "<table border=\"1\" class=\"dataframe\">\n",
       "  <thead>\n",
       "    <tr style=\"text-align: right;\">\n",
       "      <th></th>\n",
       "      <th>姓名</th>\n",
       "      <th>性别</th>\n",
       "      <th>身高</th>\n",
       "    </tr>\n",
       "  </thead>\n",
       "  <tbody>\n",
       "    <tr>\n",
       "      <th>001</th>\n",
       "      <td>孙哥</td>\n",
       "      <td>男</td>\n",
       "      <td>172.5</td>\n",
       "    </tr>\n",
       "    <tr>\n",
       "      <th>002</th>\n",
       "      <td>黄哥</td>\n",
       "      <td>女</td>\n",
       "      <td>168.0</td>\n",
       "    </tr>\n",
       "    <tr>\n",
       "      <th>003</th>\n",
       "      <td>翘兔</td>\n",
       "      <td>男</td>\n",
       "      <td>178.2</td>\n",
       "    </tr>\n",
       "    <tr>\n",
       "      <th>004</th>\n",
       "      <td>sed老师</td>\n",
       "      <td>男</td>\n",
       "      <td>181.3</td>\n",
       "    </tr>\n",
       "    <tr>\n",
       "      <th>005</th>\n",
       "      <td>狗处</td>\n",
       "      <td>女</td>\n",
       "      <td>161.7</td>\n",
       "    </tr>\n",
       "    <tr>\n",
       "      <th>006</th>\n",
       "      <td>死矮子</td>\n",
       "      <td>女</td>\n",
       "      <td>NaN</td>\n",
       "    </tr>\n",
       "  </tbody>\n",
       "</table>\n",
       "</div>"
      ],
      "text/plain": [
       "        姓名 性别     身高\n",
       "001     孙哥  男  172.5\n",
       "002     黄哥  女  168.0\n",
       "003     翘兔  男  178.2\n",
       "004  sed老师  男  181.3\n",
       "005     狗处  女  161.7\n",
       "006    死矮子  女    NaN"
      ]
     },
     "execution_count": 3,
     "metadata": {},
     "output_type": "execute_result"
    }
   ],
   "source": [
    "Students = pd.DataFrame({\"姓名\": Name, \"性别\": Gender, \"身高\": Height})\n",
    "Students"
   ]
  },
  {
   "cell_type": "markdown",
   "id": "c8d10a52-f74c-43c2-af78-1df9389804b2",
   "metadata": {},
   "source": [
    "打印`Students`所有索引和列名。"
   ]
  },
  {
   "cell_type": "code",
   "execution_count": 4,
   "id": "0e63dfb5-a017-4b3a-892d-2d849725480a",
   "metadata": {},
   "outputs": [
    {
     "name": "stdout",
     "output_type": "stream",
     "text": [
      "Index(['001', '002', '003', '004', '005', '006'], dtype='object')\n",
      "Index(['姓名', '性别', '身高'], dtype='object')\n"
     ]
    }
   ],
   "source": [
    "print(Students.index)\n",
    "print(Students.columns)"
   ]
  },
  {
   "cell_type": "markdown",
   "id": "ac0d6fd6-bbf7-467f-b885-36a41973f3e0",
   "metadata": {},
   "source": [
    "输出`Students`的行和列进行转置后的结果。"
   ]
  },
  {
   "cell_type": "code",
   "execution_count": 5,
   "id": "4193ec2d-274e-4153-a97c-d67eb05dde47",
   "metadata": {},
   "outputs": [
    {
     "data": {
      "text/html": [
       "<div>\n",
       "<style scoped>\n",
       "    .dataframe tbody tr th:only-of-type {\n",
       "        vertical-align: middle;\n",
       "    }\n",
       "\n",
       "    .dataframe tbody tr th {\n",
       "        vertical-align: top;\n",
       "    }\n",
       "\n",
       "    .dataframe thead th {\n",
       "        text-align: right;\n",
       "    }\n",
       "</style>\n",
       "<table border=\"1\" class=\"dataframe\">\n",
       "  <thead>\n",
       "    <tr style=\"text-align: right;\">\n",
       "      <th></th>\n",
       "      <th>001</th>\n",
       "      <th>002</th>\n",
       "      <th>003</th>\n",
       "      <th>004</th>\n",
       "      <th>005</th>\n",
       "      <th>006</th>\n",
       "    </tr>\n",
       "  </thead>\n",
       "  <tbody>\n",
       "    <tr>\n",
       "      <th>姓名</th>\n",
       "      <td>孙哥</td>\n",
       "      <td>黄哥</td>\n",
       "      <td>翘兔</td>\n",
       "      <td>sed老师</td>\n",
       "      <td>狗处</td>\n",
       "      <td>死矮子</td>\n",
       "    </tr>\n",
       "    <tr>\n",
       "      <th>性别</th>\n",
       "      <td>男</td>\n",
       "      <td>女</td>\n",
       "      <td>男</td>\n",
       "      <td>男</td>\n",
       "      <td>女</td>\n",
       "      <td>女</td>\n",
       "    </tr>\n",
       "    <tr>\n",
       "      <th>身高</th>\n",
       "      <td>172.5</td>\n",
       "      <td>168.0</td>\n",
       "      <td>178.2</td>\n",
       "      <td>181.3</td>\n",
       "      <td>161.7</td>\n",
       "      <td>NaN</td>\n",
       "    </tr>\n",
       "  </tbody>\n",
       "</table>\n",
       "</div>"
      ],
      "text/plain": [
       "      001    002    003    004    005  006\n",
       "姓名     孙哥     黄哥     翘兔  sed老师     狗处  死矮子\n",
       "性别      男      女      男      男      女    女\n",
       "身高  172.5  168.0  178.2  181.3  161.7  NaN"
      ]
     },
     "execution_count": 5,
     "metadata": {},
     "output_type": "execute_result"
    }
   ],
   "source": [
    "Students.T"
   ]
  },
  {
   "cell_type": "markdown",
   "id": "2e5ee895-f1d1-4f8c-afd1-43c510c056f8",
   "metadata": {},
   "source": [
    "输出`Students`的身高列。"
   ]
  },
  {
   "cell_type": "code",
   "execution_count": 6,
   "id": "5440b7a8-4c98-49a0-9421-92f5dcb40c36",
   "metadata": {},
   "outputs": [
    {
     "data": {
      "text/plain": [
       "001    172.5\n",
       "002    168.0\n",
       "003    178.2\n",
       "004    181.3\n",
       "005    161.7\n",
       "006      NaN\n",
       "Name: 身高, dtype: float64"
      ]
     },
     "execution_count": 6,
     "metadata": {},
     "output_type": "execute_result"
    }
   ],
   "source": [
    "Students.身高"
   ]
  },
  {
   "cell_type": "code",
   "execution_count": 7,
   "id": "30935746-1074-4971-9b6b-18c01d208638",
   "metadata": {},
   "outputs": [
    {
     "data": {
      "text/plain": [
       "001    172.5\n",
       "002    168.0\n",
       "003    178.2\n",
       "004    181.3\n",
       "005    161.7\n",
       "006      NaN\n",
       "Name: 身高, dtype: float64"
      ]
     },
     "execution_count": 7,
     "metadata": {},
     "output_type": "execute_result"
    }
   ],
   "source": [
    "Students[\"身高\"]"
   ]
  },
  {
   "cell_type": "markdown",
   "id": "78f1755f-1d84-46b5-b540-916f1c73fc16",
   "metadata": {},
   "source": [
    "输出`Students`的性别和身高列。"
   ]
  },
  {
   "cell_type": "code",
   "execution_count": 8,
   "id": "46df7775-a661-4d58-aceb-9da756afa037",
   "metadata": {},
   "outputs": [
    {
     "data": {
      "text/html": [
       "<div>\n",
       "<style scoped>\n",
       "    .dataframe tbody tr th:only-of-type {\n",
       "        vertical-align: middle;\n",
       "    }\n",
       "\n",
       "    .dataframe tbody tr th {\n",
       "        vertical-align: top;\n",
       "    }\n",
       "\n",
       "    .dataframe thead th {\n",
       "        text-align: right;\n",
       "    }\n",
       "</style>\n",
       "<table border=\"1\" class=\"dataframe\">\n",
       "  <thead>\n",
       "    <tr style=\"text-align: right;\">\n",
       "      <th></th>\n",
       "      <th>性别</th>\n",
       "      <th>身高</th>\n",
       "    </tr>\n",
       "  </thead>\n",
       "  <tbody>\n",
       "    <tr>\n",
       "      <th>001</th>\n",
       "      <td>男</td>\n",
       "      <td>172.5</td>\n",
       "    </tr>\n",
       "    <tr>\n",
       "      <th>002</th>\n",
       "      <td>女</td>\n",
       "      <td>168.0</td>\n",
       "    </tr>\n",
       "    <tr>\n",
       "      <th>003</th>\n",
       "      <td>男</td>\n",
       "      <td>178.2</td>\n",
       "    </tr>\n",
       "    <tr>\n",
       "      <th>004</th>\n",
       "      <td>男</td>\n",
       "      <td>181.3</td>\n",
       "    </tr>\n",
       "    <tr>\n",
       "      <th>005</th>\n",
       "      <td>女</td>\n",
       "      <td>161.7</td>\n",
       "    </tr>\n",
       "    <tr>\n",
       "      <th>006</th>\n",
       "      <td>女</td>\n",
       "      <td>NaN</td>\n",
       "    </tr>\n",
       "  </tbody>\n",
       "</table>\n",
       "</div>"
      ],
      "text/plain": [
       "    性别     身高\n",
       "001  男  172.5\n",
       "002  女  168.0\n",
       "003  男  178.2\n",
       "004  男  181.3\n",
       "005  女  161.7\n",
       "006  女    NaN"
      ]
     },
     "execution_count": 8,
     "metadata": {},
     "output_type": "execute_result"
    }
   ],
   "source": [
    "Students[[\"性别\", \"身高\"]]"
   ]
  },
  {
   "cell_type": "markdown",
   "id": "711ba679-51d9-4fb1-9515-eacb22acec42",
   "metadata": {},
   "source": [
    "输出`Students`索引为 003 的行。"
   ]
  },
  {
   "cell_type": "code",
   "execution_count": 9,
   "id": "b8d0eb26-515b-45cd-b1e2-a22fb8695272",
   "metadata": {},
   "outputs": [
    {
     "data": {
      "text/plain": [
       "姓名       翘兔\n",
       "性别        男\n",
       "身高    178.2\n",
       "Name: 003, dtype: object"
      ]
     },
     "execution_count": 9,
     "metadata": {},
     "output_type": "execute_result"
    }
   ],
   "source": [
    "Students.loc[\"003\"]"
   ]
  },
  {
   "cell_type": "markdown",
   "id": "6ce0b6e6-f21d-446d-953c-226c336656b7",
   "metadata": {},
   "source": [
    "输出 `Students`索引为 003、004、005 的行。"
   ]
  },
  {
   "cell_type": "code",
   "execution_count": 10,
   "id": "e3875136-4388-4586-a5ef-d73bbfd63414",
   "metadata": {},
   "outputs": [
    {
     "data": {
      "text/html": [
       "<div>\n",
       "<style scoped>\n",
       "    .dataframe tbody tr th:only-of-type {\n",
       "        vertical-align: middle;\n",
       "    }\n",
       "\n",
       "    .dataframe tbody tr th {\n",
       "        vertical-align: top;\n",
       "    }\n",
       "\n",
       "    .dataframe thead th {\n",
       "        text-align: right;\n",
       "    }\n",
       "</style>\n",
       "<table border=\"1\" class=\"dataframe\">\n",
       "  <thead>\n",
       "    <tr style=\"text-align: right;\">\n",
       "      <th></th>\n",
       "      <th>姓名</th>\n",
       "      <th>性别</th>\n",
       "      <th>身高</th>\n",
       "    </tr>\n",
       "  </thead>\n",
       "  <tbody>\n",
       "    <tr>\n",
       "      <th>003</th>\n",
       "      <td>翘兔</td>\n",
       "      <td>男</td>\n",
       "      <td>178.2</td>\n",
       "    </tr>\n",
       "    <tr>\n",
       "      <th>004</th>\n",
       "      <td>sed老师</td>\n",
       "      <td>男</td>\n",
       "      <td>181.3</td>\n",
       "    </tr>\n",
       "    <tr>\n",
       "      <th>005</th>\n",
       "      <td>狗处</td>\n",
       "      <td>女</td>\n",
       "      <td>161.7</td>\n",
       "    </tr>\n",
       "  </tbody>\n",
       "</table>\n",
       "</div>"
      ],
      "text/plain": [
       "        姓名 性别     身高\n",
       "003     翘兔  男  178.2\n",
       "004  sed老师  男  181.3\n",
       "005     狗处  女  161.7"
      ]
     },
     "execution_count": 10,
     "metadata": {},
     "output_type": "execute_result"
    }
   ],
   "source": [
    "Students.loc[\"003\": \"005\"]"
   ]
  },
  {
   "cell_type": "markdown",
   "id": "483a7ead-28cc-403a-81ab-e6fce0d2d828",
   "metadata": {},
   "source": [
    "输出`Students`里索引为 005 的身高。"
   ]
  },
  {
   "cell_type": "code",
   "execution_count": 11,
   "id": "de036125-f79b-468b-b476-5c1b7b28be07",
   "metadata": {},
   "outputs": [
    {
     "data": {
      "text/plain": [
       "np.float64(161.7)"
      ]
     },
     "execution_count": 11,
     "metadata": {},
     "output_type": "execute_result"
    }
   ],
   "source": [
    "Students.loc[\"005\", \"身高\"]"
   ]
  },
  {
   "cell_type": "markdown",
   "id": "7f84b43c-5775-429e-a8e5-4fdd4e4c7aa7",
   "metadata": {},
   "source": [
    "输出`Students`索引为003、005的数据的姓名和身高。"
   ]
  },
  {
   "cell_type": "code",
   "execution_count": 12,
   "id": "b4fb6299-351a-45f3-8d55-17d0bea4f42c",
   "metadata": {},
   "outputs": [
    {
     "data": {
      "text/html": [
       "<div>\n",
       "<style scoped>\n",
       "    .dataframe tbody tr th:only-of-type {\n",
       "        vertical-align: middle;\n",
       "    }\n",
       "\n",
       "    .dataframe tbody tr th {\n",
       "        vertical-align: top;\n",
       "    }\n",
       "\n",
       "    .dataframe thead th {\n",
       "        text-align: right;\n",
       "    }\n",
       "</style>\n",
       "<table border=\"1\" class=\"dataframe\">\n",
       "  <thead>\n",
       "    <tr style=\"text-align: right;\">\n",
       "      <th></th>\n",
       "      <th>姓名</th>\n",
       "      <th>身高</th>\n",
       "    </tr>\n",
       "  </thead>\n",
       "  <tbody>\n",
       "    <tr>\n",
       "      <th>003</th>\n",
       "      <td>翘兔</td>\n",
       "      <td>178.2</td>\n",
       "    </tr>\n",
       "    <tr>\n",
       "      <th>005</th>\n",
       "      <td>狗处</td>\n",
       "      <td>161.7</td>\n",
       "    </tr>\n",
       "  </tbody>\n",
       "</table>\n",
       "</div>"
      ],
      "text/plain": [
       "     姓名     身高\n",
       "003  翘兔  178.2\n",
       "005  狗处  161.7"
      ]
     },
     "execution_count": 12,
     "metadata": {},
     "output_type": "execute_result"
    }
   ],
   "source": [
    "Students.loc[[\"003\", \"005\"],[\"姓名\", \"身高\"]]"
   ]
  },
  {
   "cell_type": "markdown",
   "id": "8f8cbfb4-a90c-448b-91c4-c049af302382",
   "metadata": {},
   "source": [
    "输出`Students`索引为003、005的数据的所有变量。"
   ]
  },
  {
   "cell_type": "code",
   "execution_count": 14,
   "id": "be5e65bb-0799-4a59-a9e5-07fe24bc0b4f",
   "metadata": {},
   "outputs": [
    {
     "data": {
      "text/html": [
       "<div>\n",
       "<style scoped>\n",
       "    .dataframe tbody tr th:only-of-type {\n",
       "        vertical-align: middle;\n",
       "    }\n",
       "\n",
       "    .dataframe tbody tr th {\n",
       "        vertical-align: top;\n",
       "    }\n",
       "\n",
       "    .dataframe thead th {\n",
       "        text-align: right;\n",
       "    }\n",
       "</style>\n",
       "<table border=\"1\" class=\"dataframe\">\n",
       "  <thead>\n",
       "    <tr style=\"text-align: right;\">\n",
       "      <th></th>\n",
       "      <th>姓名</th>\n",
       "      <th>性别</th>\n",
       "      <th>身高</th>\n",
       "    </tr>\n",
       "  </thead>\n",
       "  <tbody>\n",
       "    <tr>\n",
       "      <th>003</th>\n",
       "      <td>翘兔</td>\n",
       "      <td>男</td>\n",
       "      <td>178.2</td>\n",
       "    </tr>\n",
       "    <tr>\n",
       "      <th>005</th>\n",
       "      <td>狗处</td>\n",
       "      <td>女</td>\n",
       "      <td>161.7</td>\n",
       "    </tr>\n",
       "  </tbody>\n",
       "</table>\n",
       "</div>"
      ],
      "text/plain": [
       "     姓名 性别     身高\n",
       "003  翘兔  男  178.2\n",
       "005  狗处  女  161.7"
      ]
     },
     "execution_count": 14,
     "metadata": {},
     "output_type": "execute_result"
    }
   ],
   "source": [
    "Students.loc[[\"003\", \"005\"],:]"
   ]
  },
  {
   "cell_type": "markdown",
   "id": "eca48f3b-2901-4453-8c8d-44ce4ff5929a",
   "metadata": {},
   "source": [
    "输出`Students`里身高大于165的女性。"
   ]
  },
  {
   "cell_type": "code",
   "execution_count": 16,
   "id": "6a4bff9a-27e1-4498-9136-fe345225a398",
   "metadata": {},
   "outputs": [
    {
     "data": {
      "text/plain": [
       "001     True\n",
       "002     True\n",
       "003     True\n",
       "004     True\n",
       "005    False\n",
       "006    False\n",
       "Name: 身高, dtype: bool"
      ]
     },
     "execution_count": 16,
     "metadata": {},
     "output_type": "execute_result"
    }
   ],
   "source": [
    "Students[\"身高\"] > 165"
   ]
  },
  {
   "cell_type": "code",
   "execution_count": 17,
   "id": "44d5504f-e744-4d40-9c01-b36459f6de98",
   "metadata": {},
   "outputs": [
    {
     "data": {
      "text/html": [
       "<div>\n",
       "<style scoped>\n",
       "    .dataframe tbody tr th:only-of-type {\n",
       "        vertical-align: middle;\n",
       "    }\n",
       "\n",
       "    .dataframe tbody tr th {\n",
       "        vertical-align: top;\n",
       "    }\n",
       "\n",
       "    .dataframe thead th {\n",
       "        text-align: right;\n",
       "    }\n",
       "</style>\n",
       "<table border=\"1\" class=\"dataframe\">\n",
       "  <thead>\n",
       "    <tr style=\"text-align: right;\">\n",
       "      <th></th>\n",
       "      <th>姓名</th>\n",
       "      <th>性别</th>\n",
       "      <th>身高</th>\n",
       "    </tr>\n",
       "  </thead>\n",
       "  <tbody>\n",
       "    <tr>\n",
       "      <th>001</th>\n",
       "      <td>孙哥</td>\n",
       "      <td>男</td>\n",
       "      <td>172.5</td>\n",
       "    </tr>\n",
       "    <tr>\n",
       "      <th>002</th>\n",
       "      <td>黄哥</td>\n",
       "      <td>女</td>\n",
       "      <td>168.0</td>\n",
       "    </tr>\n",
       "    <tr>\n",
       "      <th>003</th>\n",
       "      <td>翘兔</td>\n",
       "      <td>男</td>\n",
       "      <td>178.2</td>\n",
       "    </tr>\n",
       "    <tr>\n",
       "      <th>004</th>\n",
       "      <td>sed老师</td>\n",
       "      <td>男</td>\n",
       "      <td>181.3</td>\n",
       "    </tr>\n",
       "    <tr>\n",
       "      <th>005</th>\n",
       "      <td>狗处</td>\n",
       "      <td>女</td>\n",
       "      <td>161.7</td>\n",
       "    </tr>\n",
       "    <tr>\n",
       "      <th>006</th>\n",
       "      <td>死矮子</td>\n",
       "      <td>女</td>\n",
       "      <td>NaN</td>\n",
       "    </tr>\n",
       "  </tbody>\n",
       "</table>\n",
       "</div>"
      ],
      "text/plain": [
       "        姓名 性别     身高\n",
       "001     孙哥  男  172.5\n",
       "002     黄哥  女  168.0\n",
       "003     翘兔  男  178.2\n",
       "004  sed老师  男  181.3\n",
       "005     狗处  女  161.7\n",
       "006    死矮子  女    NaN"
      ]
     },
     "execution_count": 17,
     "metadata": {},
     "output_type": "execute_result"
    }
   ],
   "source": [
    "Students"
   ]
  },
  {
   "cell_type": "code",
   "execution_count": 18,
   "id": "d0b5188c-1cc3-49df-897b-97d83c2b35e1",
   "metadata": {},
   "outputs": [
    {
     "data": {
      "text/html": [
       "<div>\n",
       "<style scoped>\n",
       "    .dataframe tbody tr th:only-of-type {\n",
       "        vertical-align: middle;\n",
       "    }\n",
       "\n",
       "    .dataframe tbody tr th {\n",
       "        vertical-align: top;\n",
       "    }\n",
       "\n",
       "    .dataframe thead th {\n",
       "        text-align: right;\n",
       "    }\n",
       "</style>\n",
       "<table border=\"1\" class=\"dataframe\">\n",
       "  <thead>\n",
       "    <tr style=\"text-align: right;\">\n",
       "      <th></th>\n",
       "      <th>姓名</th>\n",
       "      <th>性别</th>\n",
       "      <th>身高</th>\n",
       "    </tr>\n",
       "  </thead>\n",
       "  <tbody>\n",
       "    <tr>\n",
       "      <th>001</th>\n",
       "      <td>孙哥</td>\n",
       "      <td>男</td>\n",
       "      <td>172.5</td>\n",
       "    </tr>\n",
       "    <tr>\n",
       "      <th>002</th>\n",
       "      <td>黄哥</td>\n",
       "      <td>女</td>\n",
       "      <td>168.0</td>\n",
       "    </tr>\n",
       "    <tr>\n",
       "      <th>003</th>\n",
       "      <td>翘兔</td>\n",
       "      <td>男</td>\n",
       "      <td>178.2</td>\n",
       "    </tr>\n",
       "    <tr>\n",
       "      <th>004</th>\n",
       "      <td>sed老师</td>\n",
       "      <td>男</td>\n",
       "      <td>181.3</td>\n",
       "    </tr>\n",
       "  </tbody>\n",
       "</table>\n",
       "</div>"
      ],
      "text/plain": [
       "        姓名 性别     身高\n",
       "001     孙哥  男  172.5\n",
       "002     黄哥  女  168.0\n",
       "003     翘兔  男  178.2\n",
       "004  sed老师  男  181.3"
      ]
     },
     "execution_count": 18,
     "metadata": {},
     "output_type": "execute_result"
    }
   ],
   "source": [
    "Students[Students[\"身高\"] > 165]"
   ]
  },
  {
   "cell_type": "code",
   "execution_count": 19,
   "id": "3e88227a-bc90-45eb-aa54-2c794a00a7db",
   "metadata": {},
   "outputs": [
    {
     "data": {
      "text/plain": [
       "001    False\n",
       "002     True\n",
       "003    False\n",
       "004    False\n",
       "005     True\n",
       "006     True\n",
       "Name: 性别, dtype: bool"
      ]
     },
     "execution_count": 19,
     "metadata": {},
     "output_type": "execute_result"
    }
   ],
   "source": [
    "Students[\"性别\"] == \"女\""
   ]
  },
  {
   "cell_type": "code",
   "execution_count": 20,
   "id": "d6191ae9-7fd0-4ea4-86cb-138a89d2def8",
   "metadata": {},
   "outputs": [
    {
     "data": {
      "text/html": [
       "<div>\n",
       "<style scoped>\n",
       "    .dataframe tbody tr th:only-of-type {\n",
       "        vertical-align: middle;\n",
       "    }\n",
       "\n",
       "    .dataframe tbody tr th {\n",
       "        vertical-align: top;\n",
       "    }\n",
       "\n",
       "    .dataframe thead th {\n",
       "        text-align: right;\n",
       "    }\n",
       "</style>\n",
       "<table border=\"1\" class=\"dataframe\">\n",
       "  <thead>\n",
       "    <tr style=\"text-align: right;\">\n",
       "      <th></th>\n",
       "      <th>姓名</th>\n",
       "      <th>性别</th>\n",
       "      <th>身高</th>\n",
       "    </tr>\n",
       "  </thead>\n",
       "  <tbody>\n",
       "    <tr>\n",
       "      <th>002</th>\n",
       "      <td>黄哥</td>\n",
       "      <td>女</td>\n",
       "      <td>168.0</td>\n",
       "    </tr>\n",
       "    <tr>\n",
       "      <th>005</th>\n",
       "      <td>狗处</td>\n",
       "      <td>女</td>\n",
       "      <td>161.7</td>\n",
       "    </tr>\n",
       "    <tr>\n",
       "      <th>006</th>\n",
       "      <td>死矮子</td>\n",
       "      <td>女</td>\n",
       "      <td>NaN</td>\n",
       "    </tr>\n",
       "  </tbody>\n",
       "</table>\n",
       "</div>"
      ],
      "text/plain": [
       "      姓名 性别     身高\n",
       "002   黄哥  女  168.0\n",
       "005   狗处  女  161.7\n",
       "006  死矮子  女    NaN"
      ]
     },
     "execution_count": 20,
     "metadata": {},
     "output_type": "execute_result"
    }
   ],
   "source": [
    "Students[Students[\"性别\"] == \"女\"]"
   ]
  },
  {
   "cell_type": "code",
   "execution_count": 22,
   "id": "1c10f492-9db7-40cd-ad1a-0475dfdb8fe5",
   "metadata": {},
   "outputs": [
    {
     "data": {
      "text/html": [
       "<div>\n",
       "<style scoped>\n",
       "    .dataframe tbody tr th:only-of-type {\n",
       "        vertical-align: middle;\n",
       "    }\n",
       "\n",
       "    .dataframe tbody tr th {\n",
       "        vertical-align: top;\n",
       "    }\n",
       "\n",
       "    .dataframe thead th {\n",
       "        text-align: right;\n",
       "    }\n",
       "</style>\n",
       "<table border=\"1\" class=\"dataframe\">\n",
       "  <thead>\n",
       "    <tr style=\"text-align: right;\">\n",
       "      <th></th>\n",
       "      <th>姓名</th>\n",
       "      <th>性别</th>\n",
       "      <th>身高</th>\n",
       "    </tr>\n",
       "  </thead>\n",
       "  <tbody>\n",
       "    <tr>\n",
       "      <th>002</th>\n",
       "      <td>黄哥</td>\n",
       "      <td>女</td>\n",
       "      <td>168.0</td>\n",
       "    </tr>\n",
       "  </tbody>\n",
       "</table>\n",
       "</div>"
      ],
      "text/plain": [
       "     姓名 性别     身高\n",
       "002  黄哥  女  168.0"
      ]
     },
     "execution_count": 22,
     "metadata": {},
     "output_type": "execute_result"
    }
   ],
   "source": [
    "Students[(Students[\"身高\"] > 165) & (Students[\"性别\"] == \"女\")]"
   ]
  },
  {
   "cell_type": "markdown",
   "id": "ede959e5-24a4-418c-9b33-4c5712cf7d39",
   "metadata": {},
   "source": [
    "通过`head`方法，输出`Students`前五行数据。"
   ]
  },
  {
   "cell_type": "code",
   "execution_count": 24,
   "id": "e3cc34b3-7a86-4c2c-abe3-d27d5db76da3",
   "metadata": {},
   "outputs": [
    {
     "data": {
      "text/html": [
       "<div>\n",
       "<style scoped>\n",
       "    .dataframe tbody tr th:only-of-type {\n",
       "        vertical-align: middle;\n",
       "    }\n",
       "\n",
       "    .dataframe tbody tr th {\n",
       "        vertical-align: top;\n",
       "    }\n",
       "\n",
       "    .dataframe thead th {\n",
       "        text-align: right;\n",
       "    }\n",
       "</style>\n",
       "<table border=\"1\" class=\"dataframe\">\n",
       "  <thead>\n",
       "    <tr style=\"text-align: right;\">\n",
       "      <th></th>\n",
       "      <th>姓名</th>\n",
       "      <th>性别</th>\n",
       "      <th>身高</th>\n",
       "    </tr>\n",
       "  </thead>\n",
       "  <tbody>\n",
       "    <tr>\n",
       "      <th>001</th>\n",
       "      <td>孙哥</td>\n",
       "      <td>男</td>\n",
       "      <td>172.5</td>\n",
       "    </tr>\n",
       "    <tr>\n",
       "      <th>002</th>\n",
       "      <td>黄哥</td>\n",
       "      <td>女</td>\n",
       "      <td>168.0</td>\n",
       "    </tr>\n",
       "    <tr>\n",
       "      <th>003</th>\n",
       "      <td>翘兔</td>\n",
       "      <td>男</td>\n",
       "      <td>178.2</td>\n",
       "    </tr>\n",
       "    <tr>\n",
       "      <th>004</th>\n",
       "      <td>sed老师</td>\n",
       "      <td>男</td>\n",
       "      <td>181.3</td>\n",
       "    </tr>\n",
       "    <tr>\n",
       "      <th>005</th>\n",
       "      <td>狗处</td>\n",
       "      <td>女</td>\n",
       "      <td>161.7</td>\n",
       "    </tr>\n",
       "  </tbody>\n",
       "</table>\n",
       "</div>"
      ],
      "text/plain": [
       "        姓名 性别     身高\n",
       "001     孙哥  男  172.5\n",
       "002     黄哥  女  168.0\n",
       "003     翘兔  男  178.2\n",
       "004  sed老师  男  181.3\n",
       "005     狗处  女  161.7"
      ]
     },
     "execution_count": 24,
     "metadata": {},
     "output_type": "execute_result"
    }
   ],
   "source": [
    "Students.head(5)"
   ]
  },
  {
   "cell_type": "code",
   "execution_count": 25,
   "id": "75100d1e-faec-44ef-a23b-8ebfd71349bd",
   "metadata": {},
   "outputs": [
    {
     "data": {
      "text/html": [
       "<div>\n",
       "<style scoped>\n",
       "    .dataframe tbody tr th:only-of-type {\n",
       "        vertical-align: middle;\n",
       "    }\n",
       "\n",
       "    .dataframe tbody tr th {\n",
       "        vertical-align: top;\n",
       "    }\n",
       "\n",
       "    .dataframe thead th {\n",
       "        text-align: right;\n",
       "    }\n",
       "</style>\n",
       "<table border=\"1\" class=\"dataframe\">\n",
       "  <thead>\n",
       "    <tr style=\"text-align: right;\">\n",
       "      <th></th>\n",
       "      <th>姓名</th>\n",
       "      <th>性别</th>\n",
       "      <th>身高</th>\n",
       "    </tr>\n",
       "  </thead>\n",
       "  <tbody>\n",
       "    <tr>\n",
       "      <th>001</th>\n",
       "      <td>孙哥</td>\n",
       "      <td>男</td>\n",
       "      <td>172.5</td>\n",
       "    </tr>\n",
       "    <tr>\n",
       "      <th>002</th>\n",
       "      <td>黄哥</td>\n",
       "      <td>女</td>\n",
       "      <td>168.0</td>\n",
       "    </tr>\n",
       "    <tr>\n",
       "      <th>003</th>\n",
       "      <td>翘兔</td>\n",
       "      <td>男</td>\n",
       "      <td>178.2</td>\n",
       "    </tr>\n",
       "    <tr>\n",
       "      <th>004</th>\n",
       "      <td>sed老师</td>\n",
       "      <td>男</td>\n",
       "      <td>181.3</td>\n",
       "    </tr>\n",
       "    <tr>\n",
       "      <th>005</th>\n",
       "      <td>狗处</td>\n",
       "      <td>女</td>\n",
       "      <td>161.7</td>\n",
       "    </tr>\n",
       "  </tbody>\n",
       "</table>\n",
       "</div>"
      ],
      "text/plain": [
       "        姓名 性别     身高\n",
       "001     孙哥  男  172.5\n",
       "002     黄哥  女  168.0\n",
       "003     翘兔  男  178.2\n",
       "004  sed老师  男  181.3\n",
       "005     狗处  女  161.7"
      ]
     },
     "execution_count": 25,
     "metadata": {},
     "output_type": "execute_result"
    }
   ],
   "source": [
    "Students.head()"
   ]
  },
  {
   "cell_type": "code",
   "execution_count": null,
   "id": "5fe1c0d2-932d-4f0a-8def-56e2d5016aae",
   "metadata": {},
   "outputs": [],
   "source": []
  },
  {
   "cell_type": "code",
   "execution_count": null,
   "id": "70d0842d-2e96-429a-a9d2-df3ad2ea8bbe",
   "metadata": {},
   "outputs": [],
   "source": []
  },
  {
   "cell_type": "code",
   "execution_count": null,
   "id": "1cd5ad7e-2ea9-4391-808f-c8dca5514b36",
   "metadata": {},
   "outputs": [],
   "source": []
  },
  {
   "cell_type": "code",
   "execution_count": null,
   "id": "d17eddd2-440c-41cf-b626-2f5aa19e2654",
   "metadata": {},
   "outputs": [],
   "source": []
  },
  {
   "cell_type": "code",
   "execution_count": null,
   "id": "d117120d-e005-4d17-8ed6-6f6e87549615",
   "metadata": {},
   "outputs": [],
   "source": []
  },
  {
   "cell_type": "code",
   "execution_count": null,
   "id": "a8904061-ea7e-4341-9c9c-6c26b2099c43",
   "metadata": {},
   "outputs": [],
   "source": []
  },
  {
   "cell_type": "code",
   "execution_count": null,
   "id": "58cef147-9e93-46c3-b571-979bd31ede04",
   "metadata": {},
   "outputs": [],
   "source": []
  },
  {
   "cell_type": "code",
   "execution_count": null,
   "id": "7ece731b-759e-4999-8fc1-5433335a130f",
   "metadata": {},
   "outputs": [],
   "source": []
  },
  {
   "cell_type": "code",
   "execution_count": null,
   "id": "dff45e85-9c50-44b3-8e8c-3018f3d538c9",
   "metadata": {},
   "outputs": [],
   "source": []
  },
  {
   "cell_type": "code",
   "execution_count": null,
   "id": "84c843bc-c56b-4a10-8fb7-d0673ac2c7f6",
   "metadata": {},
   "outputs": [],
   "source": []
  },
  {
   "cell_type": "code",
   "execution_count": null,
   "id": "54473f67-f95a-46f2-b669-815dde7feb30",
   "metadata": {},
   "outputs": [],
   "source": []
  },
  {
   "cell_type": "code",
   "execution_count": null,
   "id": "bf0c800b-61d7-414f-baae-65a8e23198bb",
   "metadata": {},
   "outputs": [],
   "source": []
  },
  {
   "cell_type": "code",
   "execution_count": null,
   "id": "58c2180d-fe37-42c7-ac00-ed636cabb397",
   "metadata": {},
   "outputs": [],
   "source": []
  },
  {
   "cell_type": "code",
   "execution_count": null,
   "id": "8f0d43f6-29fe-40c4-8193-40701f720804",
   "metadata": {},
   "outputs": [],
   "source": []
  },
  {
   "cell_type": "code",
   "execution_count": null,
   "id": "c15ae514-4c4f-4bc6-ab1f-bb99b19e759d",
   "metadata": {},
   "outputs": [],
   "source": []
  },
  {
   "cell_type": "code",
   "execution_count": null,
   "id": "82bd7009-c400-4457-91df-f09d0f2f8a56",
   "metadata": {},
   "outputs": [],
   "source": []
  },
  {
   "cell_type": "code",
   "execution_count": null,
   "id": "b328a99f-d8a1-4b55-82aa-5d016037e4f4",
   "metadata": {},
   "outputs": [],
   "source": []
  },
  {
   "cell_type": "code",
   "execution_count": null,
   "id": "56765a18-5f91-4d2b-9e0d-ec0fd3024af4",
   "metadata": {},
   "outputs": [],
   "source": []
  }
 ],
 "metadata": {
  "kernelspec": {
   "display_name": "Python 3 (ipykernel)",
   "language": "python",
   "name": "python3"
  },
  "language_info": {
   "codemirror_mode": {
    "name": "ipython",
    "version": 3
   },
   "file_extension": ".py",
   "mimetype": "text/x-python",
   "name": "python",
   "nbconvert_exporter": "python",
   "pygments_lexer": "ipython3",
   "version": "3.11.5"
  }
 },
 "nbformat": 4,
 "nbformat_minor": 5
}
