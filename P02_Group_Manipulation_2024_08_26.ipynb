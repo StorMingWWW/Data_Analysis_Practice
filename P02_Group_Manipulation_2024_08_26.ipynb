{
 "cells": [
  {
   "cell_type": "markdown",
   "id": "96ce7f9c-055d-4247-8352-e3678669b1bc",
   "metadata": {},
   "source": [
    "##### 连接数组"
   ]
  },
  {
   "cell_type": "code",
   "execution_count": 2,
   "id": "d52196f6-4471-47ed-bef2-0499998c3069",
   "metadata": {},
   "outputs": [
    {
     "data": {
      "text/plain": [
       "array([ 5., 17.,  3., 26., 31.,  0.,  0.,  1.,  1.,  1.])"
      ]
     },
     "execution_count": 2,
     "metadata": {},
     "output_type": "execute_result"
    }
   ],
   "source": [
    "import numpy as np\n",
    "\n",
    "arr1 = np.array([5, 17, 3, 26, 31])\n",
    "arr2 = np.zeros(2)\n",
    "arr3 = np.ones(3)\n",
    "np.concatenate([arr1, arr2, arr3])"
   ]
  },
  {
   "cell_type": "markdown",
   "id": "4ea06f75-321c-4913-bc66-5965ab36a0fa",
   "metadata": {},
   "source": [
    "##### sorted 函数"
   ]
  },
  {
   "cell_type": "code",
   "execution_count": 4,
   "id": "4f80d50c-05d3-460c-9e92-bc0846e7bdf5",
   "metadata": {},
   "outputs": [
    {
     "name": "stdout",
     "output_type": "stream",
     "text": [
      "[3, 5, 17, 26, 31]\n",
      "[5, 17, 3, 26, 31]\n"
     ]
    }
   ],
   "source": [
    "list1 = [5, 17, 3, 26, 31]\n",
    "sorted_list1 = sorted(list1)\n",
    "print(sorted_list1)\n",
    "print(list1)"
   ]
  },
  {
   "cell_type": "markdown",
   "id": "8934d908-2a9c-46dd-abfd-1dc410d6dd16",
   "metadata": {},
   "source": [
    "##### sorted 函数"
   ]
  },
  {
   "cell_type": "code",
   "execution_count": 5,
   "id": "d9675999-ee47-4f7d-aff9-11d561f9e13d",
   "metadata": {},
   "outputs": [
    {
     "name": "stdout",
     "output_type": "stream",
     "text": [
      "[3, 5, 17, 26, 31]\n"
     ]
    }
   ],
   "source": [
    "list2 = [5, 17, 3, 26, 31]\n",
    "list1. sort()\n",
    "print(list1)"
   ]
  },
  {
   "cell_type": "markdown",
   "id": "c5ab2102-5c33-451e-8c45-684ade98878f",
   "metadata": {},
   "source": [
    "##### Numpy 的 sort 函数"
   ]
  },
  {
   "cell_type": "code",
   "execution_count": 6,
   "id": "adf47237-191f-4a00-8084-906f9fc2a4f2",
   "metadata": {},
   "outputs": [
    {
     "name": "stdout",
     "output_type": "stream",
     "text": [
      "[ 3  5 17 26 31]\n",
      "[ 5 17  3 26 31]\n"
     ]
    }
   ],
   "source": [
    "import numpy as np\n",
    "arr1 = np.array([5, 17, 3, 26, 31])\n",
    "print(np.sort(arr1)) # 不改变arr1\n",
    "print(arr1)"
   ]
  },
  {
   "cell_type": "markdown",
   "id": "97d2729a-392e-4551-921d-b8f69aa426eb",
   "metadata": {},
   "source": [
    "##### Numpy 的 sort 方法"
   ]
  },
  {
   "cell_type": "code",
   "execution_count": 7,
   "id": "1f16574a-cc27-412f-ac9c-14d03a9f0052",
   "metadata": {},
   "outputs": [
    {
     "name": "stdout",
     "output_type": "stream",
     "text": [
      "None\n",
      "[ 3  5 17 26 31]\n"
     ]
    }
   ],
   "source": [
    "import numpy as np\n",
    "arr2 = np.array([5, 17, 3, 26, 31])\n",
    "print(arr2.sort()) # 什么都不返回\n",
    "print(arr2)"
   ]
  },
  {
   "cell_type": "markdown",
   "id": "6e4ce79c-f96d-4c96-94a7-54b92d71db96",
   "metadata": {},
   "source": [
    "##### 用索引获得元素"
   ]
  },
  {
   "cell_type": "code",
   "execution_count": 2,
   "id": "8b8191de-7758-4eab-ade4-176cc3e9a6f4",
   "metadata": {},
   "outputs": [
    {
     "name": "stdout",
     "output_type": "stream",
     "text": [
      "3\n",
      "26\n"
     ]
    }
   ],
   "source": [
    "import numpy as np\n",
    "arr3 = np.array([3, 5, 17, 26, 31])\n",
    "print(arr3[0])\n",
    "print(arr3[-2])"
   ]
  },
  {
   "cell_type": "markdown",
   "id": "08721c32-d601-49c4-a9fe-e5582e3da958",
   "metadata": {},
   "source": [
    "##### 用索引获得部分数组"
   ]
  },
  {
   "cell_type": "code",
   "execution_count": 3,
   "id": "38192405-2b1e-4f9e-906a-1395df42a166",
   "metadata": {},
   "outputs": [
    {
     "name": "stdout",
     "output_type": "stream",
     "text": [
      "[ 5 17 26]\n"
     ]
    }
   ],
   "source": [
    "import numpy as np\n",
    "arr4 = np.array([3, 5, 17, 26, 31])\n",
    "print(arr4[1:4])"
   ]
  },
  {
   "cell_type": "markdown",
   "id": "334df4bb-9eb1-4bb4-ac1e-c6e286d7d0d6",
   "metadata": {},
   "source": [
    "##### 数组和数组的运算"
   ]
  },
  {
   "cell_type": "code",
   "execution_count": 7,
   "id": "098414c4-9fa5-4d2d-80a9-ac78c3cc9f7f",
   "metadata": {},
   "outputs": [
    {
     "name": "stdout",
     "output_type": "stream",
     "text": [
      "[ 7  8  9 10 11]\n",
      "[5 6 7 8 9]\n",
      "[ 6  7  8  9 10]\n",
      "[ 6.  7.  8.  9. 10.]\n",
      "[18 21 24 27 30]\n"
     ]
    }
   ],
   "source": [
    "import numpy as np\n",
    "arr5 = np.array([6, 7, 8, 9, 10])\n",
    "arr6 = np.array([1, 1, 1, 1, 1])\n",
    "print(arr5 + arr6)\n",
    "print(arr5 - arr6)\n",
    "print(arr5 * arr6)\n",
    "print(arr5 / arr6)\n",
    "print(arr5 * 3)"
   ]
  },
  {
   "cell_type": "markdown",
   "id": "c155c372-f763-45ac-a2d1-ceac62e9a8fb",
   "metadata": {},
   "source": [
    "##### 数组和数字的运算"
   ]
  },
  {
   "cell_type": "code",
   "execution_count": 10,
   "id": "c5c4c287-bcef-4951-848e-3b0c632102f3",
   "metadata": {},
   "outputs": [
    {
     "name": "stdout",
     "output_type": "stream",
     "text": [
      "10\n",
      "6\n",
      "40\n",
      "8.0\n"
     ]
    }
   ],
   "source": [
    "import numpy as np\n",
    "arr7 = np.array([6, 7, 8, 9, 10])\n",
    "print(arr7. max())\n",
    "print(arr7. min())\n",
    "print(arr7. sum())\n",
    "print(arr7. mean())"
   ]
  },
  {
   "cell_type": "markdown",
   "id": "4818aa59-4b73-4ab2-8730-a2117a0a9b18",
   "metadata": {},
   "source": [
    "##### 根据条件筛选数组元素"
   ]
  },
  {
   "cell_type": "code",
   "execution_count": 11,
   "id": "5e762f47-c685-486a-a3ce-2377adfb59e2",
   "metadata": {},
   "outputs": [
    {
     "name": "stdout",
     "output_type": "stream",
     "text": [
      "[65  9 11  7]\n"
     ]
    }
   ],
   "source": [
    "import numpy as np\n",
    "arr8 = np.array([-22, 3, 65, 9, 11, 7])\n",
    "print(arr8[arr8 > 6])"
   ]
  },
  {
   "cell_type": "markdown",
   "id": "f5248e1a-9e74-4d7b-9a23-11ac3c6362f1",
   "metadata": {},
   "source": [
    "##### 根据条件筛选数组元素"
   ]
  },
  {
   "cell_type": "code",
   "execution_count": 12,
   "id": "fed4abb5-6789-4f80-8d66-80fdceedf8b2",
   "metadata": {},
   "outputs": [
    {
     "name": "stdout",
     "output_type": "stream",
     "text": [
      "[9 7]\n"
     ]
    }
   ],
   "source": [
    "import numpy as np\n",
    "arr9 = np.array([-22, 3, 65, 9, 11, 7])\n",
    "print(arr9[(arr9 > 6) & (arr9 < 10)])"
   ]
  },
  {
   "cell_type": "code",
   "execution_count": null,
   "id": "af8f6f6a-33ac-4937-aac9-dea56c025bc6",
   "metadata": {},
   "outputs": [],
   "source": []
  }
 ],
 "metadata": {
  "kernelspec": {
   "display_name": "Python 3 (ipykernel)",
   "language": "python",
   "name": "python3"
  },
  "language_info": {
   "codemirror_mode": {
    "name": "ipython",
    "version": 3
   },
   "file_extension": ".py",
   "mimetype": "text/x-python",
   "name": "python",
   "nbconvert_exporter": "python",
   "pygments_lexer": "ipython3",
   "version": "3.11.5"
  }
 },
 "nbformat": 4,
 "nbformat_minor": 5
}
