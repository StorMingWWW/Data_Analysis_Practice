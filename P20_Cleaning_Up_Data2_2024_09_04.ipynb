{
 "cells": [
  {
   "cell_type": "code",
   "execution_count": 1,
   "id": "72a3229d-bf19-4d21-9b44-3dbbad8dec1b",
   "metadata": {},
   "outputs": [],
   "source": [
    "import numpy as np\n",
    "import pandas as pd"
   ]
  },
  {
   "cell_type": "markdown",
   "id": "79487b35-2b17-4a2f-9992-cabe545ac6ba",
   "metadata": {},
   "source": [
    "对整列缺失值进行填充"
   ]
  },
  {
   "cell_type": "code",
   "execution_count": 2,
   "id": "0e5d65c3-b440-42d6-99bb-48a65f17f17f",
   "metadata": {},
   "outputs": [
    {
     "data": {
      "text/html": [
       "<div>\n",
       "<style scoped>\n",
       "    .dataframe tbody tr th:only-of-type {\n",
       "        vertical-align: middle;\n",
       "    }\n",
       "\n",
       "    .dataframe tbody tr th {\n",
       "        vertical-align: top;\n",
       "    }\n",
       "\n",
       "    .dataframe thead th {\n",
       "        text-align: right;\n",
       "    }\n",
       "</style>\n",
       "<table border=\"1\" class=\"dataframe\">\n",
       "  <thead>\n",
       "    <tr style=\"text-align: right;\">\n",
       "      <th></th>\n",
       "      <th>日期</th>\n",
       "      <th>销售额</th>\n",
       "      <th>销售人员</th>\n",
       "      <th>地址</th>\n",
       "      <th>国家</th>\n",
       "    </tr>\n",
       "  </thead>\n",
       "  <tbody>\n",
       "    <tr>\n",
       "      <th>001</th>\n",
       "      <td>2005-01-01</td>\n",
       "      <td>1000</td>\n",
       "      <td>孙哥</td>\n",
       "      <td>杭州</td>\n",
       "      <td>NaN</td>\n",
       "    </tr>\n",
       "    <tr>\n",
       "      <th>002</th>\n",
       "      <td>2005-01-02</td>\n",
       "      <td>1500</td>\n",
       "      <td>黄哥</td>\n",
       "      <td>上海</td>\n",
       "      <td>NaN</td>\n",
       "    </tr>\n",
       "    <tr>\n",
       "      <th>003</th>\n",
       "      <td>2005-01-03</td>\n",
       "      <td>800</td>\n",
       "      <td>翘兔</td>\n",
       "      <td>上海</td>\n",
       "      <td>NaN</td>\n",
       "    </tr>\n",
       "    <tr>\n",
       "      <th>004</th>\n",
       "      <td>2005-01-04</td>\n",
       "      <td>1200</td>\n",
       "      <td>sed老师</td>\n",
       "      <td>成都</td>\n",
       "      <td>NaN</td>\n",
       "    </tr>\n",
       "  </tbody>\n",
       "</table>\n",
       "</div>"
      ],
      "text/plain": [
       "             日期   销售额   销售人员  地址  国家\n",
       "001  2005-01-01  1000     孙哥  杭州 NaN\n",
       "002  2005-01-02  1500     黄哥  上海 NaN\n",
       "003  2005-01-03   800     翘兔  上海 NaN\n",
       "004  2005-01-04  1200  sed老师  成都 NaN"
      ]
     },
     "execution_count": 2,
     "metadata": {},
     "output_type": "execute_result"
    }
   ],
   "source": [
    "S_01_01 = pd.Series([\"2005-01-01\", \"2005-01-02\",  \n",
    "                     \"2005-01-03\", \"2005-01-04\"])\n",
    "S_02_01 = pd.Series([1000, 1500, 800, 1200])\n",
    "S_03_01 = pd.Series([\"孙哥\", \"黄哥\", \"翘兔\", \"sed老师\"])\n",
    "S_04_01 = pd.Series([\"杭州\", \"上海\", \"上海\", \"成都\"])\n",
    "S_05_01 = pd.Series([np.nan, np.nan, np.nan, np.nan])\n",
    "DF1 = pd.DataFrame({\"日期\": S_01_01, \"销售额\": S_02_01, \n",
    "                    \"销售人员\": S_03_01, \"地址\": S_04_01,\n",
    "                    \"国家\": S_05_01,})\n",
    "New_Index_01 = [\"001\", \"002\", \"003\", \"004\"]\n",
    "DF1.index = New_Index_01\n",
    "\n",
    "DF1"
   ]
  },
  {
   "cell_type": "code",
   "execution_count": 3,
   "id": "8551ac40-874f-4330-9c1a-bc4129f87295",
   "metadata": {},
   "outputs": [
    {
     "data": {
      "text/html": [
       "<div>\n",
       "<style scoped>\n",
       "    .dataframe tbody tr th:only-of-type {\n",
       "        vertical-align: middle;\n",
       "    }\n",
       "\n",
       "    .dataframe tbody tr th {\n",
       "        vertical-align: top;\n",
       "    }\n",
       "\n",
       "    .dataframe thead th {\n",
       "        text-align: right;\n",
       "    }\n",
       "</style>\n",
       "<table border=\"1\" class=\"dataframe\">\n",
       "  <thead>\n",
       "    <tr style=\"text-align: right;\">\n",
       "      <th></th>\n",
       "      <th>日期</th>\n",
       "      <th>销售额</th>\n",
       "      <th>销售人员</th>\n",
       "      <th>地址</th>\n",
       "      <th>国家</th>\n",
       "    </tr>\n",
       "  </thead>\n",
       "  <tbody>\n",
       "    <tr>\n",
       "      <th>001</th>\n",
       "      <td>2005-01-01</td>\n",
       "      <td>1000</td>\n",
       "      <td>孙哥</td>\n",
       "      <td>杭州</td>\n",
       "      <td>中国</td>\n",
       "    </tr>\n",
       "    <tr>\n",
       "      <th>002</th>\n",
       "      <td>2005-01-02</td>\n",
       "      <td>1500</td>\n",
       "      <td>黄哥</td>\n",
       "      <td>上海</td>\n",
       "      <td>中国</td>\n",
       "    </tr>\n",
       "    <tr>\n",
       "      <th>003</th>\n",
       "      <td>2005-01-03</td>\n",
       "      <td>800</td>\n",
       "      <td>翘兔</td>\n",
       "      <td>上海</td>\n",
       "      <td>中国</td>\n",
       "    </tr>\n",
       "    <tr>\n",
       "      <th>004</th>\n",
       "      <td>2005-01-04</td>\n",
       "      <td>1200</td>\n",
       "      <td>sed老师</td>\n",
       "      <td>成都</td>\n",
       "      <td>中国</td>\n",
       "    </tr>\n",
       "  </tbody>\n",
       "</table>\n",
       "</div>"
      ],
      "text/plain": [
       "             日期   销售额   销售人员  地址  国家\n",
       "001  2005-01-01  1000     孙哥  杭州  中国\n",
       "002  2005-01-02  1500     黄哥  上海  中国\n",
       "003  2005-01-03   800     翘兔  上海  中国\n",
       "004  2005-01-04  1200  sed老师  成都  中国"
      ]
     },
     "execution_count": 3,
     "metadata": {},
     "output_type": "execute_result"
    }
   ],
   "source": [
    "DF1[\"国家\"] = \"中国\"\n",
    "DF1"
   ]
  },
  {
   "cell_type": "markdown",
   "id": "2ab8b04b-f3d9-4411-a282-5c624a25b447",
   "metadata": {},
   "source": [
    "对某个缺失值进行填充"
   ]
  },
  {
   "cell_type": "code",
   "execution_count": 4,
   "id": "2eceb42a-3065-4725-b42e-cdc0d40cfd64",
   "metadata": {},
   "outputs": [
    {
     "data": {
      "text/html": [
       "<div>\n",
       "<style scoped>\n",
       "    .dataframe tbody tr th:only-of-type {\n",
       "        vertical-align: middle;\n",
       "    }\n",
       "\n",
       "    .dataframe tbody tr th {\n",
       "        vertical-align: top;\n",
       "    }\n",
       "\n",
       "    .dataframe thead th {\n",
       "        text-align: right;\n",
       "    }\n",
       "</style>\n",
       "<table border=\"1\" class=\"dataframe\">\n",
       "  <thead>\n",
       "    <tr style=\"text-align: right;\">\n",
       "      <th></th>\n",
       "      <th>日期</th>\n",
       "      <th>销售额</th>\n",
       "      <th>销售人员</th>\n",
       "      <th>地址</th>\n",
       "    </tr>\n",
       "  </thead>\n",
       "  <tbody>\n",
       "    <tr>\n",
       "      <th>001</th>\n",
       "      <td>2005-01-01</td>\n",
       "      <td>1000.0</td>\n",
       "      <td>孙哥</td>\n",
       "      <td>杭州</td>\n",
       "    </tr>\n",
       "    <tr>\n",
       "      <th>002</th>\n",
       "      <td>2005-01-02</td>\n",
       "      <td>1500.0</td>\n",
       "      <td>黄哥</td>\n",
       "      <td>上海</td>\n",
       "    </tr>\n",
       "    <tr>\n",
       "      <th>003</th>\n",
       "      <td>2005-01-03</td>\n",
       "      <td>NaN</td>\n",
       "      <td>翘兔</td>\n",
       "      <td>上海</td>\n",
       "    </tr>\n",
       "    <tr>\n",
       "      <th>004</th>\n",
       "      <td>2005-01-04</td>\n",
       "      <td>1200.0</td>\n",
       "      <td>sed老师</td>\n",
       "      <td>成都</td>\n",
       "    </tr>\n",
       "  </tbody>\n",
       "</table>\n",
       "</div>"
      ],
      "text/plain": [
       "             日期     销售额   销售人员  地址\n",
       "001  2005-01-01  1000.0     孙哥  杭州\n",
       "002  2005-01-02  1500.0     黄哥  上海\n",
       "003  2005-01-03     NaN     翘兔  上海\n",
       "004  2005-01-04  1200.0  sed老师  成都"
      ]
     },
     "execution_count": 4,
     "metadata": {},
     "output_type": "execute_result"
    }
   ],
   "source": [
    "S_01_02 = pd.Series([\"2005-01-01\", \"2005-01-02\",  \n",
    "                     \"2005-01-03\", \"2005-01-04\"])\n",
    "S_02_02 = pd.Series([1000, 1500, np.nan, 1200])\n",
    "S_03_02 = pd.Series([\"孙哥\", \"黄哥\", \"翘兔\", \"sed老师\"])\n",
    "S_04_02 = pd.Series([\"杭州\", \"上海\", \"上海\", \"成都\"])\n",
    "DF2 = pd.DataFrame({\"日期\": S_01_02, \"销售额\": S_02_02, \n",
    "                    \"销售人员\": S_03_02, \"地址\": S_04_02,})\n",
    "New_Index_2 = [\"001\", \"002\", \"003\", \"004\"]\n",
    "DF2.index = New_Index_2\n",
    "\n",
    "DF2"
   ]
  },
  {
   "cell_type": "code",
   "execution_count": 5,
   "id": "944c338d-2edb-467e-89bb-7ea38a8b6957",
   "metadata": {},
   "outputs": [
    {
     "data": {
      "text/html": [
       "<div>\n",
       "<style scoped>\n",
       "    .dataframe tbody tr th:only-of-type {\n",
       "        vertical-align: middle;\n",
       "    }\n",
       "\n",
       "    .dataframe tbody tr th {\n",
       "        vertical-align: top;\n",
       "    }\n",
       "\n",
       "    .dataframe thead th {\n",
       "        text-align: right;\n",
       "    }\n",
       "</style>\n",
       "<table border=\"1\" class=\"dataframe\">\n",
       "  <thead>\n",
       "    <tr style=\"text-align: right;\">\n",
       "      <th></th>\n",
       "      <th>日期</th>\n",
       "      <th>销售额</th>\n",
       "      <th>销售人员</th>\n",
       "      <th>地址</th>\n",
       "    </tr>\n",
       "  </thead>\n",
       "  <tbody>\n",
       "    <tr>\n",
       "      <th>001</th>\n",
       "      <td>2005-01-01</td>\n",
       "      <td>1000.0</td>\n",
       "      <td>孙哥</td>\n",
       "      <td>杭州</td>\n",
       "    </tr>\n",
       "    <tr>\n",
       "      <th>002</th>\n",
       "      <td>2005-01-02</td>\n",
       "      <td>1500.0</td>\n",
       "      <td>黄哥</td>\n",
       "      <td>上海</td>\n",
       "    </tr>\n",
       "    <tr>\n",
       "      <th>003</th>\n",
       "      <td>2005-01-03</td>\n",
       "      <td>800.0</td>\n",
       "      <td>翘兔</td>\n",
       "      <td>上海</td>\n",
       "    </tr>\n",
       "    <tr>\n",
       "      <th>004</th>\n",
       "      <td>2005-01-04</td>\n",
       "      <td>1200.0</td>\n",
       "      <td>sed老师</td>\n",
       "      <td>成都</td>\n",
       "    </tr>\n",
       "  </tbody>\n",
       "</table>\n",
       "</div>"
      ],
      "text/plain": [
       "             日期     销售额   销售人员  地址\n",
       "001  2005-01-01  1000.0     孙哥  杭州\n",
       "002  2005-01-02  1500.0     黄哥  上海\n",
       "003  2005-01-03   800.0     翘兔  上海\n",
       "004  2005-01-04  1200.0  sed老师  成都"
      ]
     },
     "execution_count": 5,
     "metadata": {},
     "output_type": "execute_result"
    }
   ],
   "source": [
    "DF2.loc[\"003\", \"销售额\"] = 800\n",
    "DF2"
   ]
  },
  {
   "cell_type": "markdown",
   "id": "6507f642-dd63-406c-8f75-ad8dee762df1",
   "metadata": {},
   "source": [
    "对某个缺失值进行填充"
   ]
  },
  {
   "cell_type": "code",
   "execution_count": 6,
   "id": "baf1e5e5-4fa7-4740-a1e5-c4822438aca7",
   "metadata": {},
   "outputs": [
    {
     "data": {
      "text/html": [
       "<div>\n",
       "<style scoped>\n",
       "    .dataframe tbody tr th:only-of-type {\n",
       "        vertical-align: middle;\n",
       "    }\n",
       "\n",
       "    .dataframe tbody tr th {\n",
       "        vertical-align: top;\n",
       "    }\n",
       "\n",
       "    .dataframe thead th {\n",
       "        text-align: right;\n",
       "    }\n",
       "</style>\n",
       "<table border=\"1\" class=\"dataframe\">\n",
       "  <thead>\n",
       "    <tr style=\"text-align: right;\">\n",
       "      <th></th>\n",
       "      <th>日期</th>\n",
       "      <th>销售额</th>\n",
       "      <th>销售人员</th>\n",
       "      <th>地址</th>\n",
       "    </tr>\n",
       "  </thead>\n",
       "  <tbody>\n",
       "    <tr>\n",
       "      <th>001</th>\n",
       "      <td>2005-01-01</td>\n",
       "      <td>1000</td>\n",
       "      <td>孙哥</td>\n",
       "      <td>杭州</td>\n",
       "    </tr>\n",
       "    <tr>\n",
       "      <th>002</th>\n",
       "      <td>2005-01-02</td>\n",
       "      <td>1500</td>\n",
       "      <td>黄哥</td>\n",
       "      <td>上海</td>\n",
       "    </tr>\n",
       "    <tr>\n",
       "      <th>003</th>\n",
       "      <td>NaN</td>\n",
       "      <td>800</td>\n",
       "      <td>翘兔</td>\n",
       "      <td>上海</td>\n",
       "    </tr>\n",
       "    <tr>\n",
       "      <th>004</th>\n",
       "      <td>NaN</td>\n",
       "      <td>1200</td>\n",
       "      <td>sed老师</td>\n",
       "      <td>成都</td>\n",
       "    </tr>\n",
       "  </tbody>\n",
       "</table>\n",
       "</div>"
      ],
      "text/plain": [
       "             日期   销售额   销售人员  地址\n",
       "001  2005-01-01  1000     孙哥  杭州\n",
       "002  2005-01-02  1500     黄哥  上海\n",
       "003         NaN   800     翘兔  上海\n",
       "004         NaN  1200  sed老师  成都"
      ]
     },
     "execution_count": 6,
     "metadata": {},
     "output_type": "execute_result"
    }
   ],
   "source": [
    "S_01_03 = pd.Series([\"2005-01-01\", \"2005-01-02\",  \n",
    "                     np.nan, np.nan])\n",
    "S_02_03 = pd.Series([1000, 1500, 800, 1200])\n",
    "S_03_03 = pd.Series([\"孙哥\", \"黄哥\", \"翘兔\", \"sed老师\"])\n",
    "S_04_03 = pd.Series([\"杭州\", \"上海\", \"上海\", \"成都\"])\n",
    "DF3 = pd.DataFrame({\"日期\": S_01_03, \"销售额\": S_02_03, \n",
    "                    \"销售人员\": S_03_03, \"地址\": S_04_03,})\n",
    "New_Index_3 = [\"001\", \"002\", \"003\", \"004\"]\n",
    "DF3.index = New_Index_3\n",
    "\n",
    "DF3"
   ]
  },
  {
   "cell_type": "code",
   "execution_count": 7,
   "id": "ee1bb34f-e818-4e3e-9a2a-e6338ffe8c97",
   "metadata": {},
   "outputs": [
    {
     "data": {
      "text/html": [
       "<div>\n",
       "<style scoped>\n",
       "    .dataframe tbody tr th:only-of-type {\n",
       "        vertical-align: middle;\n",
       "    }\n",
       "\n",
       "    .dataframe tbody tr th {\n",
       "        vertical-align: top;\n",
       "    }\n",
       "\n",
       "    .dataframe thead th {\n",
       "        text-align: right;\n",
       "    }\n",
       "</style>\n",
       "<table border=\"1\" class=\"dataframe\">\n",
       "  <thead>\n",
       "    <tr style=\"text-align: right;\">\n",
       "      <th></th>\n",
       "      <th>日期</th>\n",
       "      <th>销售额</th>\n",
       "      <th>销售人员</th>\n",
       "      <th>地址</th>\n",
       "    </tr>\n",
       "  </thead>\n",
       "  <tbody>\n",
       "    <tr>\n",
       "      <th>001</th>\n",
       "      <td>2005-01-01</td>\n",
       "      <td>1000</td>\n",
       "      <td>孙哥</td>\n",
       "      <td>杭州</td>\n",
       "    </tr>\n",
       "    <tr>\n",
       "      <th>002</th>\n",
       "      <td>2005-01-02</td>\n",
       "      <td>1500</td>\n",
       "      <td>黄哥</td>\n",
       "      <td>上海</td>\n",
       "    </tr>\n",
       "    <tr>\n",
       "      <th>003</th>\n",
       "      <td>2005-01-03</td>\n",
       "      <td>800</td>\n",
       "      <td>翘兔</td>\n",
       "      <td>上海</td>\n",
       "    </tr>\n",
       "    <tr>\n",
       "      <th>004</th>\n",
       "      <td>2005-01-03</td>\n",
       "      <td>1200</td>\n",
       "      <td>sed老师</td>\n",
       "      <td>成都</td>\n",
       "    </tr>\n",
       "  </tbody>\n",
       "</table>\n",
       "</div>"
      ],
      "text/plain": [
       "             日期   销售额   销售人员  地址\n",
       "001  2005-01-01  1000     孙哥  杭州\n",
       "002  2005-01-02  1500     黄哥  上海\n",
       "003  2005-01-03   800     翘兔  上海\n",
       "004  2005-01-03  1200  sed老师  成都"
      ]
     },
     "execution_count": 7,
     "metadata": {},
     "output_type": "execute_result"
    }
   ],
   "source": [
    "DF3.loc[\"003\": \"004\", \"日期\"] = \"2005-01-03\"\n",
    "DF3"
   ]
  },
  {
   "cell_type": "markdown",
   "id": "37250a4a-e046-40fb-9283-5d4f4c62e861",
   "metadata": {},
   "source": [
    "自动找到缺失值进行填充"
   ]
  },
  {
   "cell_type": "code",
   "execution_count": 8,
   "id": "52a119e5-e67b-4d0b-a57f-44d63f37478e",
   "metadata": {},
   "outputs": [
    {
     "data": {
      "text/html": [
       "<div>\n",
       "<style scoped>\n",
       "    .dataframe tbody tr th:only-of-type {\n",
       "        vertical-align: middle;\n",
       "    }\n",
       "\n",
       "    .dataframe tbody tr th {\n",
       "        vertical-align: top;\n",
       "    }\n",
       "\n",
       "    .dataframe thead th {\n",
       "        text-align: right;\n",
       "    }\n",
       "</style>\n",
       "<table border=\"1\" class=\"dataframe\">\n",
       "  <thead>\n",
       "    <tr style=\"text-align: right;\">\n",
       "      <th></th>\n",
       "      <th>A</th>\n",
       "      <th>B</th>\n",
       "      <th>C</th>\n",
       "    </tr>\n",
       "  </thead>\n",
       "  <tbody>\n",
       "    <tr>\n",
       "      <th>0</th>\n",
       "      <td>1.0</td>\n",
       "      <td>5.0</td>\n",
       "      <td>8</td>\n",
       "    </tr>\n",
       "    <tr>\n",
       "      <th>1</th>\n",
       "      <td>2.0</td>\n",
       "      <td>NaN</td>\n",
       "      <td>9</td>\n",
       "    </tr>\n",
       "    <tr>\n",
       "      <th>2</th>\n",
       "      <td>NaN</td>\n",
       "      <td>7.0</td>\n",
       "      <td>10</td>\n",
       "    </tr>\n",
       "    <tr>\n",
       "      <th>3</th>\n",
       "      <td>4.0</td>\n",
       "      <td>NaN</td>\n",
       "      <td>11</td>\n",
       "    </tr>\n",
       "  </tbody>\n",
       "</table>\n",
       "</div>"
      ],
      "text/plain": [
       "     A    B   C\n",
       "0  1.0  5.0   8\n",
       "1  2.0  NaN   9\n",
       "2  NaN  7.0  10\n",
       "3  4.0  NaN  11"
      ]
     },
     "execution_count": 8,
     "metadata": {},
     "output_type": "execute_result"
    }
   ],
   "source": [
    "S_01_04 = pd.Series([1.0, 2.0, np.nan, 4.0])\n",
    "S_02_04 = pd.Series([5.0, np.nan, 7.0, np.nan])\n",
    "S_03_04 = pd.Series([8, 9, 10, 11])\n",
    "DF4 = pd.DataFrame({\"A\": S_01_04 , \"B\": S_02_04 , \n",
    "                    \"C\": S_03_04})\n",
    "DF4"
   ]
  },
  {
   "cell_type": "code",
   "execution_count": 9,
   "id": "600d31d2-64bc-48c3-b881-d72db098af1a",
   "metadata": {},
   "outputs": [
    {
     "data": {
      "text/plain": [
       "0    5.0\n",
       "1    0.0\n",
       "2    7.0\n",
       "3    0.0\n",
       "Name: B, dtype: float64"
      ]
     },
     "execution_count": 9,
     "metadata": {},
     "output_type": "execute_result"
    }
   ],
   "source": [
    "# 将 A 列中的空白部分填写为 0 \n",
    "DF4[\"B\"].fillna(0)"
   ]
  },
  {
   "cell_type": "code",
   "execution_count": 10,
   "id": "b1fb34f8-b10d-49bc-8204-9b253518eeed",
   "metadata": {},
   "outputs": [
    {
     "data": {
      "text/plain": [
       "0    5.0\n",
       "1    6.0\n",
       "2    7.0\n",
       "3    6.0\n",
       "Name: B, dtype: float64"
      ]
     },
     "execution_count": 10,
     "metadata": {},
     "output_type": "execute_result"
    }
   ],
   "source": [
    "# 将 A 列中的空白部分填写为平均值\n",
    "DF4[\"B\"].fillna(DF4[\"B\"].mean())"
   ]
  },
  {
   "cell_type": "code",
   "execution_count": 11,
   "id": "3dffffce-3790-4de1-ba2d-7f1013eec453",
   "metadata": {},
   "outputs": [
    {
     "data": {
      "text/html": [
       "<div>\n",
       "<style scoped>\n",
       "    .dataframe tbody tr th:only-of-type {\n",
       "        vertical-align: middle;\n",
       "    }\n",
       "\n",
       "    .dataframe tbody tr th {\n",
       "        vertical-align: top;\n",
       "    }\n",
       "\n",
       "    .dataframe thead th {\n",
       "        text-align: right;\n",
       "    }\n",
       "</style>\n",
       "<table border=\"1\" class=\"dataframe\">\n",
       "  <thead>\n",
       "    <tr style=\"text-align: right;\">\n",
       "      <th></th>\n",
       "      <th>A</th>\n",
       "      <th>B</th>\n",
       "      <th>C</th>\n",
       "    </tr>\n",
       "  </thead>\n",
       "  <tbody>\n",
       "    <tr>\n",
       "      <th>0</th>\n",
       "      <td>1.0</td>\n",
       "      <td>5.0</td>\n",
       "      <td>8</td>\n",
       "    </tr>\n",
       "    <tr>\n",
       "      <th>1</th>\n",
       "      <td>2.0</td>\n",
       "      <td>0.0</td>\n",
       "      <td>9</td>\n",
       "    </tr>\n",
       "    <tr>\n",
       "      <th>2</th>\n",
       "      <td>0.0</td>\n",
       "      <td>7.0</td>\n",
       "      <td>10</td>\n",
       "    </tr>\n",
       "    <tr>\n",
       "      <th>3</th>\n",
       "      <td>4.0</td>\n",
       "      <td>0.0</td>\n",
       "      <td>11</td>\n",
       "    </tr>\n",
       "  </tbody>\n",
       "</table>\n",
       "</div>"
      ],
      "text/plain": [
       "     A    B   C\n",
       "0  1.0  5.0   8\n",
       "1  2.0  0.0   9\n",
       "2  0.0  7.0  10\n",
       "3  4.0  0.0  11"
      ]
     },
     "execution_count": 11,
     "metadata": {},
     "output_type": "execute_result"
    }
   ],
   "source": [
    "DF4.fillna(0)"
   ]
  },
  {
   "cell_type": "code",
   "execution_count": 12,
   "id": "5456a5e2-d5f7-44ca-b5be-8a2cb55d44dc",
   "metadata": {},
   "outputs": [
    {
     "data": {
      "text/html": [
       "<div>\n",
       "<style scoped>\n",
       "    .dataframe tbody tr th:only-of-type {\n",
       "        vertical-align: middle;\n",
       "    }\n",
       "\n",
       "    .dataframe tbody tr th {\n",
       "        vertical-align: top;\n",
       "    }\n",
       "\n",
       "    .dataframe thead th {\n",
       "        text-align: right;\n",
       "    }\n",
       "</style>\n",
       "<table border=\"1\" class=\"dataframe\">\n",
       "  <thead>\n",
       "    <tr style=\"text-align: right;\">\n",
       "      <th></th>\n",
       "      <th>A</th>\n",
       "      <th>B</th>\n",
       "      <th>C</th>\n",
       "    </tr>\n",
       "  </thead>\n",
       "  <tbody>\n",
       "    <tr>\n",
       "      <th>0</th>\n",
       "      <td>1.0</td>\n",
       "      <td>5.0</td>\n",
       "      <td>8</td>\n",
       "    </tr>\n",
       "    <tr>\n",
       "      <th>1</th>\n",
       "      <td>2.0</td>\n",
       "      <td>10.0</td>\n",
       "      <td>9</td>\n",
       "    </tr>\n",
       "    <tr>\n",
       "      <th>2</th>\n",
       "      <td>0.0</td>\n",
       "      <td>7.0</td>\n",
       "      <td>10</td>\n",
       "    </tr>\n",
       "    <tr>\n",
       "      <th>3</th>\n",
       "      <td>4.0</td>\n",
       "      <td>10.0</td>\n",
       "      <td>11</td>\n",
       "    </tr>\n",
       "  </tbody>\n",
       "</table>\n",
       "</div>"
      ],
      "text/plain": [
       "     A     B   C\n",
       "0  1.0   5.0   8\n",
       "1  2.0  10.0   9\n",
       "2  0.0   7.0  10\n",
       "3  4.0  10.0  11"
      ]
     },
     "execution_count": 12,
     "metadata": {},
     "output_type": "execute_result"
    }
   ],
   "source": [
    "DF4.fillna({'A': 0, 'B': 10, 'C': 20})"
   ]
  },
  {
   "cell_type": "markdown",
   "id": "eaf7d9a1-d753-4b65-b692-38526e33e5c6",
   "metadata": {},
   "source": [
    "如果想改变原始列  \n",
    "`DF4 = DF4.fillna(0)`  \n",
    "`DF4.fillna(0, inplace = True)`"
   ]
  },
  {
   "cell_type": "markdown",
   "id": "3b664482-b4dc-4007-a577-bfd9b1acd926",
   "metadata": {},
   "source": [
    "删除存在缺失值的行"
   ]
  },
  {
   "cell_type": "code",
   "execution_count": 13,
   "id": "05175729-dcce-49ce-89ed-fcb58358bdc3",
   "metadata": {},
   "outputs": [
    {
     "data": {
      "text/html": [
       "<div>\n",
       "<style scoped>\n",
       "    .dataframe tbody tr th:only-of-type {\n",
       "        vertical-align: middle;\n",
       "    }\n",
       "\n",
       "    .dataframe tbody tr th {\n",
       "        vertical-align: top;\n",
       "    }\n",
       "\n",
       "    .dataframe thead th {\n",
       "        text-align: right;\n",
       "    }\n",
       "</style>\n",
       "<table border=\"1\" class=\"dataframe\">\n",
       "  <thead>\n",
       "    <tr style=\"text-align: right;\">\n",
       "      <th></th>\n",
       "      <th>姓名</th>\n",
       "      <th>年龄</th>\n",
       "      <th>工资</th>\n",
       "      <th>性别</th>\n",
       "    </tr>\n",
       "  </thead>\n",
       "  <tbody>\n",
       "    <tr>\n",
       "      <th>0</th>\n",
       "      <td>孙哥</td>\n",
       "      <td>25.0</td>\n",
       "      <td>50000.0</td>\n",
       "      <td>M</td>\n",
       "    </tr>\n",
       "    <tr>\n",
       "      <th>1</th>\n",
       "      <td>黄哥</td>\n",
       "      <td>30.0</td>\n",
       "      <td>NaN</td>\n",
       "      <td>F</td>\n",
       "    </tr>\n",
       "    <tr>\n",
       "      <th>2</th>\n",
       "      <td>翘兔</td>\n",
       "      <td>NaN</td>\n",
       "      <td>70000.0</td>\n",
       "      <td>M</td>\n",
       "    </tr>\n",
       "    <tr>\n",
       "      <th>3</th>\n",
       "      <td>sed老师</td>\n",
       "      <td>40.0</td>\n",
       "      <td>60000.0</td>\n",
       "      <td>F</td>\n",
       "    </tr>\n",
       "  </tbody>\n",
       "</table>\n",
       "</div>"
      ],
      "text/plain": [
       "      姓名    年龄       工资 性别\n",
       "0     孙哥  25.0  50000.0  M\n",
       "1     黄哥  30.0      NaN  F\n",
       "2     翘兔   NaN  70000.0  M\n",
       "3  sed老师  40.0  60000.0  F"
      ]
     },
     "execution_count": 13,
     "metadata": {},
     "output_type": "execute_result"
    }
   ],
   "source": [
    "S_01_05 = pd.Series([\"孙哥\", \"黄哥\", \"翘兔\", \"sed老师\"])\n",
    "S_02_05 = pd.Series([25.0, 30.0, np.nan, 40])\n",
    "S_03_05 = pd.Series([50000.0, np.nan, 70000.0, 60000.0])\n",
    "S_04_05 = pd.Series([\"M\", \"F\", \"M\", \"F\"])\n",
    "DF5 = pd.DataFrame({\"姓名\": S_01_05 , \"年龄\": S_02_05 , \n",
    "                    \"工资\": S_03_05 , \"性别\": S_04_05})\n",
    "DF5"
   ]
  },
  {
   "cell_type": "code",
   "execution_count": 14,
   "id": "89bcc2c5-157a-4144-ab0d-7fa4931fba2d",
   "metadata": {},
   "outputs": [
    {
     "data": {
      "text/html": [
       "<div>\n",
       "<style scoped>\n",
       "    .dataframe tbody tr th:only-of-type {\n",
       "        vertical-align: middle;\n",
       "    }\n",
       "\n",
       "    .dataframe tbody tr th {\n",
       "        vertical-align: top;\n",
       "    }\n",
       "\n",
       "    .dataframe thead th {\n",
       "        text-align: right;\n",
       "    }\n",
       "</style>\n",
       "<table border=\"1\" class=\"dataframe\">\n",
       "  <thead>\n",
       "    <tr style=\"text-align: right;\">\n",
       "      <th></th>\n",
       "      <th>姓名</th>\n",
       "      <th>年龄</th>\n",
       "      <th>工资</th>\n",
       "      <th>性别</th>\n",
       "    </tr>\n",
       "  </thead>\n",
       "  <tbody>\n",
       "    <tr>\n",
       "      <th>0</th>\n",
       "      <td>孙哥</td>\n",
       "      <td>25.0</td>\n",
       "      <td>50000.0</td>\n",
       "      <td>M</td>\n",
       "    </tr>\n",
       "    <tr>\n",
       "      <th>3</th>\n",
       "      <td>sed老师</td>\n",
       "      <td>40.0</td>\n",
       "      <td>60000.0</td>\n",
       "      <td>F</td>\n",
       "    </tr>\n",
       "  </tbody>\n",
       "</table>\n",
       "</div>"
      ],
      "text/plain": [
       "      姓名    年龄       工资 性别\n",
       "0     孙哥  25.0  50000.0  M\n",
       "3  sed老师  40.0  60000.0  F"
      ]
     },
     "execution_count": 14,
     "metadata": {},
     "output_type": "execute_result"
    }
   ],
   "source": [
    "DF5.dropna()"
   ]
  },
  {
   "cell_type": "code",
   "execution_count": 15,
   "id": "e2e34901-67d5-4328-a2f4-99c19b2f5baa",
   "metadata": {},
   "outputs": [
    {
     "data": {
      "text/html": [
       "<div>\n",
       "<style scoped>\n",
       "    .dataframe tbody tr th:only-of-type {\n",
       "        vertical-align: middle;\n",
       "    }\n",
       "\n",
       "    .dataframe tbody tr th {\n",
       "        vertical-align: top;\n",
       "    }\n",
       "\n",
       "    .dataframe thead th {\n",
       "        text-align: right;\n",
       "    }\n",
       "</style>\n",
       "<table border=\"1\" class=\"dataframe\">\n",
       "  <thead>\n",
       "    <tr style=\"text-align: right;\">\n",
       "      <th></th>\n",
       "      <th>姓名</th>\n",
       "      <th>年龄</th>\n",
       "      <th>工资</th>\n",
       "      <th>性别</th>\n",
       "    </tr>\n",
       "  </thead>\n",
       "  <tbody>\n",
       "    <tr>\n",
       "      <th>0</th>\n",
       "      <td>孙哥</td>\n",
       "      <td>25.0</td>\n",
       "      <td>50000.0</td>\n",
       "      <td>M</td>\n",
       "    </tr>\n",
       "    <tr>\n",
       "      <th>2</th>\n",
       "      <td>翘兔</td>\n",
       "      <td>NaN</td>\n",
       "      <td>70000.0</td>\n",
       "      <td>M</td>\n",
       "    </tr>\n",
       "    <tr>\n",
       "      <th>3</th>\n",
       "      <td>sed老师</td>\n",
       "      <td>40.0</td>\n",
       "      <td>60000.0</td>\n",
       "      <td>F</td>\n",
       "    </tr>\n",
       "  </tbody>\n",
       "</table>\n",
       "</div>"
      ],
      "text/plain": [
       "      姓名    年龄       工资 性别\n",
       "0     孙哥  25.0  50000.0  M\n",
       "2     翘兔   NaN  70000.0  M\n",
       "3  sed老师  40.0  60000.0  F"
      ]
     },
     "execution_count": 15,
     "metadata": {},
     "output_type": "execute_result"
    }
   ],
   "source": [
    "DF5.dropna(subset = [\"工资\"])"
   ]
  },
  {
   "cell_type": "code",
   "execution_count": 16,
   "id": "7855650b-b020-4911-b8d5-cba19f6403b3",
   "metadata": {},
   "outputs": [
    {
     "data": {
      "text/html": [
       "<div>\n",
       "<style scoped>\n",
       "    .dataframe tbody tr th:only-of-type {\n",
       "        vertical-align: middle;\n",
       "    }\n",
       "\n",
       "    .dataframe tbody tr th {\n",
       "        vertical-align: top;\n",
       "    }\n",
       "\n",
       "    .dataframe thead th {\n",
       "        text-align: right;\n",
       "    }\n",
       "</style>\n",
       "<table border=\"1\" class=\"dataframe\">\n",
       "  <thead>\n",
       "    <tr style=\"text-align: right;\">\n",
       "      <th></th>\n",
       "      <th>姓名</th>\n",
       "      <th>性别</th>\n",
       "    </tr>\n",
       "  </thead>\n",
       "  <tbody>\n",
       "    <tr>\n",
       "      <th>0</th>\n",
       "      <td>孙哥</td>\n",
       "      <td>M</td>\n",
       "    </tr>\n",
       "    <tr>\n",
       "      <th>1</th>\n",
       "      <td>黄哥</td>\n",
       "      <td>F</td>\n",
       "    </tr>\n",
       "    <tr>\n",
       "      <th>2</th>\n",
       "      <td>翘兔</td>\n",
       "      <td>M</td>\n",
       "    </tr>\n",
       "    <tr>\n",
       "      <th>3</th>\n",
       "      <td>sed老师</td>\n",
       "      <td>F</td>\n",
       "    </tr>\n",
       "  </tbody>\n",
       "</table>\n",
       "</div>"
      ],
      "text/plain": [
       "      姓名 性别\n",
       "0     孙哥  M\n",
       "1     黄哥  F\n",
       "2     翘兔  M\n",
       "3  sed老师  F"
      ]
     },
     "execution_count": 16,
     "metadata": {},
     "output_type": "execute_result"
    }
   ],
   "source": [
    "DF5.dropna(axis = 1)"
   ]
  },
  {
   "cell_type": "markdown",
   "id": "7e339182-2bb2-4c9d-8c6e-e9f882f57f8c",
   "metadata": {},
   "source": [
    "如果想改变原来表中的数据：  \n",
    "`DF5 = DF5.dropna(subset = [\"工资\"])`  \n",
    "`DF5.dropna(subset = [\"工资\"],inplace = True`"
   ]
  },
  {
   "cell_type": "markdown",
   "id": "54695f07-78bb-4701-87a1-00448bb97379",
   "metadata": {},
   "source": [
    "删除重复数据"
   ]
  },
  {
   "cell_type": "code",
   "execution_count": 17,
   "id": "78ddf501-104d-4157-8678-e380b398bcd3",
   "metadata": {},
   "outputs": [
    {
     "data": {
      "text/html": [
       "<div>\n",
       "<style scoped>\n",
       "    .dataframe tbody tr th:only-of-type {\n",
       "        vertical-align: middle;\n",
       "    }\n",
       "\n",
       "    .dataframe tbody tr th {\n",
       "        vertical-align: top;\n",
       "    }\n",
       "\n",
       "    .dataframe thead th {\n",
       "        text-align: right;\n",
       "    }\n",
       "</style>\n",
       "<table border=\"1\" class=\"dataframe\">\n",
       "  <thead>\n",
       "    <tr style=\"text-align: right;\">\n",
       "      <th></th>\n",
       "      <th>姓名</th>\n",
       "      <th>年龄</th>\n",
       "      <th>性别</th>\n",
       "    </tr>\n",
       "  </thead>\n",
       "  <tbody>\n",
       "    <tr>\n",
       "      <th>0</th>\n",
       "      <td>孙哥</td>\n",
       "      <td>25</td>\n",
       "      <td>M</td>\n",
       "    </tr>\n",
       "    <tr>\n",
       "      <th>1</th>\n",
       "      <td>黄哥</td>\n",
       "      <td>30</td>\n",
       "      <td>F</td>\n",
       "    </tr>\n",
       "    <tr>\n",
       "      <th>2</th>\n",
       "      <td>翘兔</td>\n",
       "      <td>35</td>\n",
       "      <td>M</td>\n",
       "    </tr>\n",
       "    <tr>\n",
       "      <th>3</th>\n",
       "      <td>黄哥</td>\n",
       "      <td>30</td>\n",
       "      <td>F</td>\n",
       "    </tr>\n",
       "    <tr>\n",
       "      <th>4</th>\n",
       "      <td>sed老师</td>\n",
       "      <td>40</td>\n",
       "      <td>M</td>\n",
       "    </tr>\n",
       "  </tbody>\n",
       "</table>\n",
       "</div>"
      ],
      "text/plain": [
       "      姓名  年龄 性别\n",
       "0     孙哥  25  M\n",
       "1     黄哥  30  F\n",
       "2     翘兔  35  M\n",
       "3     黄哥  30  F\n",
       "4  sed老师  40  M"
      ]
     },
     "execution_count": 17,
     "metadata": {},
     "output_type": "execute_result"
    }
   ],
   "source": [
    "S_01_06 = pd.Series([\"孙哥\", \"黄哥\", \"翘兔\", \"黄哥\", \"sed老师\"])\n",
    "S_02_06 = pd.Series([25, 30, 35, 30, 40]) \n",
    "S_03_06 = pd.Series([\"M\", \"F\", \"M\", \"F\", \"M\"])\n",
    "DF6 = pd.DataFrame({\"姓名\": S_01_06 , \"年龄\": S_02_06, \n",
    "                    \"性别\": S_03_06})\n",
    "DF6"
   ]
  },
  {
   "cell_type": "code",
   "execution_count": 18,
   "id": "9894493c-8ee8-4974-8592-2275c02123a4",
   "metadata": {},
   "outputs": [
    {
     "data": {
      "text/plain": [
       "0       孙哥\n",
       "1       黄哥\n",
       "2       翘兔\n",
       "4    sed老师\n",
       "Name: 姓名, dtype: object"
      ]
     },
     "execution_count": 18,
     "metadata": {},
     "output_type": "execute_result"
    }
   ],
   "source": [
    "DF6[\"姓名\"].drop_duplicates()"
   ]
  },
  {
   "cell_type": "code",
   "execution_count": 19,
   "id": "57abc93c-c4e5-4d74-b67c-85c41b26acc0",
   "metadata": {},
   "outputs": [
    {
     "data": {
      "text/html": [
       "<div>\n",
       "<style scoped>\n",
       "    .dataframe tbody tr th:only-of-type {\n",
       "        vertical-align: middle;\n",
       "    }\n",
       "\n",
       "    .dataframe tbody tr th {\n",
       "        vertical-align: top;\n",
       "    }\n",
       "\n",
       "    .dataframe thead th {\n",
       "        text-align: right;\n",
       "    }\n",
       "</style>\n",
       "<table border=\"1\" class=\"dataframe\">\n",
       "  <thead>\n",
       "    <tr style=\"text-align: right;\">\n",
       "      <th></th>\n",
       "      <th>姓名</th>\n",
       "      <th>年龄</th>\n",
       "      <th>性别</th>\n",
       "    </tr>\n",
       "  </thead>\n",
       "  <tbody>\n",
       "    <tr>\n",
       "      <th>0</th>\n",
       "      <td>孙哥</td>\n",
       "      <td>25</td>\n",
       "      <td>M</td>\n",
       "    </tr>\n",
       "    <tr>\n",
       "      <th>1</th>\n",
       "      <td>黄哥</td>\n",
       "      <td>30</td>\n",
       "      <td>F</td>\n",
       "    </tr>\n",
       "    <tr>\n",
       "      <th>2</th>\n",
       "      <td>翘兔</td>\n",
       "      <td>35</td>\n",
       "      <td>M</td>\n",
       "    </tr>\n",
       "    <tr>\n",
       "      <th>4</th>\n",
       "      <td>sed老师</td>\n",
       "      <td>40</td>\n",
       "      <td>M</td>\n",
       "    </tr>\n",
       "  </tbody>\n",
       "</table>\n",
       "</div>"
      ],
      "text/plain": [
       "      姓名  年龄 性别\n",
       "0     孙哥  25  M\n",
       "1     黄哥  30  F\n",
       "2     翘兔  35  M\n",
       "4  sed老师  40  M"
      ]
     },
     "execution_count": 19,
     "metadata": {},
     "output_type": "execute_result"
    }
   ],
   "source": [
    "DF6.drop_duplicates()"
   ]
  },
  {
   "cell_type": "code",
   "execution_count": 20,
   "id": "134a3235-523f-428d-8e02-651bf2e67e52",
   "metadata": {},
   "outputs": [
    {
     "data": {
      "text/html": [
       "<div>\n",
       "<style scoped>\n",
       "    .dataframe tbody tr th:only-of-type {\n",
       "        vertical-align: middle;\n",
       "    }\n",
       "\n",
       "    .dataframe tbody tr th {\n",
       "        vertical-align: top;\n",
       "    }\n",
       "\n",
       "    .dataframe thead th {\n",
       "        text-align: right;\n",
       "    }\n",
       "</style>\n",
       "<table border=\"1\" class=\"dataframe\">\n",
       "  <thead>\n",
       "    <tr style=\"text-align: right;\">\n",
       "      <th></th>\n",
       "      <th>姓名</th>\n",
       "      <th>年龄</th>\n",
       "      <th>性别</th>\n",
       "    </tr>\n",
       "  </thead>\n",
       "  <tbody>\n",
       "    <tr>\n",
       "      <th>0</th>\n",
       "      <td>孙哥</td>\n",
       "      <td>25</td>\n",
       "      <td>M</td>\n",
       "    </tr>\n",
       "    <tr>\n",
       "      <th>1</th>\n",
       "      <td>黄哥</td>\n",
       "      <td>30</td>\n",
       "      <td>F</td>\n",
       "    </tr>\n",
       "    <tr>\n",
       "      <th>2</th>\n",
       "      <td>翘兔</td>\n",
       "      <td>35</td>\n",
       "      <td>M</td>\n",
       "    </tr>\n",
       "    <tr>\n",
       "      <th>4</th>\n",
       "      <td>sed老师</td>\n",
       "      <td>40</td>\n",
       "      <td>M</td>\n",
       "    </tr>\n",
       "  </tbody>\n",
       "</table>\n",
       "</div>"
      ],
      "text/plain": [
       "      姓名  年龄 性别\n",
       "0     孙哥  25  M\n",
       "1     黄哥  30  F\n",
       "2     翘兔  35  M\n",
       "4  sed老师  40  M"
      ]
     },
     "execution_count": 20,
     "metadata": {},
     "output_type": "execute_result"
    }
   ],
   "source": [
    "DF6.drop_duplicates(subset = [\"姓名\", \"性别\"])"
   ]
  },
  {
   "cell_type": "code",
   "execution_count": 21,
   "id": "43ee6d01-e7ee-4cbf-a3e2-fb1fd0d55fa5",
   "metadata": {},
   "outputs": [
    {
     "data": {
      "text/plain": [
       "0       孙哥\n",
       "2       翘兔\n",
       "3       黄哥\n",
       "4    sed老师\n",
       "Name: 姓名, dtype: object"
      ]
     },
     "execution_count": 21,
     "metadata": {},
     "output_type": "execute_result"
    }
   ],
   "source": [
    "DF6[\"姓名\"].drop_duplicates(keep = \"last\")"
   ]
  },
  {
   "cell_type": "markdown",
   "id": "711a7b06-c99a-476b-8b21-e69b3eaae8ab",
   "metadata": {},
   "source": [
    "如果要改变原始`DataFrame`  \n",
    "`DF6 = DF6.drop_duplicates()`<br>\n",
    "`DF6.drop_duplicates(inplace = True)`"
   ]
  },
  {
   "cell_type": "markdown",
   "id": "f6e3a664-3e62-43bb-99da-4b3974875a92",
   "metadata": {},
   "source": [
    "对值进行替换"
   ]
  },
  {
   "cell_type": "code",
   "execution_count": 22,
   "id": "111d8e93-d0a3-4697-b8c1-a373b86bf07d",
   "metadata": {},
   "outputs": [
    {
     "data": {
      "text/html": [
       "<div>\n",
       "<style scoped>\n",
       "    .dataframe tbody tr th:only-of-type {\n",
       "        vertical-align: middle;\n",
       "    }\n",
       "\n",
       "    .dataframe tbody tr th {\n",
       "        vertical-align: top;\n",
       "    }\n",
       "\n",
       "    .dataframe thead th {\n",
       "        text-align: right;\n",
       "    }\n",
       "</style>\n",
       "<table border=\"1\" class=\"dataframe\">\n",
       "  <thead>\n",
       "    <tr style=\"text-align: right;\">\n",
       "      <th></th>\n",
       "      <th>姓名</th>\n",
       "      <th>家乡</th>\n",
       "      <th>学校</th>\n",
       "    </tr>\n",
       "  </thead>\n",
       "  <tbody>\n",
       "    <tr>\n",
       "      <th>0</th>\n",
       "      <td>孙哥</td>\n",
       "      <td>杭州</td>\n",
       "      <td>树人大学</td>\n",
       "    </tr>\n",
       "    <tr>\n",
       "      <th>1</th>\n",
       "      <td>黄哥</td>\n",
       "      <td>上海</td>\n",
       "      <td>3484学院</td>\n",
       "    </tr>\n",
       "    <tr>\n",
       "      <th>2</th>\n",
       "      <td>翘兔</td>\n",
       "      <td>上海</td>\n",
       "      <td>瞧尔萨斯学院</td>\n",
       "    </tr>\n",
       "    <tr>\n",
       "      <th>3</th>\n",
       "      <td>sed老师</td>\n",
       "      <td>成都</td>\n",
       "      <td>3484</td>\n",
       "    </tr>\n",
       "  </tbody>\n",
       "</table>\n",
       "</div>"
      ],
      "text/plain": [
       "      姓名  家乡      学校\n",
       "0     孙哥  杭州    树人大学\n",
       "1     黄哥  上海  3484学院\n",
       "2     翘兔  上海  瞧尔萨斯学院\n",
       "3  sed老师  成都    3484"
      ]
     },
     "execution_count": 22,
     "metadata": {},
     "output_type": "execute_result"
    }
   ],
   "source": [
    "S_01_07 = pd.Series([\"孙哥\", \"黄哥\", \"翘兔\", \"sed老师\"])\n",
    "S_02_07 = pd.Series([\"杭州\", \"上海\", \"上海\", \"成都\"])\n",
    "S_03_07 = pd.Series([\"树人大学\", \"3484学院\", \"瞧尔萨斯学院\", \"3484\"])\n",
    "DF7 = pd.DataFrame({\"姓名\": S_01_07, \"家乡\": S_02_07, \n",
    "                    \"学校\": S_03_07})\n",
    "DF7"
   ]
  },
  {
   "cell_type": "code",
   "execution_count": 23,
   "id": "0feac6ad-e26a-460f-8507-93de33f8556a",
   "metadata": {},
   "outputs": [
    {
     "data": {
      "text/plain": [
       "0      树人大学\n",
       "1    3484学院\n",
       "2    瞧尔萨斯学院\n",
       "3    3484学院\n",
       "Name: 学校, dtype: object"
      ]
     },
     "execution_count": 23,
     "metadata": {},
     "output_type": "execute_result"
    }
   ],
   "source": [
    "DF7[\"学校\"].replace(\"3484\", \"3484学院\")"
   ]
  },
  {
   "cell_type": "code",
   "execution_count": 24,
   "id": "8811ac05-d5dd-46a1-9d67-c61f1f534518",
   "metadata": {},
   "outputs": [
    {
     "data": {
      "text/html": [
       "<div>\n",
       "<style scoped>\n",
       "    .dataframe tbody tr th:only-of-type {\n",
       "        vertical-align: middle;\n",
       "    }\n",
       "\n",
       "    .dataframe tbody tr th {\n",
       "        vertical-align: top;\n",
       "    }\n",
       "\n",
       "    .dataframe thead th {\n",
       "        text-align: right;\n",
       "    }\n",
       "</style>\n",
       "<table border=\"1\" class=\"dataframe\">\n",
       "  <thead>\n",
       "    <tr style=\"text-align: right;\">\n",
       "      <th></th>\n",
       "      <th>姓名</th>\n",
       "      <th>家乡</th>\n",
       "      <th>学校</th>\n",
       "    </tr>\n",
       "  </thead>\n",
       "  <tbody>\n",
       "    <tr>\n",
       "      <th>0</th>\n",
       "      <td>孙哥</td>\n",
       "      <td>杭州</td>\n",
       "      <td>树人大学</td>\n",
       "    </tr>\n",
       "    <tr>\n",
       "      <th>1</th>\n",
       "      <td>黄哥</td>\n",
       "      <td>上海</td>\n",
       "      <td>3484学院</td>\n",
       "    </tr>\n",
       "    <tr>\n",
       "      <th>2</th>\n",
       "      <td>翘兔</td>\n",
       "      <td>上海</td>\n",
       "      <td>瞧尔萨斯学院</td>\n",
       "    </tr>\n",
       "    <tr>\n",
       "      <th>3</th>\n",
       "      <td>sed老师</td>\n",
       "      <td>成都</td>\n",
       "      <td>3484学院</td>\n",
       "    </tr>\n",
       "  </tbody>\n",
       "</table>\n",
       "</div>"
      ],
      "text/plain": [
       "      姓名  家乡      学校\n",
       "0     孙哥  杭州    树人大学\n",
       "1     黄哥  上海  3484学院\n",
       "2     翘兔  上海  瞧尔萨斯学院\n",
       "3  sed老师  成都  3484学院"
      ]
     },
     "execution_count": 24,
     "metadata": {},
     "output_type": "execute_result"
    }
   ],
   "source": [
    "DF7.replace(\"3484\", \"3484学院\")"
   ]
  },
  {
   "cell_type": "code",
   "execution_count": 25,
   "id": "79978c3d-6083-4689-91a4-ee626cfe5851",
   "metadata": {},
   "outputs": [
    {
     "data": {
      "text/html": [
       "<div>\n",
       "<style scoped>\n",
       "    .dataframe tbody tr th:only-of-type {\n",
       "        vertical-align: middle;\n",
       "    }\n",
       "\n",
       "    .dataframe tbody tr th {\n",
       "        vertical-align: top;\n",
       "    }\n",
       "\n",
       "    .dataframe thead th {\n",
       "        text-align: right;\n",
       "    }\n",
       "</style>\n",
       "<table border=\"1\" class=\"dataframe\">\n",
       "  <thead>\n",
       "    <tr style=\"text-align: right;\">\n",
       "      <th></th>\n",
       "      <th>姓名</th>\n",
       "      <th>家乡</th>\n",
       "      <th>学校</th>\n",
       "    </tr>\n",
       "  </thead>\n",
       "  <tbody>\n",
       "    <tr>\n",
       "      <th>0</th>\n",
       "      <td>孙哥</td>\n",
       "      <td>杭州</td>\n",
       "      <td>树人大学</td>\n",
       "    </tr>\n",
       "    <tr>\n",
       "      <th>1</th>\n",
       "      <td>黄哥</td>\n",
       "      <td>上海</td>\n",
       "      <td>3484学院</td>\n",
       "    </tr>\n",
       "    <tr>\n",
       "      <th>2</th>\n",
       "      <td>翘兔</td>\n",
       "      <td>上海</td>\n",
       "      <td>瞧尔萨斯学院</td>\n",
       "    </tr>\n",
       "    <tr>\n",
       "      <th>3</th>\n",
       "      <td>sed老师</td>\n",
       "      <td>成都</td>\n",
       "      <td>3484学院</td>\n",
       "    </tr>\n",
       "  </tbody>\n",
       "</table>\n",
       "</div>"
      ],
      "text/plain": [
       "      姓名  家乡      学校\n",
       "0     孙哥  杭州    树人大学\n",
       "1     黄哥  上海  3484学院\n",
       "2     翘兔  上海  瞧尔萨斯学院\n",
       "3  sed老师  成都  3484学院"
      ]
     },
     "execution_count": 25,
     "metadata": {},
     "output_type": "execute_result"
    }
   ],
   "source": [
    "DF7.replace([\"3484\", \"智力有问题的一群小人\", \"3484 College\"], \"3484学院\")"
   ]
  },
  {
   "cell_type": "code",
   "execution_count": 26,
   "id": "48f6a20a-e040-4e52-8c3c-4b40d17d9478",
   "metadata": {},
   "outputs": [
    {
     "data": {
      "text/html": [
       "<div>\n",
       "<style scoped>\n",
       "    .dataframe tbody tr th:only-of-type {\n",
       "        vertical-align: middle;\n",
       "    }\n",
       "\n",
       "    .dataframe tbody tr th {\n",
       "        vertical-align: top;\n",
       "    }\n",
       "\n",
       "    .dataframe thead th {\n",
       "        text-align: right;\n",
       "    }\n",
       "</style>\n",
       "<table border=\"1\" class=\"dataframe\">\n",
       "  <thead>\n",
       "    <tr style=\"text-align: right;\">\n",
       "      <th></th>\n",
       "      <th>姓名</th>\n",
       "      <th>家乡</th>\n",
       "      <th>学校</th>\n",
       "    </tr>\n",
       "  </thead>\n",
       "  <tbody>\n",
       "    <tr>\n",
       "      <th>0</th>\n",
       "      <td>孙哥</td>\n",
       "      <td>杭州</td>\n",
       "      <td>树人大学</td>\n",
       "    </tr>\n",
       "    <tr>\n",
       "      <th>1</th>\n",
       "      <td>黄哥</td>\n",
       "      <td>上海</td>\n",
       "      <td>3484学院</td>\n",
       "    </tr>\n",
       "    <tr>\n",
       "      <th>2</th>\n",
       "      <td>翘兔</td>\n",
       "      <td>上海</td>\n",
       "      <td>瞧尔萨斯学院</td>\n",
       "    </tr>\n",
       "    <tr>\n",
       "      <th>3</th>\n",
       "      <td>sed老师</td>\n",
       "      <td>成都</td>\n",
       "      <td>3484学院</td>\n",
       "    </tr>\n",
       "  </tbody>\n",
       "</table>\n",
       "</div>"
      ],
      "text/plain": [
       "      姓名  家乡      学校\n",
       "0     孙哥  杭州    树人大学\n",
       "1     黄哥  上海  3484学院\n",
       "2     翘兔  上海  瞧尔萨斯学院\n",
       "3  sed老师  成都  3484学院"
      ]
     },
     "execution_count": 26,
     "metadata": {},
     "output_type": "execute_result"
    }
   ],
   "source": [
    "replace_dict = {'铁炉堡': '铁炉堡小区',\n",
    "                '3484': '3484学院',\n",
    "                '瞧尔萨斯': '瞧尔萨斯精神病院',\n",
    "                '弱智': '一群小人'}\n",
    "DF7.replace(replace_dict)"
   ]
  },
  {
   "cell_type": "markdown",
   "id": "47b2f704-1023-4a82-96b0-634aff3bdacd",
   "metadata": {},
   "source": [
    "如果要改变原有`DataFrame`  \n",
    "`DF7 = DF7.replace(\"3484\", \"3484学院\")`  \n",
    "`DF7.replace(\"3484\", \"3484学院\", inplace = True)`"
   ]
  },
  {
   "cell_type": "markdown",
   "id": "11945e9e-c510-4e7d-a556-5213dc045072",
   "metadata": {},
   "source": [
    "对值的类型进行转换<br>\n",
    "转换成整数: `S1.astype(int)`<br>\n",
    "转换成字符串: `S1.astype(str)`<br>\n",
    "转换成浮点数: `S1.astype(float)`<br>\n",
    "转换成布尔值: `S1.astype(bool)`<br>\n",
    "...\n",
    "   比如int、 float、 str、 bool等"
   ]
  },
  {
   "cell_type": "code",
   "execution_count": 27,
   "id": "2ed5b840-399f-466a-bd8f-4e0a5f909b52",
   "metadata": {},
   "outputs": [
    {
     "data": {
      "text/plain": [
       "str"
      ]
     },
     "execution_count": 27,
     "metadata": {},
     "output_type": "execute_result"
    }
   ],
   "source": [
    "type(\"3\")"
   ]
  },
  {
   "cell_type": "code",
   "execution_count": 28,
   "id": "f40c9a8e-c0c2-4902-9f5d-236d255ec53a",
   "metadata": {},
   "outputs": [
    {
     "data": {
      "text/plain": [
       "int"
      ]
     },
     "execution_count": 28,
     "metadata": {},
     "output_type": "execute_result"
    }
   ],
   "source": [
    "type(3)"
   ]
  },
  {
   "cell_type": "code",
   "execution_count": 29,
   "id": "ccdbdc6e-bbe1-4970-b55a-a62b9c5b9e6c",
   "metadata": {},
   "outputs": [
    {
     "data": {
      "text/plain": [
       "float"
      ]
     },
     "execution_count": 29,
     "metadata": {},
     "output_type": "execute_result"
    }
   ],
   "source": [
    "type(3.0)"
   ]
  },
  {
   "cell_type": "code",
   "execution_count": 30,
   "id": "70f9b9d7-5a2c-4bfa-a5ec-29d0dcacef6b",
   "metadata": {},
   "outputs": [
    {
     "data": {
      "text/plain": [
       "list"
      ]
     },
     "execution_count": 30,
     "metadata": {},
     "output_type": "execute_result"
    }
   ],
   "source": [
    "type([1, 2])"
   ]
  },
  {
   "cell_type": "code",
   "execution_count": 31,
   "id": "d1028801-3751-4cee-9399-20092a81b047",
   "metadata": {},
   "outputs": [
    {
     "data": {
      "text/plain": [
       "bool"
      ]
     },
     "execution_count": 31,
     "metadata": {},
     "output_type": "execute_result"
    }
   ],
   "source": [
    "type(True)"
   ]
  },
  {
   "cell_type": "code",
   "execution_count": 32,
   "id": "e9f3b1dc-3757-40eb-9f3c-68e1a589aacd",
   "metadata": {},
   "outputs": [
    {
     "data": {
      "text/plain": [
       "str"
      ]
     },
     "execution_count": 32,
     "metadata": {},
     "output_type": "execute_result"
    }
   ],
   "source": [
    "type(\"[1, 2]\")"
   ]
  },
  {
   "cell_type": "code",
   "execution_count": 33,
   "id": "c583fe38-ce29-4612-8d8e-9ddd61818101",
   "metadata": {},
   "outputs": [
    {
     "data": {
      "text/plain": [
       "str"
      ]
     },
     "execution_count": 33,
     "metadata": {},
     "output_type": "execute_result"
    }
   ],
   "source": [
    "KKK = \"[1, 2]\"\n",
    "type(KKK)"
   ]
  },
  {
   "cell_type": "code",
   "execution_count": 34,
   "id": "923c68cd-5a2c-4617-b425-ce627f6eb35e",
   "metadata": {},
   "outputs": [
    {
     "data": {
      "text/plain": [
       "0     飞机\n",
       "1    手榴弹\n",
       "2     冰箱\n",
       "3     树枝\n",
       "dtype: category\n",
       "Categories (4, object): ['冰箱', '手榴弹', '树枝', '飞机']"
      ]
     },
     "execution_count": 34,
     "metadata": {},
     "output_type": "execute_result"
    }
   ],
   "source": [
    "S1 = pd.Series([\"飞机\", \"手榴弹\", \"冰箱\", \"树枝\"])\n",
    "S1.astype(\"category\")"
   ]
  },
  {
   "cell_type": "code",
   "execution_count": null,
   "id": "e9078f3e-5f35-459f-bbda-73ed3bc7fc7a",
   "metadata": {},
   "outputs": [],
   "source": []
  },
  {
   "cell_type": "code",
   "execution_count": null,
   "id": "d83703ad-9afd-409f-baa2-18001d195d7f",
   "metadata": {},
   "outputs": [],
   "source": []
  },
  {
   "cell_type": "code",
   "execution_count": null,
   "id": "5a1966ce-317d-479a-99ab-92628f25c23f",
   "metadata": {},
   "outputs": [],
   "source": []
  },
  {
   "cell_type": "code",
   "execution_count": null,
   "id": "300d8fed-787c-4270-95df-6f884ef96bd2",
   "metadata": {},
   "outputs": [],
   "source": []
  },
  {
   "cell_type": "code",
   "execution_count": null,
   "id": "3b6e6283-cf88-4636-9a3e-67221cc53227",
   "metadata": {},
   "outputs": [],
   "source": []
  },
  {
   "cell_type": "code",
   "execution_count": null,
   "id": "2f6acdec-c419-4898-af0a-0f4ebf805009",
   "metadata": {},
   "outputs": [],
   "source": []
  },
  {
   "cell_type": "code",
   "execution_count": null,
   "id": "302c0a8b-cd3e-4ec9-8bde-0bf0671a6459",
   "metadata": {},
   "outputs": [],
   "source": []
  },
  {
   "cell_type": "code",
   "execution_count": null,
   "id": "b629fee0-4387-41e1-94d0-da5e399eb7fc",
   "metadata": {},
   "outputs": [],
   "source": []
  },
  {
   "cell_type": "code",
   "execution_count": null,
   "id": "a593b411-e978-4b3e-8f65-2eebf39611af",
   "metadata": {},
   "outputs": [],
   "source": []
  },
  {
   "cell_type": "code",
   "execution_count": null,
   "id": "203e879b-fae2-4d22-abe8-0283a416ecdf",
   "metadata": {},
   "outputs": [],
   "source": []
  },
  {
   "cell_type": "code",
   "execution_count": null,
   "id": "d8b00d4b-28c8-41ee-9309-ea2c8b0c8002",
   "metadata": {},
   "outputs": [],
   "source": []
  },
  {
   "cell_type": "code",
   "execution_count": null,
   "id": "9d2d15b7-9535-427b-a83c-adaf0fa55313",
   "metadata": {},
   "outputs": [],
   "source": []
  },
  {
   "cell_type": "code",
   "execution_count": null,
   "id": "b5f03378-476b-4f6e-b0dc-bdc3e10ae3ec",
   "metadata": {},
   "outputs": [],
   "source": []
  },
  {
   "cell_type": "code",
   "execution_count": null,
   "id": "ce80086a-7f18-4e8a-b2b5-4d812b75914d",
   "metadata": {},
   "outputs": [],
   "source": []
  },
  {
   "cell_type": "code",
   "execution_count": null,
   "id": "f2e827d2-22c3-4445-a74a-252fd743883e",
   "metadata": {},
   "outputs": [],
   "source": []
  },
  {
   "cell_type": "code",
   "execution_count": null,
   "id": "16b5228e-ddfe-4441-913c-c697e2855b01",
   "metadata": {},
   "outputs": [],
   "source": []
  },
  {
   "cell_type": "code",
   "execution_count": null,
   "id": "ed189b1f-bf70-4048-b856-68e49608fdf8",
   "metadata": {},
   "outputs": [],
   "source": []
  },
  {
   "cell_type": "code",
   "execution_count": null,
   "id": "11aa66b5-b24f-40b6-9edc-e0ce7e6523e3",
   "metadata": {},
   "outputs": [],
   "source": []
  },
  {
   "cell_type": "code",
   "execution_count": null,
   "id": "2fab8cea-8fd2-43fd-8f09-6b586715a0f9",
   "metadata": {},
   "outputs": [],
   "source": []
  },
  {
   "cell_type": "code",
   "execution_count": null,
   "id": "269904e3-208f-449f-ad53-f3cfea78ad39",
   "metadata": {},
   "outputs": [],
   "source": []
  },
  {
   "cell_type": "code",
   "execution_count": null,
   "id": "bd1b33b6-9a0e-43a5-96bd-508d1a1613fd",
   "metadata": {},
   "outputs": [],
   "source": []
  },
  {
   "cell_type": "code",
   "execution_count": null,
   "id": "26ab8300-2082-43fe-8528-af00dbee9183",
   "metadata": {},
   "outputs": [],
   "source": []
  },
  {
   "cell_type": "code",
   "execution_count": null,
   "id": "79aa4244-43c2-49c3-ad95-dbcd88596b39",
   "metadata": {},
   "outputs": [],
   "source": []
  },
  {
   "cell_type": "code",
   "execution_count": null,
   "id": "808ffc69-dfe1-4561-9019-050f60f9a71b",
   "metadata": {},
   "outputs": [],
   "source": []
  },
  {
   "cell_type": "code",
   "execution_count": null,
   "id": "ca061656-efbc-48c1-9545-b3b5931cfc83",
   "metadata": {},
   "outputs": [],
   "source": []
  },
  {
   "cell_type": "code",
   "execution_count": null,
   "id": "e757bd6e-6aa1-4fb8-8eeb-11b833fedb21",
   "metadata": {},
   "outputs": [],
   "source": []
  },
  {
   "cell_type": "code",
   "execution_count": null,
   "id": "70a4ef75-b93e-46bb-b926-bff40c55779b",
   "metadata": {},
   "outputs": [],
   "source": []
  },
  {
   "cell_type": "code",
   "execution_count": null,
   "id": "17716a3a-30a8-44de-835c-d910f1dc79a9",
   "metadata": {},
   "outputs": [],
   "source": []
  },
  {
   "cell_type": "code",
   "execution_count": null,
   "id": "1d89c5dd-0a62-47c2-bd0a-19046774970c",
   "metadata": {},
   "outputs": [],
   "source": []
  },
  {
   "cell_type": "code",
   "execution_count": null,
   "id": "213e1378-6521-4b56-ab19-7ae793f7108c",
   "metadata": {},
   "outputs": [],
   "source": []
  },
  {
   "cell_type": "code",
   "execution_count": null,
   "id": "9649b30f-1ab4-4014-bc8a-14ed93d57bd1",
   "metadata": {},
   "outputs": [],
   "source": []
  },
  {
   "cell_type": "code",
   "execution_count": null,
   "id": "fcc01be4-1201-4a91-9a9c-5b0f9b37a31d",
   "metadata": {},
   "outputs": [],
   "source": []
  },
  {
   "cell_type": "code",
   "execution_count": null,
   "id": "f68aa10d-c6d7-4a88-aebb-c30147a0a4df",
   "metadata": {},
   "outputs": [],
   "source": []
  },
  {
   "cell_type": "code",
   "execution_count": null,
   "id": "dbd97877-944e-40bb-a657-e181de66fae3",
   "metadata": {},
   "outputs": [],
   "source": []
  },
  {
   "cell_type": "code",
   "execution_count": null,
   "id": "90933b30-e823-4e77-b67a-52913f43854e",
   "metadata": {},
   "outputs": [],
   "source": []
  },
  {
   "cell_type": "code",
   "execution_count": null,
   "id": "1d3790b4-6fa3-411c-a265-03e163cb6efb",
   "metadata": {},
   "outputs": [],
   "source": []
  },
  {
   "cell_type": "code",
   "execution_count": null,
   "id": "676bb439-22e7-4d49-85a4-97b203f766cf",
   "metadata": {},
   "outputs": [],
   "source": []
  },
  {
   "cell_type": "code",
   "execution_count": null,
   "id": "37625ea4-2670-43fb-ab84-c00f8e4efb1b",
   "metadata": {},
   "outputs": [],
   "source": []
  },
  {
   "cell_type": "code",
   "execution_count": null,
   "id": "12e9e806-59c9-45f8-9332-053fe831d0bb",
   "metadata": {},
   "outputs": [],
   "source": []
  },
  {
   "cell_type": "code",
   "execution_count": null,
   "id": "0500453b-a480-4592-9a4b-1578bc7ca438",
   "metadata": {},
   "outputs": [],
   "source": []
  },
  {
   "cell_type": "code",
   "execution_count": null,
   "id": "403ec98c-090b-4da6-ab96-ee023f06d225",
   "metadata": {},
   "outputs": [],
   "source": []
  },
  {
   "cell_type": "code",
   "execution_count": null,
   "id": "27f302a7-3503-49cc-b33e-bee204d2bf1a",
   "metadata": {},
   "outputs": [],
   "source": []
  },
  {
   "cell_type": "code",
   "execution_count": null,
   "id": "1fde821f-aa4b-484b-81db-c9397084989e",
   "metadata": {},
   "outputs": [],
   "source": []
  },
  {
   "cell_type": "code",
   "execution_count": null,
   "id": "bc64bb7d-8705-4ccb-872f-95d47f5b5846",
   "metadata": {},
   "outputs": [],
   "source": []
  },
  {
   "cell_type": "code",
   "execution_count": null,
   "id": "71f07f7d-253e-4411-b371-6da374037e93",
   "metadata": {},
   "outputs": [],
   "source": []
  },
  {
   "cell_type": "code",
   "execution_count": null,
   "id": "f3cc3d57-0da1-4c66-8653-0105802c4aa3",
   "metadata": {},
   "outputs": [],
   "source": []
  },
  {
   "cell_type": "code",
   "execution_count": null,
   "id": "219f4766-83cd-49e6-b835-d80c615c9c9f",
   "metadata": {},
   "outputs": [],
   "source": []
  },
  {
   "cell_type": "code",
   "execution_count": null,
   "id": "c53b08ff-4d53-4359-a0df-79d000e9230e",
   "metadata": {},
   "outputs": [],
   "source": []
  },
  {
   "cell_type": "code",
   "execution_count": null,
   "id": "24600d5f-aaf9-4880-819d-1ceb9a2876d1",
   "metadata": {},
   "outputs": [],
   "source": []
  },
  {
   "cell_type": "code",
   "execution_count": null,
   "id": "9b84afe0-e785-4252-95bd-9921481cc69a",
   "metadata": {},
   "outputs": [],
   "source": []
  },
  {
   "cell_type": "code",
   "execution_count": null,
   "id": "3a98a742-6f47-4555-b827-c9eae7e9ac9f",
   "metadata": {},
   "outputs": [],
   "source": []
  },
  {
   "cell_type": "code",
   "execution_count": null,
   "id": "9cbb59f1-6eb5-4ef5-a1e8-5b651bd290ac",
   "metadata": {},
   "outputs": [],
   "source": []
  },
  {
   "cell_type": "code",
   "execution_count": null,
   "id": "b3bfab3d-d8cb-4476-9b05-cd61ed3d3527",
   "metadata": {},
   "outputs": [],
   "source": []
  },
  {
   "cell_type": "code",
   "execution_count": null,
   "id": "443bff97-75bc-48db-b407-a0d626e020e3",
   "metadata": {},
   "outputs": [],
   "source": []
  },
  {
   "cell_type": "code",
   "execution_count": null,
   "id": "a271e403-fed8-40d0-942f-91d15033b5d1",
   "metadata": {},
   "outputs": [],
   "source": []
  },
  {
   "cell_type": "code",
   "execution_count": null,
   "id": "e6f1df4f-2bd1-4d7c-9fa6-6580def82a4e",
   "metadata": {},
   "outputs": [],
   "source": []
  },
  {
   "cell_type": "code",
   "execution_count": null,
   "id": "be2ebd08-ed22-4659-87aa-8ea5e0dc0020",
   "metadata": {},
   "outputs": [],
   "source": []
  },
  {
   "cell_type": "code",
   "execution_count": null,
   "id": "37f10167-9f5f-4e84-9d06-12c7f9da1d0b",
   "metadata": {},
   "outputs": [],
   "source": []
  },
  {
   "cell_type": "code",
   "execution_count": null,
   "id": "3736e835-00c5-46ae-84c2-efc6b0a2ffe0",
   "metadata": {},
   "outputs": [],
   "source": []
  }
 ],
 "metadata": {
  "kernelspec": {
   "display_name": "Python 3 (ipykernel)",
   "language": "python",
   "name": "python3"
  },
  "language_info": {
   "codemirror_mode": {
    "name": "ipython",
    "version": 3
   },
   "file_extension": ".py",
   "mimetype": "text/x-python",
   "name": "python",
   "nbconvert_exporter": "python",
   "pygments_lexer": "ipython3",
   "version": "3.11.5"
  }
 },
 "nbformat": 4,
 "nbformat_minor": 5
}
