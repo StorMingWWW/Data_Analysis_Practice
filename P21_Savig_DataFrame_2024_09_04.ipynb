{
 "cells": [
  {
   "cell_type": "code",
   "execution_count": 1,
   "id": "72a3229d-bf19-4d21-9b44-3dbbad8dec1b",
   "metadata": {},
   "outputs": [],
   "source": [
    "import numpy as np\n",
    "import pandas as pd"
   ]
  },
  {
   "cell_type": "markdown",
   "id": "f2df3937-b1c6-47d7-a04c-20e75c4c78bc",
   "metadata": {},
   "source": [
    "保存`DataFrame`到 csv 的方法:<br>\n",
    "      `to_csv`<br>\n",
    "`DF1.to_csv(\"FileName.csv\")`"
   ]
  },
  {
   "cell_type": "markdown",
   "id": "3b0f9623-b976-4965-a99c-ca38fefb3948",
   "metadata": {},
   "source": [
    "当你使用 Jupyter Notebook 保存 DataFrame 为 CSV 文件，并用 Excel 打开后发现中文变成乱码时，通常是由于编码问题引起的。Jupyter Notebook 默认保存的 CSV 文件编码可能不是 Excel 默认支持的格式。\n",
    "\n",
    "要解决这个问题，你可以在保存 DataFrame 时指定编码为 utf-8-sig，如下所示：\n",
    "\n",
    "python  \n",
    "复制代码  \n",
    "`DF5.to_csv('filename.csv', encoding='utf-8-sig')`  \n",
    "`utf-8-sig`这种编码方式确保 Excel 打开时能够正确识别文件中的中文字符。"
   ]
  },
  {
   "cell_type": "code",
   "execution_count": 2,
   "id": "0e5d65c3-b440-42d6-99bb-48a65f17f17f",
   "metadata": {},
   "outputs": [
    {
     "data": {
      "text/html": [
       "<div>\n",
       "<style scoped>\n",
       "    .dataframe tbody tr th:only-of-type {\n",
       "        vertical-align: middle;\n",
       "    }\n",
       "\n",
       "    .dataframe tbody tr th {\n",
       "        vertical-align: top;\n",
       "    }\n",
       "\n",
       "    .dataframe thead th {\n",
       "        text-align: right;\n",
       "    }\n",
       "</style>\n",
       "<table border=\"1\" class=\"dataframe\">\n",
       "  <thead>\n",
       "    <tr style=\"text-align: right;\">\n",
       "      <th></th>\n",
       "      <th>学号</th>\n",
       "      <th>姓名</th>\n",
       "      <th>性别</th>\n",
       "      <th>身高</th>\n",
       "    </tr>\n",
       "  </thead>\n",
       "  <tbody>\n",
       "    <tr>\n",
       "      <th>甲</th>\n",
       "      <td>001</td>\n",
       "      <td>孙哥</td>\n",
       "      <td>女</td>\n",
       "      <td>172.5</td>\n",
       "    </tr>\n",
       "    <tr>\n",
       "      <th>乙</th>\n",
       "      <td>002</td>\n",
       "      <td>黄哥</td>\n",
       "      <td>女</td>\n",
       "      <td>168.0</td>\n",
       "    </tr>\n",
       "    <tr>\n",
       "      <th>丙</th>\n",
       "      <td>003</td>\n",
       "      <td>翘兔</td>\n",
       "      <td>男</td>\n",
       "      <td>178.2</td>\n",
       "    </tr>\n",
       "    <tr>\n",
       "      <th>丁</th>\n",
       "      <td>002</td>\n",
       "      <td>sed老师</td>\n",
       "      <td>男</td>\n",
       "      <td>181.2</td>\n",
       "    </tr>\n",
       "    <tr>\n",
       "      <th>戊</th>\n",
       "      <td>005</td>\n",
       "      <td>狗处</td>\n",
       "      <td>女</td>\n",
       "      <td>161.7</td>\n",
       "    </tr>\n",
       "    <tr>\n",
       "      <th>己</th>\n",
       "      <td>002</td>\n",
       "      <td>黄哥</td>\n",
       "      <td>女</td>\n",
       "      <td>168.0</td>\n",
       "    </tr>\n",
       "    <tr>\n",
       "      <th>庚</th>\n",
       "      <td>006</td>\n",
       "      <td>死矮子</td>\n",
       "      <td>女</td>\n",
       "      <td>158.5</td>\n",
       "    </tr>\n",
       "  </tbody>\n",
       "</table>\n",
       "</div>"
      ],
      "text/plain": [
       "    学号     姓名 性别     身高\n",
       "甲  001     孙哥  女  172.5\n",
       "乙  002     黄哥  女  168.0\n",
       "丙  003     翘兔  男  178.2\n",
       "丁  002  sed老师  男  181.2\n",
       "戊  005     狗处  女  161.7\n",
       "己  002     黄哥  女  168.0\n",
       "庚  006    死矮子  女  158.5"
      ]
     },
     "execution_count": 2,
     "metadata": {},
     "output_type": "execute_result"
    }
   ],
   "source": [
    "S_ID1 = pd.Series([\"001\", \"002\", \"003\", \"002\", \"005\", \"002\", \"006\"])\n",
    "S_Name1 = pd.Series([\"孙哥\", \"黄哥\", \"翘兔\", \"sed老师\", \"狗处\", \"黄哥\", \"死矮子\"])\n",
    "S_Gender1 = pd.Series([\"女\", \"女\", \"男\", \"男\", \"女\", \"女\", \"女\"])\n",
    "S_Height1 = pd.Series([172.5, 168.0, 178.2, 181.2, 161.7, 168.0, 158.5])\n",
    "Students1 = pd.DataFrame({\"学号\":S_ID1, \"姓名\":S_Name1, \"性别\":S_Gender1 , \"身高\":S_Height1})\n",
    "New_Index1 = [\"甲\", \"乙\", \"丙\", \"丁\", \"戊\", \"己\", \"庚\"]\n",
    "Students1.index = New_Index1\n",
    "Students1"
   ]
  },
  {
   "cell_type": "code",
   "execution_count": 3,
   "id": "8551ac40-874f-4330-9c1a-bc4129f87295",
   "metadata": {},
   "outputs": [],
   "source": [
    "Students1.to_csv(\"./Some_Data_Base/保存的第一份csv.csv\", encoding='utf-8-sig')"
   ]
  },
  {
   "cell_type": "code",
   "execution_count": 4,
   "id": "302edfb0-7677-49d7-9210-04d4ba980c2d",
   "metadata": {},
   "outputs": [
    {
     "data": {
      "text/html": [
       "<div>\n",
       "<style scoped>\n",
       "    .dataframe tbody tr th:only-of-type {\n",
       "        vertical-align: middle;\n",
       "    }\n",
       "\n",
       "    .dataframe tbody tr th {\n",
       "        vertical-align: top;\n",
       "    }\n",
       "\n",
       "    .dataframe thead th {\n",
       "        text-align: right;\n",
       "    }\n",
       "</style>\n",
       "<table border=\"1\" class=\"dataframe\">\n",
       "  <thead>\n",
       "    <tr style=\"text-align: right;\">\n",
       "      <th></th>\n",
       "      <th>Unnamed: 0</th>\n",
       "      <th>学号</th>\n",
       "      <th>姓名</th>\n",
       "      <th>性别</th>\n",
       "      <th>身高</th>\n",
       "    </tr>\n",
       "  </thead>\n",
       "  <tbody>\n",
       "    <tr>\n",
       "      <th>0</th>\n",
       "      <td>甲</td>\n",
       "      <td>1</td>\n",
       "      <td>孙哥</td>\n",
       "      <td>女</td>\n",
       "      <td>172.5</td>\n",
       "    </tr>\n",
       "    <tr>\n",
       "      <th>1</th>\n",
       "      <td>乙</td>\n",
       "      <td>2</td>\n",
       "      <td>黄哥</td>\n",
       "      <td>女</td>\n",
       "      <td>168.0</td>\n",
       "    </tr>\n",
       "    <tr>\n",
       "      <th>2</th>\n",
       "      <td>丙</td>\n",
       "      <td>3</td>\n",
       "      <td>翘兔</td>\n",
       "      <td>男</td>\n",
       "      <td>178.2</td>\n",
       "    </tr>\n",
       "    <tr>\n",
       "      <th>3</th>\n",
       "      <td>丁</td>\n",
       "      <td>2</td>\n",
       "      <td>sed老师</td>\n",
       "      <td>男</td>\n",
       "      <td>181.2</td>\n",
       "    </tr>\n",
       "    <tr>\n",
       "      <th>4</th>\n",
       "      <td>戊</td>\n",
       "      <td>5</td>\n",
       "      <td>狗处</td>\n",
       "      <td>女</td>\n",
       "      <td>161.7</td>\n",
       "    </tr>\n",
       "    <tr>\n",
       "      <th>5</th>\n",
       "      <td>己</td>\n",
       "      <td>2</td>\n",
       "      <td>黄哥</td>\n",
       "      <td>女</td>\n",
       "      <td>168.0</td>\n",
       "    </tr>\n",
       "    <tr>\n",
       "      <th>6</th>\n",
       "      <td>庚</td>\n",
       "      <td>6</td>\n",
       "      <td>死矮子</td>\n",
       "      <td>女</td>\n",
       "      <td>158.5</td>\n",
       "    </tr>\n",
       "  </tbody>\n",
       "</table>\n",
       "</div>"
      ],
      "text/plain": [
       "  Unnamed: 0  学号     姓名 性别     身高\n",
       "0          甲   1     孙哥  女  172.5\n",
       "1          乙   2     黄哥  女  168.0\n",
       "2          丙   3     翘兔  男  178.2\n",
       "3          丁   2  sed老师  男  181.2\n",
       "4          戊   5     狗处  女  161.7\n",
       "5          己   2     黄哥  女  168.0\n",
       "6          庚   6    死矮子  女  158.5"
      ]
     },
     "execution_count": 4,
     "metadata": {},
     "output_type": "execute_result"
    }
   ],
   "source": [
    "S1 = pd.read_csv(\"./Some_Data_Base/保存的第一份csv.csv\")\n",
    "S1"
   ]
  },
  {
   "cell_type": "code",
   "execution_count": 5,
   "id": "2eceb42a-3065-4725-b42e-cdc0d40cfd64",
   "metadata": {},
   "outputs": [],
   "source": [
    "Students1.to_csv(\"保存的第一份csv.csv\")"
   ]
  },
  {
   "cell_type": "code",
   "execution_count": 9,
   "id": "90424c15-9658-4101-abe4-196c3e153a18",
   "metadata": {},
   "outputs": [
    {
     "data": {
      "text/html": [
       "<div>\n",
       "<style scoped>\n",
       "    .dataframe tbody tr th:only-of-type {\n",
       "        vertical-align: middle;\n",
       "    }\n",
       "\n",
       "    .dataframe tbody tr th {\n",
       "        vertical-align: top;\n",
       "    }\n",
       "\n",
       "    .dataframe thead th {\n",
       "        text-align: right;\n",
       "    }\n",
       "</style>\n",
       "<table border=\"1\" class=\"dataframe\">\n",
       "  <thead>\n",
       "    <tr style=\"text-align: right;\">\n",
       "      <th></th>\n",
       "      <th>销售ID</th>\n",
       "      <th>学号</th>\n",
       "      <th>姓名</th>\n",
       "      <th>性别</th>\n",
       "      <th>身高</th>\n",
       "    </tr>\n",
       "  </thead>\n",
       "  <tbody>\n",
       "    <tr>\n",
       "      <th>0</th>\n",
       "      <td>甲</td>\n",
       "      <td>1</td>\n",
       "      <td>孙哥</td>\n",
       "      <td>女</td>\n",
       "      <td>172.5</td>\n",
       "    </tr>\n",
       "    <tr>\n",
       "      <th>1</th>\n",
       "      <td>乙</td>\n",
       "      <td>2</td>\n",
       "      <td>黄哥</td>\n",
       "      <td>女</td>\n",
       "      <td>168.0</td>\n",
       "    </tr>\n",
       "    <tr>\n",
       "      <th>2</th>\n",
       "      <td>丙</td>\n",
       "      <td>3</td>\n",
       "      <td>翘兔</td>\n",
       "      <td>男</td>\n",
       "      <td>178.2</td>\n",
       "    </tr>\n",
       "    <tr>\n",
       "      <th>3</th>\n",
       "      <td>丁</td>\n",
       "      <td>2</td>\n",
       "      <td>sed老师</td>\n",
       "      <td>男</td>\n",
       "      <td>181.2</td>\n",
       "    </tr>\n",
       "    <tr>\n",
       "      <th>4</th>\n",
       "      <td>戊</td>\n",
       "      <td>5</td>\n",
       "      <td>狗处</td>\n",
       "      <td>女</td>\n",
       "      <td>161.7</td>\n",
       "    </tr>\n",
       "    <tr>\n",
       "      <th>5</th>\n",
       "      <td>己</td>\n",
       "      <td>2</td>\n",
       "      <td>黄哥</td>\n",
       "      <td>女</td>\n",
       "      <td>168.0</td>\n",
       "    </tr>\n",
       "    <tr>\n",
       "      <th>6</th>\n",
       "      <td>庚</td>\n",
       "      <td>6</td>\n",
       "      <td>死矮子</td>\n",
       "      <td>女</td>\n",
       "      <td>158.5</td>\n",
       "    </tr>\n",
       "  </tbody>\n",
       "</table>\n",
       "</div>"
      ],
      "text/plain": [
       "  销售ID  学号     姓名 性别     身高\n",
       "0    甲   1     孙哥  女  172.5\n",
       "1    乙   2     黄哥  女  168.0\n",
       "2    丙   3     翘兔  男  178.2\n",
       "3    丁   2  sed老师  男  181.2\n",
       "4    戊   5     狗处  女  161.7\n",
       "5    己   2     黄哥  女  168.0\n",
       "6    庚   6    死矮子  女  158.5"
      ]
     },
     "execution_count": 9,
     "metadata": {},
     "output_type": "execute_result"
    }
   ],
   "source": [
    "S1.rename(columns = {\"Unnamed: 0\": \"销售ID\"}, inplace = True)\n",
    "S1"
   ]
  },
  {
   "cell_type": "code",
   "execution_count": 10,
   "id": "baf1e5e5-4fa7-4740-a1e5-c4822438aca7",
   "metadata": {},
   "outputs": [
    {
     "data": {
      "text/html": [
       "<div>\n",
       "<style scoped>\n",
       "    .dataframe tbody tr th:only-of-type {\n",
       "        vertical-align: middle;\n",
       "    }\n",
       "\n",
       "    .dataframe tbody tr th {\n",
       "        vertical-align: top;\n",
       "    }\n",
       "\n",
       "    .dataframe thead th {\n",
       "        text-align: right;\n",
       "    }\n",
       "</style>\n",
       "<table border=\"1\" class=\"dataframe\">\n",
       "  <thead>\n",
       "    <tr style=\"text-align: right;\">\n",
       "      <th></th>\n",
       "      <th>学号</th>\n",
       "      <th>姓名</th>\n",
       "      <th>性别</th>\n",
       "      <th>身高</th>\n",
       "    </tr>\n",
       "    <tr>\n",
       "      <th>销售ID</th>\n",
       "      <th></th>\n",
       "      <th></th>\n",
       "      <th></th>\n",
       "      <th></th>\n",
       "    </tr>\n",
       "  </thead>\n",
       "  <tbody>\n",
       "    <tr>\n",
       "      <th>甲</th>\n",
       "      <td>1</td>\n",
       "      <td>孙哥</td>\n",
       "      <td>女</td>\n",
       "      <td>172.5</td>\n",
       "    </tr>\n",
       "    <tr>\n",
       "      <th>乙</th>\n",
       "      <td>2</td>\n",
       "      <td>黄哥</td>\n",
       "      <td>女</td>\n",
       "      <td>168.0</td>\n",
       "    </tr>\n",
       "    <tr>\n",
       "      <th>丙</th>\n",
       "      <td>3</td>\n",
       "      <td>翘兔</td>\n",
       "      <td>男</td>\n",
       "      <td>178.2</td>\n",
       "    </tr>\n",
       "    <tr>\n",
       "      <th>丁</th>\n",
       "      <td>2</td>\n",
       "      <td>sed老师</td>\n",
       "      <td>男</td>\n",
       "      <td>181.2</td>\n",
       "    </tr>\n",
       "    <tr>\n",
       "      <th>戊</th>\n",
       "      <td>5</td>\n",
       "      <td>狗处</td>\n",
       "      <td>女</td>\n",
       "      <td>161.7</td>\n",
       "    </tr>\n",
       "    <tr>\n",
       "      <th>己</th>\n",
       "      <td>2</td>\n",
       "      <td>黄哥</td>\n",
       "      <td>女</td>\n",
       "      <td>168.0</td>\n",
       "    </tr>\n",
       "    <tr>\n",
       "      <th>庚</th>\n",
       "      <td>6</td>\n",
       "      <td>死矮子</td>\n",
       "      <td>女</td>\n",
       "      <td>158.5</td>\n",
       "    </tr>\n",
       "  </tbody>\n",
       "</table>\n",
       "</div>"
      ],
      "text/plain": [
       "      学号     姓名 性别     身高\n",
       "销售ID                     \n",
       "甲      1     孙哥  女  172.5\n",
       "乙      2     黄哥  女  168.0\n",
       "丙      3     翘兔  男  178.2\n",
       "丁      2  sed老师  男  181.2\n",
       "戊      5     狗处  女  161.7\n",
       "己      2     黄哥  女  168.0\n",
       "庚      6    死矮子  女  158.5"
      ]
     },
     "execution_count": 10,
     "metadata": {},
     "output_type": "execute_result"
    }
   ],
   "source": [
    "S1.set_index(\"销售ID\", inplace = True)\n",
    "S1"
   ]
  },
  {
   "cell_type": "markdown",
   "id": "e5b74008-53a8-414b-823f-744cfc8cafe6",
   "metadata": {},
   "source": [
    "如果不保存`DataFrame`的索引：<br>\n",
    "`S1.to_csv(\"FileName.csv\", index = False)`<br>\n",
    "里面的`index = False`起到了作用。"
   ]
  },
  {
   "cell_type": "code",
   "execution_count": null,
   "id": "600d31d2-64bc-48c3-b881-d72db098af1a",
   "metadata": {},
   "outputs": [],
   "source": []
  },
  {
   "cell_type": "code",
   "execution_count": null,
   "id": "b1fb34f8-b10d-49bc-8204-9b253518eeed",
   "metadata": {},
   "outputs": [],
   "source": []
  },
  {
   "cell_type": "code",
   "execution_count": null,
   "id": "3dffffce-3790-4de1-ba2d-7f1013eec453",
   "metadata": {},
   "outputs": [],
   "source": []
  },
  {
   "cell_type": "code",
   "execution_count": null,
   "id": "5456a5e2-d5f7-44ca-b5be-8a2cb55d44dc",
   "metadata": {},
   "outputs": [],
   "source": []
  },
  {
   "cell_type": "code",
   "execution_count": null,
   "id": "8c0d4b70-1d63-457e-8b0c-a26d0882acc8",
   "metadata": {},
   "outputs": [],
   "source": []
  },
  {
   "cell_type": "code",
   "execution_count": null,
   "id": "93d696a6-c2d2-4a6d-8955-8c26a97ea362",
   "metadata": {},
   "outputs": [],
   "source": []
  },
  {
   "cell_type": "code",
   "execution_count": null,
   "id": "05175729-dcce-49ce-89ed-fcb58358bdc3",
   "metadata": {},
   "outputs": [],
   "source": []
  },
  {
   "cell_type": "code",
   "execution_count": null,
   "id": "89bcc2c5-157a-4144-ab0d-7fa4931fba2d",
   "metadata": {},
   "outputs": [],
   "source": []
  },
  {
   "cell_type": "code",
   "execution_count": null,
   "id": "e2e34901-67d5-4328-a2f4-99c19b2f5baa",
   "metadata": {},
   "outputs": [],
   "source": []
  },
  {
   "cell_type": "code",
   "execution_count": null,
   "id": "7855650b-b020-4911-b8d5-cba19f6403b3",
   "metadata": {},
   "outputs": [],
   "source": []
  },
  {
   "cell_type": "code",
   "execution_count": null,
   "id": "435f4d7d-2e56-4064-9026-743b4c867c3d",
   "metadata": {},
   "outputs": [],
   "source": []
  },
  {
   "cell_type": "code",
   "execution_count": null,
   "id": "eaf09e34-0508-446c-8c2c-4d597d2fe1ae",
   "metadata": {},
   "outputs": [],
   "source": []
  },
  {
   "cell_type": "code",
   "execution_count": null,
   "id": "78ddf501-104d-4157-8678-e380b398bcd3",
   "metadata": {},
   "outputs": [],
   "source": []
  },
  {
   "cell_type": "code",
   "execution_count": null,
   "id": "9894493c-8ee8-4974-8592-2275c02123a4",
   "metadata": {},
   "outputs": [],
   "source": []
  },
  {
   "cell_type": "code",
   "execution_count": null,
   "id": "57abc93c-c4e5-4d74-b67c-85c41b26acc0",
   "metadata": {},
   "outputs": [],
   "source": []
  },
  {
   "cell_type": "code",
   "execution_count": null,
   "id": "134a3235-523f-428d-8e02-651bf2e67e52",
   "metadata": {},
   "outputs": [],
   "source": []
  },
  {
   "cell_type": "code",
   "execution_count": null,
   "id": "43ee6d01-e7ee-4cbf-a3e2-fb1fd0d55fa5",
   "metadata": {},
   "outputs": [],
   "source": []
  },
  {
   "cell_type": "code",
   "execution_count": null,
   "id": "5be87e44-d609-421a-a678-de5293e9c32e",
   "metadata": {},
   "outputs": [],
   "source": []
  },
  {
   "cell_type": "code",
   "execution_count": null,
   "id": "4e27b9c7-5880-43f8-9318-75247767e8c1",
   "metadata": {},
   "outputs": [],
   "source": []
  },
  {
   "cell_type": "code",
   "execution_count": null,
   "id": "111d8e93-d0a3-4697-b8c1-a373b86bf07d",
   "metadata": {},
   "outputs": [],
   "source": []
  },
  {
   "cell_type": "code",
   "execution_count": null,
   "id": "0feac6ad-e26a-460f-8507-93de33f8556a",
   "metadata": {},
   "outputs": [],
   "source": []
  },
  {
   "cell_type": "code",
   "execution_count": null,
   "id": "8811ac05-d5dd-46a1-9d67-c61f1f534518",
   "metadata": {},
   "outputs": [],
   "source": []
  },
  {
   "cell_type": "code",
   "execution_count": null,
   "id": "79978c3d-6083-4689-91a4-ee626cfe5851",
   "metadata": {},
   "outputs": [],
   "source": []
  },
  {
   "cell_type": "code",
   "execution_count": null,
   "id": "48f6a20a-e040-4e52-8c3c-4b40d17d9478",
   "metadata": {},
   "outputs": [],
   "source": []
  },
  {
   "cell_type": "code",
   "execution_count": null,
   "id": "ff0f37d5-736e-418a-8f0c-88d04ba90651",
   "metadata": {},
   "outputs": [],
   "source": []
  },
  {
   "cell_type": "code",
   "execution_count": null,
   "id": "07704f04-7a21-441b-b335-797d2208354f",
   "metadata": {},
   "outputs": [],
   "source": []
  },
  {
   "cell_type": "code",
   "execution_count": null,
   "id": "2ed5b840-399f-466a-bd8f-4e0a5f909b52",
   "metadata": {},
   "outputs": [],
   "source": []
  },
  {
   "cell_type": "code",
   "execution_count": null,
   "id": "f40c9a8e-c0c2-4902-9f5d-236d255ec53a",
   "metadata": {},
   "outputs": [],
   "source": []
  },
  {
   "cell_type": "code",
   "execution_count": null,
   "id": "ccdbdc6e-bbe1-4970-b55a-a62b9c5b9e6c",
   "metadata": {},
   "outputs": [],
   "source": []
  },
  {
   "cell_type": "code",
   "execution_count": null,
   "id": "70f9b9d7-5a2c-4bfa-a5ec-29d0dcacef6b",
   "metadata": {},
   "outputs": [],
   "source": []
  },
  {
   "cell_type": "code",
   "execution_count": null,
   "id": "d1028801-3751-4cee-9399-20092a81b047",
   "metadata": {},
   "outputs": [],
   "source": []
  },
  {
   "cell_type": "code",
   "execution_count": null,
   "id": "e9f3b1dc-3757-40eb-9f3c-68e1a589aacd",
   "metadata": {},
   "outputs": [],
   "source": []
  },
  {
   "cell_type": "code",
   "execution_count": null,
   "id": "c583fe38-ce29-4612-8d8e-9ddd61818101",
   "metadata": {},
   "outputs": [],
   "source": []
  },
  {
   "cell_type": "code",
   "execution_count": null,
   "id": "923c68cd-5a2c-4617-b425-ce627f6eb35e",
   "metadata": {},
   "outputs": [],
   "source": []
  },
  {
   "cell_type": "code",
   "execution_count": null,
   "id": "e9078f3e-5f35-459f-bbda-73ed3bc7fc7a",
   "metadata": {},
   "outputs": [],
   "source": []
  },
  {
   "cell_type": "code",
   "execution_count": null,
   "id": "d83703ad-9afd-409f-baa2-18001d195d7f",
   "metadata": {},
   "outputs": [],
   "source": []
  },
  {
   "cell_type": "code",
   "execution_count": null,
   "id": "5a1966ce-317d-479a-99ab-92628f25c23f",
   "metadata": {},
   "outputs": [],
   "source": []
  },
  {
   "cell_type": "code",
   "execution_count": null,
   "id": "300d8fed-787c-4270-95df-6f884ef96bd2",
   "metadata": {},
   "outputs": [],
   "source": []
  },
  {
   "cell_type": "code",
   "execution_count": null,
   "id": "3b6e6283-cf88-4636-9a3e-67221cc53227",
   "metadata": {},
   "outputs": [],
   "source": []
  },
  {
   "cell_type": "code",
   "execution_count": null,
   "id": "2f6acdec-c419-4898-af0a-0f4ebf805009",
   "metadata": {},
   "outputs": [],
   "source": []
  },
  {
   "cell_type": "code",
   "execution_count": null,
   "id": "302c0a8b-cd3e-4ec9-8bde-0bf0671a6459",
   "metadata": {},
   "outputs": [],
   "source": []
  },
  {
   "cell_type": "code",
   "execution_count": null,
   "id": "b629fee0-4387-41e1-94d0-da5e399eb7fc",
   "metadata": {},
   "outputs": [],
   "source": []
  },
  {
   "cell_type": "code",
   "execution_count": null,
   "id": "a593b411-e978-4b3e-8f65-2eebf39611af",
   "metadata": {},
   "outputs": [],
   "source": []
  },
  {
   "cell_type": "code",
   "execution_count": null,
   "id": "203e879b-fae2-4d22-abe8-0283a416ecdf",
   "metadata": {},
   "outputs": [],
   "source": []
  },
  {
   "cell_type": "code",
   "execution_count": null,
   "id": "d8b00d4b-28c8-41ee-9309-ea2c8b0c8002",
   "metadata": {},
   "outputs": [],
   "source": []
  },
  {
   "cell_type": "code",
   "execution_count": null,
   "id": "9d2d15b7-9535-427b-a83c-adaf0fa55313",
   "metadata": {},
   "outputs": [],
   "source": []
  },
  {
   "cell_type": "code",
   "execution_count": null,
   "id": "b5f03378-476b-4f6e-b0dc-bdc3e10ae3ec",
   "metadata": {},
   "outputs": [],
   "source": []
  },
  {
   "cell_type": "code",
   "execution_count": null,
   "id": "ce80086a-7f18-4e8a-b2b5-4d812b75914d",
   "metadata": {},
   "outputs": [],
   "source": []
  },
  {
   "cell_type": "code",
   "execution_count": null,
   "id": "f2e827d2-22c3-4445-a74a-252fd743883e",
   "metadata": {},
   "outputs": [],
   "source": []
  },
  {
   "cell_type": "code",
   "execution_count": null,
   "id": "16b5228e-ddfe-4441-913c-c697e2855b01",
   "metadata": {},
   "outputs": [],
   "source": []
  },
  {
   "cell_type": "code",
   "execution_count": null,
   "id": "ed189b1f-bf70-4048-b856-68e49608fdf8",
   "metadata": {},
   "outputs": [],
   "source": []
  },
  {
   "cell_type": "code",
   "execution_count": null,
   "id": "11aa66b5-b24f-40b6-9edc-e0ce7e6523e3",
   "metadata": {},
   "outputs": [],
   "source": []
  },
  {
   "cell_type": "code",
   "execution_count": null,
   "id": "2fab8cea-8fd2-43fd-8f09-6b586715a0f9",
   "metadata": {},
   "outputs": [],
   "source": []
  },
  {
   "cell_type": "code",
   "execution_count": null,
   "id": "269904e3-208f-449f-ad53-f3cfea78ad39",
   "metadata": {},
   "outputs": [],
   "source": []
  },
  {
   "cell_type": "code",
   "execution_count": null,
   "id": "bd1b33b6-9a0e-43a5-96bd-508d1a1613fd",
   "metadata": {},
   "outputs": [],
   "source": []
  },
  {
   "cell_type": "code",
   "execution_count": null,
   "id": "26ab8300-2082-43fe-8528-af00dbee9183",
   "metadata": {},
   "outputs": [],
   "source": []
  },
  {
   "cell_type": "code",
   "execution_count": null,
   "id": "79aa4244-43c2-49c3-ad95-dbcd88596b39",
   "metadata": {},
   "outputs": [],
   "source": []
  },
  {
   "cell_type": "code",
   "execution_count": null,
   "id": "808ffc69-dfe1-4561-9019-050f60f9a71b",
   "metadata": {},
   "outputs": [],
   "source": []
  },
  {
   "cell_type": "code",
   "execution_count": null,
   "id": "ca061656-efbc-48c1-9545-b3b5931cfc83",
   "metadata": {},
   "outputs": [],
   "source": []
  },
  {
   "cell_type": "code",
   "execution_count": null,
   "id": "e757bd6e-6aa1-4fb8-8eeb-11b833fedb21",
   "metadata": {},
   "outputs": [],
   "source": []
  },
  {
   "cell_type": "code",
   "execution_count": null,
   "id": "70a4ef75-b93e-46bb-b926-bff40c55779b",
   "metadata": {},
   "outputs": [],
   "source": []
  },
  {
   "cell_type": "code",
   "execution_count": null,
   "id": "17716a3a-30a8-44de-835c-d910f1dc79a9",
   "metadata": {},
   "outputs": [],
   "source": []
  },
  {
   "cell_type": "code",
   "execution_count": null,
   "id": "1d89c5dd-0a62-47c2-bd0a-19046774970c",
   "metadata": {},
   "outputs": [],
   "source": []
  },
  {
   "cell_type": "code",
   "execution_count": null,
   "id": "213e1378-6521-4b56-ab19-7ae793f7108c",
   "metadata": {},
   "outputs": [],
   "source": []
  },
  {
   "cell_type": "code",
   "execution_count": null,
   "id": "9649b30f-1ab4-4014-bc8a-14ed93d57bd1",
   "metadata": {},
   "outputs": [],
   "source": []
  },
  {
   "cell_type": "code",
   "execution_count": null,
   "id": "fcc01be4-1201-4a91-9a9c-5b0f9b37a31d",
   "metadata": {},
   "outputs": [],
   "source": []
  },
  {
   "cell_type": "code",
   "execution_count": null,
   "id": "f68aa10d-c6d7-4a88-aebb-c30147a0a4df",
   "metadata": {},
   "outputs": [],
   "source": []
  },
  {
   "cell_type": "code",
   "execution_count": null,
   "id": "dbd97877-944e-40bb-a657-e181de66fae3",
   "metadata": {},
   "outputs": [],
   "source": []
  },
  {
   "cell_type": "code",
   "execution_count": null,
   "id": "90933b30-e823-4e77-b67a-52913f43854e",
   "metadata": {},
   "outputs": [],
   "source": []
  },
  {
   "cell_type": "code",
   "execution_count": null,
   "id": "1d3790b4-6fa3-411c-a265-03e163cb6efb",
   "metadata": {},
   "outputs": [],
   "source": []
  },
  {
   "cell_type": "code",
   "execution_count": null,
   "id": "676bb439-22e7-4d49-85a4-97b203f766cf",
   "metadata": {},
   "outputs": [],
   "source": []
  },
  {
   "cell_type": "code",
   "execution_count": null,
   "id": "37625ea4-2670-43fb-ab84-c00f8e4efb1b",
   "metadata": {},
   "outputs": [],
   "source": []
  },
  {
   "cell_type": "code",
   "execution_count": null,
   "id": "12e9e806-59c9-45f8-9332-053fe831d0bb",
   "metadata": {},
   "outputs": [],
   "source": []
  },
  {
   "cell_type": "code",
   "execution_count": null,
   "id": "0500453b-a480-4592-9a4b-1578bc7ca438",
   "metadata": {},
   "outputs": [],
   "source": []
  },
  {
   "cell_type": "code",
   "execution_count": null,
   "id": "403ec98c-090b-4da6-ab96-ee023f06d225",
   "metadata": {},
   "outputs": [],
   "source": []
  },
  {
   "cell_type": "code",
   "execution_count": null,
   "id": "27f302a7-3503-49cc-b33e-bee204d2bf1a",
   "metadata": {},
   "outputs": [],
   "source": []
  },
  {
   "cell_type": "code",
   "execution_count": null,
   "id": "1fde821f-aa4b-484b-81db-c9397084989e",
   "metadata": {},
   "outputs": [],
   "source": []
  },
  {
   "cell_type": "code",
   "execution_count": null,
   "id": "bc64bb7d-8705-4ccb-872f-95d47f5b5846",
   "metadata": {},
   "outputs": [],
   "source": []
  },
  {
   "cell_type": "code",
   "execution_count": null,
   "id": "71f07f7d-253e-4411-b371-6da374037e93",
   "metadata": {},
   "outputs": [],
   "source": []
  },
  {
   "cell_type": "code",
   "execution_count": null,
   "id": "f3cc3d57-0da1-4c66-8653-0105802c4aa3",
   "metadata": {},
   "outputs": [],
   "source": []
  },
  {
   "cell_type": "code",
   "execution_count": null,
   "id": "219f4766-83cd-49e6-b835-d80c615c9c9f",
   "metadata": {},
   "outputs": [],
   "source": []
  },
  {
   "cell_type": "code",
   "execution_count": null,
   "id": "c53b08ff-4d53-4359-a0df-79d000e9230e",
   "metadata": {},
   "outputs": [],
   "source": []
  },
  {
   "cell_type": "code",
   "execution_count": null,
   "id": "24600d5f-aaf9-4880-819d-1ceb9a2876d1",
   "metadata": {},
   "outputs": [],
   "source": []
  },
  {
   "cell_type": "code",
   "execution_count": null,
   "id": "9b84afe0-e785-4252-95bd-9921481cc69a",
   "metadata": {},
   "outputs": [],
   "source": []
  },
  {
   "cell_type": "code",
   "execution_count": null,
   "id": "3a98a742-6f47-4555-b827-c9eae7e9ac9f",
   "metadata": {},
   "outputs": [],
   "source": []
  },
  {
   "cell_type": "code",
   "execution_count": null,
   "id": "9cbb59f1-6eb5-4ef5-a1e8-5b651bd290ac",
   "metadata": {},
   "outputs": [],
   "source": []
  },
  {
   "cell_type": "code",
   "execution_count": null,
   "id": "b3bfab3d-d8cb-4476-9b05-cd61ed3d3527",
   "metadata": {},
   "outputs": [],
   "source": []
  },
  {
   "cell_type": "code",
   "execution_count": null,
   "id": "443bff97-75bc-48db-b407-a0d626e020e3",
   "metadata": {},
   "outputs": [],
   "source": []
  },
  {
   "cell_type": "code",
   "execution_count": null,
   "id": "a271e403-fed8-40d0-942f-91d15033b5d1",
   "metadata": {},
   "outputs": [],
   "source": []
  },
  {
   "cell_type": "code",
   "execution_count": null,
   "id": "e6f1df4f-2bd1-4d7c-9fa6-6580def82a4e",
   "metadata": {},
   "outputs": [],
   "source": []
  },
  {
   "cell_type": "code",
   "execution_count": null,
   "id": "be2ebd08-ed22-4659-87aa-8ea5e0dc0020",
   "metadata": {},
   "outputs": [],
   "source": []
  },
  {
   "cell_type": "code",
   "execution_count": null,
   "id": "37f10167-9f5f-4e84-9d06-12c7f9da1d0b",
   "metadata": {},
   "outputs": [],
   "source": []
  },
  {
   "cell_type": "code",
   "execution_count": null,
   "id": "3736e835-00c5-46ae-84c2-efc6b0a2ffe0",
   "metadata": {},
   "outputs": [],
   "source": []
  }
 ],
 "metadata": {
  "kernelspec": {
   "display_name": "Python 3 (ipykernel)",
   "language": "python",
   "name": "python3"
  },
  "language_info": {
   "codemirror_mode": {
    "name": "ipython",
    "version": 3
   },
   "file_extension": ".py",
   "mimetype": "text/x-python",
   "name": "python",
   "nbconvert_exporter": "python",
   "pygments_lexer": "ipython3",
   "version": "3.11.5"
  }
 },
 "nbformat": 4,
 "nbformat_minor": 5
}
