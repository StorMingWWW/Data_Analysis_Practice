{
 "cells": [
  {
   "cell_type": "code",
   "execution_count": 1,
   "id": "72a3229d-bf19-4d21-9b44-3dbbad8dec1b",
   "metadata": {},
   "outputs": [],
   "source": [
    "import pandas as pd\n",
    "import numpy as np"
   ]
  },
  {
   "cell_type": "markdown",
   "id": "de99019d-d8de-4768-b2e9-a932633696ce",
   "metadata": {},
   "source": [
    "创建一个`DataFrame`范例来供学习`数据评估`"
   ]
  },
  {
   "cell_type": "code",
   "execution_count": 18,
   "id": "f7555a40-4a59-4bd9-9445-6689cf5d3e71",
   "metadata": {},
   "outputs": [
    {
     "data": {
      "text/html": [
       "<div>\n",
       "<style scoped>\n",
       "    .dataframe tbody tr th:only-of-type {\n",
       "        vertical-align: middle;\n",
       "    }\n",
       "\n",
       "    .dataframe tbody tr th {\n",
       "        vertical-align: top;\n",
       "    }\n",
       "\n",
       "    .dataframe thead th {\n",
       "        text-align: right;\n",
       "    }\n",
       "</style>\n",
       "<table border=\"1\" class=\"dataframe\">\n",
       "  <thead>\n",
       "    <tr style=\"text-align: right;\">\n",
       "      <th></th>\n",
       "      <th>姓名</th>\n",
       "      <th>考试1</th>\n",
       "      <th>考试2</th>\n",
       "      <th>考试3</th>\n",
       "    </tr>\n",
       "  </thead>\n",
       "  <tbody>\n",
       "    <tr>\n",
       "      <th>001</th>\n",
       "      <td>孙哥</td>\n",
       "      <td>85</td>\n",
       "      <td>95.0</td>\n",
       "      <td>92.0</td>\n",
       "    </tr>\n",
       "    <tr>\n",
       "      <th>002</th>\n",
       "      <td>黄哥</td>\n",
       "      <td>91</td>\n",
       "      <td>92.0</td>\n",
       "      <td>94.0</td>\n",
       "    </tr>\n",
       "    <tr>\n",
       "      <th>003</th>\n",
       "      <td>翘兔</td>\n",
       "      <td>86</td>\n",
       "      <td>81.0</td>\n",
       "      <td>NaN</td>\n",
       "    </tr>\n",
       "    <tr>\n",
       "      <th>004</th>\n",
       "      <td>sed老师</td>\n",
       "      <td>79</td>\n",
       "      <td>89.0</td>\n",
       "      <td>95.0</td>\n",
       "    </tr>\n",
       "    <tr>\n",
       "      <th>005</th>\n",
       "      <td>狗处</td>\n",
       "      <td>96</td>\n",
       "      <td>91.0</td>\n",
       "      <td>91.0</td>\n",
       "    </tr>\n",
       "    <tr>\n",
       "      <th>006</th>\n",
       "      <td>死矮子</td>\n",
       "      <td>81</td>\n",
       "      <td>NaN</td>\n",
       "      <td>92.0</td>\n",
       "    </tr>\n",
       "  </tbody>\n",
       "</table>\n",
       "</div>"
      ],
      "text/plain": [
       "        姓名  考试1   考试2   考试3\n",
       "001     孙哥   85  95.0  92.0\n",
       "002     黄哥   91  92.0  94.0\n",
       "003     翘兔   86  81.0   NaN\n",
       "004  sed老师   79  89.0  95.0\n",
       "005     狗处   96  91.0  91.0\n",
       "006    死矮子   81   NaN  92.0"
      ]
     },
     "execution_count": 18,
     "metadata": {},
     "output_type": "execute_result"
    }
   ],
   "source": [
    "S_ID = pd.Series([\"孙哥\", \"黄哥\", \"翘兔\", \"sed老师\", \"狗处\", \"死矮子\"])\n",
    "S_Gender = pd.Series([85, 91, 86, 79, 96, 81])\n",
    "S_Height = pd.Series([95, 92, 81, 89, 91, None])\n",
    "S_Grade = pd.Series([92, 94, None, 95, 91, 92])\n",
    "Scores = pd.DataFrame({\"姓名\":S_ID , \"考试1\":S_Gender , \"考试2\":S_Height , \"考试3\":S_Grade})\n",
    "New_Index = [\"001\", \"002\", \"003\", \"004\", \"005\", \"006\"]\n",
    "Scores.index = New_Index\n",
    "Scores"
   ]
  },
  {
   "cell_type": "markdown",
   "id": "4a371e9b-166c-4318-9f92-0a77c1557723",
   "metadata": {},
   "source": [
    "获得`DataFrame`的概况"
   ]
  },
  {
   "cell_type": "code",
   "execution_count": 7,
   "id": "0e5d65c3-b440-42d6-99bb-48a65f17f17f",
   "metadata": {},
   "outputs": [
    {
     "name": "stdout",
     "output_type": "stream",
     "text": [
      "<class 'pandas.core.frame.DataFrame'>\n",
      "RangeIndex: 1465 entries, 0 to 1464\n",
      "Data columns (total 16 columns):\n",
      " #   Column               Non-Null Count  Dtype \n",
      "---  ------               --------------  ----- \n",
      " 0   product_id           1465 non-null   object\n",
      " 1   product_name         1465 non-null   object\n",
      " 2   category             1465 non-null   object\n",
      " 3   discounted_price     1465 non-null   object\n",
      " 4   actual_price         1465 non-null   object\n",
      " 5   discount_percentage  1465 non-null   object\n",
      " 6   rating               1465 non-null   object\n",
      " 7   rating_count         1463 non-null   object\n",
      " 8   about_product        1465 non-null   object\n",
      " 9   user_id              1465 non-null   object\n",
      " 10  user_name            1465 non-null   object\n",
      " 11  review_id            1465 non-null   object\n",
      " 12  review_title         1465 non-null   object\n",
      " 13  review_content       1465 non-null   object\n",
      " 14  img_link             1465 non-null   object\n",
      " 15  product_link         1465 non-null   object\n",
      "dtypes: object(16)\n",
      "memory usage: 183.3+ KB\n"
     ]
    }
   ],
   "source": [
    "DF1 = pd.read_csv(\".\\Some_Data_Base/amazon.csv\")\n",
    "DF1.info()"
   ]
  },
  {
   "cell_type": "markdown",
   "id": "861504d9-c7ff-4446-998f-1b3132dafb9b",
   "metadata": {},
   "source": [
    "获取`开头/结尾/随机N行`(以10行为例)"
   ]
  },
  {
   "cell_type": "code",
   "execution_count": 11,
   "id": "302edfb0-7677-49d7-9210-04d4ba980c2d",
   "metadata": {},
   "outputs": [
    {
     "data": {
      "text/html": [
       "<div>\n",
       "<style scoped>\n",
       "    .dataframe tbody tr th:only-of-type {\n",
       "        vertical-align: middle;\n",
       "    }\n",
       "\n",
       "    .dataframe tbody tr th {\n",
       "        vertical-align: top;\n",
       "    }\n",
       "\n",
       "    .dataframe thead th {\n",
       "        text-align: right;\n",
       "    }\n",
       "</style>\n",
       "<table border=\"1\" class=\"dataframe\">\n",
       "  <thead>\n",
       "    <tr style=\"text-align: right;\">\n",
       "      <th></th>\n",
       "      <th>product_id</th>\n",
       "      <th>product_name</th>\n",
       "      <th>category</th>\n",
       "      <th>discounted_price</th>\n",
       "      <th>actual_price</th>\n",
       "      <th>discount_percentage</th>\n",
       "      <th>rating</th>\n",
       "      <th>rating_count</th>\n",
       "      <th>about_product</th>\n",
       "      <th>user_id</th>\n",
       "      <th>user_name</th>\n",
       "      <th>review_id</th>\n",
       "      <th>review_title</th>\n",
       "      <th>review_content</th>\n",
       "      <th>img_link</th>\n",
       "      <th>product_link</th>\n",
       "    </tr>\n",
       "  </thead>\n",
       "  <tbody>\n",
       "    <tr>\n",
       "      <th>67</th>\n",
       "      <td>B0B9XN9S3W</td>\n",
       "      <td>Acer 80 cm (32 inches) N Series HD Ready TV AR...</td>\n",
       "      <td>Electronics|HomeTheater,TV&amp;Video|Televisions|S...</td>\n",
       "      <td>₹7,999</td>\n",
       "      <td>₹14,990</td>\n",
       "      <td>47%</td>\n",
       "      <td>4.3</td>\n",
       "      <td>457</td>\n",
       "      <td>Resolution: HD Ready (1366 x 768) | Refresh Ra...</td>\n",
       "      <td>AFXQSBDW6232K22UMJWF5PMYX5RQ,AG4IENR3HNMEINBTJ...</td>\n",
       "      <td>ARUN KUMAR A V,Ankesh kumar pandit,Pradeep,lim...</td>\n",
       "      <td>R3FTW5HNPCX66C,RM7IFDV9KNC2O,RK9JKA9U9LZ49,R15...</td>\n",
       "      <td>Value for Money,Good product,Great excellent p...</td>\n",
       "      <td>Regarding rate I liked very much and reasonabl...</td>\n",
       "      <td>https://m.media-amazon.com/images/I/51FicDnawa...</td>\n",
       "      <td>https://www.amazon.in/Acer-inches-Ready-AR32NS...</td>\n",
       "    </tr>\n",
       "    <tr>\n",
       "      <th>922</th>\n",
       "      <td>B08J82K4GX</td>\n",
       "      <td>Samsung 24-inch(60.46cm) FHD Monitor, IPS, 75 ...</td>\n",
       "      <td>Computers&amp;Accessories|Monitors</td>\n",
       "      <td>₹10,099</td>\n",
       "      <td>₹19,110</td>\n",
       "      <td>47%</td>\n",
       "      <td>4.3</td>\n",
       "      <td>2,623</td>\n",
       "      <td>24 inch Samsung Monitor - 1,920 x 1,080 Resolu...</td>\n",
       "      <td>AGYJWE5KU7LQVHHG3UBK4DGPWP5A,AFAW4JGIBKTJDQE4E...</td>\n",
       "      <td>Srikkanth,Sameer,Alexander,Siddhant Pawar,Deep...</td>\n",
       "      <td>R1R5HVWWX3D0P9,RRDFD5UYQWGA2,R1U2VOC38FXAK5,R3...</td>\n",
       "      <td>Good one,, bright!,Great product altogether,Go...</td>\n",
       "      <td>I had an LG 27\" monitor and broke it twice whi...</td>\n",
       "      <td>https://m.media-amazon.com/images/I/417vDmMtbp...</td>\n",
       "      <td>https://www.amazon.in/Samsung-inch-Bezel-Flick...</td>\n",
       "    </tr>\n",
       "    <tr>\n",
       "      <th>970</th>\n",
       "      <td>B0083T231O</td>\n",
       "      <td>Belkin Essential Series 4-Socket Surge Protect...</td>\n",
       "      <td>Electronics|PowerAccessories|SurgeProtectors</td>\n",
       "      <td>₹1,289</td>\n",
       "      <td>₹1,499</td>\n",
       "      <td>14%</td>\n",
       "      <td>4.5</td>\n",
       "      <td>20,668</td>\n",
       "      <td>Maximum Spike Current: 6500 Amps|Grounds AC po...</td>\n",
       "      <td>AGT572FSHJL725535LQUNZXHTO2A,AGGIJ2Y7MC4VSMU57...</td>\n",
       "      <td>Hayat Ansari,Basanti Renu Hembram,Darshana Pra...</td>\n",
       "      <td>R1DQD1BRKH1AIO,R3ESPNPFL2XD8Z,RS64CINVRWLQ7,R3...</td>\n",
       "      <td>Good product with bad resellers,Works great,Be...</td>\n",
       "      <td>Product is excellent. But Belkin should check ...</td>\n",
       "      <td>https://m.media-amazon.com/images/W/WEBP_40237...</td>\n",
       "      <td>https://www.amazon.in/Belkin-Essential-F9E400z...</td>\n",
       "    </tr>\n",
       "    <tr>\n",
       "      <th>236</th>\n",
       "      <td>B097ZQTDVZ</td>\n",
       "      <td>7SEVEN® TCL Remote Control Smart TV RC802V Rem...</td>\n",
       "      <td>Electronics|HomeTheater,TV&amp;Video|Accessories|R...</td>\n",
       "      <td>₹399</td>\n",
       "      <td>₹899</td>\n",
       "      <td>56%</td>\n",
       "      <td>3.4</td>\n",
       "      <td>431</td>\n",
       "      <td>Compatible for TCL 65P8S 32A323 32A325 32P30S ...</td>\n",
       "      <td>AGKXFGRXVN4CMGMCT5SGOPB6BBIQ,AGNKWLEKAA53Y27KT...</td>\n",
       "      <td>umakanth,Sagar Ranpise,Martin Gibson Karkada,R...</td>\n",
       "      <td>R16NWYD2LYHNFJ,R2Y32IVRENIANJ,R3BBJ9AXA1ZOSC,R...</td>\n",
       "      <td>When you can’t find the original this comes ha...</td>\n",
       "      <td>Just got delivered, there’s lag in remote, it ...</td>\n",
       "      <td>https://m.media-amazon.com/images/I/31DRQ+kgWa...</td>\n",
       "      <td>https://www.amazon.in/RC802V-Compatible-43S650...</td>\n",
       "    </tr>\n",
       "    <tr>\n",
       "      <th>37</th>\n",
       "      <td>B09RZS1NQT</td>\n",
       "      <td>Sounce 65W OnePlus Dash Warp Charge Cable, 6.5...</td>\n",
       "      <td>Computers&amp;Accessories|Accessories&amp;Peripherals|...</td>\n",
       "      <td>₹199</td>\n",
       "      <td>₹999</td>\n",
       "      <td>80%</td>\n",
       "      <td>4.0</td>\n",
       "      <td>576</td>\n",
       "      <td>[USB C To USB C Cord 1M] With This 1 Meter USB...</td>\n",
       "      <td>AHUH7OYN3LAUATF5EGA575WCDI6A,AFQRX6TAM6CHKARXI...</td>\n",
       "      <td>Anmol,Vani,Tejas Jha,Rishabh Gupta,Nik,Harsha,...</td>\n",
       "      <td>RW294SCHB5QTK,R24AGC1O5RVWYI,R3NT7AA2V3I2FB,R2...</td>\n",
       "      <td>Worth it!,Good one,Robust and effective.,Good,...</td>\n",
       "      <td>It does the job really well. No complaints reg...</td>\n",
       "      <td>https://m.media-amazon.com/images/W/WEBP_40237...</td>\n",
       "      <td>https://www.amazon.in/Sounce-Type-C-Compatible...</td>\n",
       "    </tr>\n",
       "    <tr>\n",
       "      <th>1384</th>\n",
       "      <td>B09XHXXCFH</td>\n",
       "      <td>AGARO Regal Electric Rice Cooker, 3L Ceramic I...</td>\n",
       "      <td>Home&amp;Kitchen|Kitchen&amp;HomeAppliances|SmallKitch...</td>\n",
       "      <td>₹3,685</td>\n",
       "      <td>₹5,495</td>\n",
       "      <td>33%</td>\n",
       "      <td>4.1</td>\n",
       "      <td>290</td>\n",
       "      <td>Multi functional use- Steamed veggies and rice...</td>\n",
       "      <td>AHD7UBRNLFOB46RIRLFXKJY6N53Q,AETPMOGJUEKAM3X4B...</td>\n",
       "      <td>Pratik garg,Amazon Customer,olivia dutta,Ravit...</td>\n",
       "      <td>R1FV12XCLPA07M,RR4FYBIUQQF0S,R3IGJPGKZS06NZ,R3...</td>\n",
       "      <td>It is a great product can be used to make dish...</td>\n",
       "      <td>I used it to make pulao and curry. It is eqsy ...</td>\n",
       "      <td>https://m.media-amazon.com/images/W/WEBP_40237...</td>\n",
       "      <td>https://www.amazon.in/AGARO-Regal-Electric-Cer...</td>\n",
       "    </tr>\n",
       "    <tr>\n",
       "      <th>620</th>\n",
       "      <td>B07QZ3CZ48</td>\n",
       "      <td>boAt BassHeads 122 Wired Earphones with Heavy ...</td>\n",
       "      <td>Electronics|Headphones,Earbuds&amp;Accessories|Hea...</td>\n",
       "      <td>₹399</td>\n",
       "      <td>₹1,290</td>\n",
       "      <td>69%</td>\n",
       "      <td>4.2</td>\n",
       "      <td>206</td>\n",
       "      <td>Tune into Premium Audio with 10mm Drivers and ...</td>\n",
       "      <td>AEY3XQ3NAOS4ZK53VDEVWJ72UYMA,AFENYA36PCVR7U6VQ...</td>\n",
       "      <td>Clifford Francis,Paras s.,Aditya Pandey,Abhina...</td>\n",
       "      <td>RUVNSVGR3C0ZK,R3IZIBJ48U0KDN,REZOPKFLKI7YE,R3G...</td>\n",
       "      <td>Boats are the best.,Just awesome,it is good in...</td>\n",
       "      <td>The sound quality is amazing but you have to b...</td>\n",
       "      <td>https://m.media-amazon.com/images/I/41dNRo8Hu8...</td>\n",
       "      <td>https://www.amazon.in/BassHeads-122-Earphones-...</td>\n",
       "    </tr>\n",
       "    <tr>\n",
       "      <th>1275</th>\n",
       "      <td>B0BM9H2NY9</td>\n",
       "      <td>Multifunctional 2 in 1 Electric Egg Boiling St...</td>\n",
       "      <td>Home&amp;Kitchen|Kitchen&amp;HomeAppliances|SmallKitch...</td>\n",
       "      <td>₹699</td>\n",
       "      <td>₹1,599</td>\n",
       "      <td>56%</td>\n",
       "      <td>4.7</td>\n",
       "      <td>2,300</td>\n",
       "      <td>Egg Frying Pan</td>\n",
       "      <td>AFZ2YKWX4KR7MWSA6UOMEGGHT32A,AEP6WZ7AR6XDQSBFS...</td>\n",
       "      <td>Nitin G.,Veerasomachary,Roshan,Kunwar Indransh...</td>\n",
       "      <td>R2DHTJGY77MOP0,R36IXNHZC037AW,R3GPHUMRV75VWK,R...</td>\n",
       "      <td>Amazing! Value for money!,Very easy to use,2 i...</td>\n",
       "      <td>Worth buying for eggetarians,Working great so ...</td>\n",
       "      <td>https://m.media-amazon.com/images/W/WEBP_40237...</td>\n",
       "      <td>https://www.amazon.in/Multifunctional-Electric...</td>\n",
       "    </tr>\n",
       "    <tr>\n",
       "      <th>1179</th>\n",
       "      <td>B07SPVMSC6</td>\n",
       "      <td>Bajaj Frore 1200 mm Ceiling Fan (Brown)</td>\n",
       "      <td>Home&amp;Kitchen|Heating,Cooling&amp;AirQuality|Fans|C...</td>\n",
       "      <td>₹1,399</td>\n",
       "      <td>₹2,660</td>\n",
       "      <td>47%</td>\n",
       "      <td>4.1</td>\n",
       "      <td>9,349</td>\n",
       "      <td>Sweep : 1200mm, Power : 56W, Air Delivery : 20...</td>\n",
       "      <td>AFE4ZYVJSLM3MSXZHWHIWFGRMNPQ,AGLLVLIYA7LEFYOBO...</td>\n",
       "      <td>Shahul hameed,Bhaumik,Amjith K,Khimesh Chandra...</td>\n",
       "      <td>R15AE2SXC1IIK3,RQHVUM93NUCOU,R2DX0NQ3S7KOQ4,R1...</td>\n",
       "      <td>💥,Considering the price range, it’s a good one...</td>\n",
       "      <td>Nice,This fan is working fine, I’ve been using...</td>\n",
       "      <td>https://m.media-amazon.com/images/I/21qojQDoKW...</td>\n",
       "      <td>https://www.amazon.in/Bajaj-Frore-1200-Brown-C...</td>\n",
       "    </tr>\n",
       "    <tr>\n",
       "      <th>277</th>\n",
       "      <td>B09VH568H7</td>\n",
       "      <td>Amazon Brand - Solimo 3A Fast Charging Tough T...</td>\n",
       "      <td>Computers&amp;Accessories|Accessories&amp;Peripherals|...</td>\n",
       "      <td>₹119</td>\n",
       "      <td>₹299</td>\n",
       "      <td>60%</td>\n",
       "      <td>3.8</td>\n",
       "      <td>51</td>\n",
       "      <td>Durable data cable with the toughest PVC jacke...</td>\n",
       "      <td>AG5P7BKN4M3JH7HW64UV4Y2QZGHA,AHDAOL3TEKGCQABAY...</td>\n",
       "      <td>Sachin Dsouza,Ashrith S,Sheetal Prasad,Vibhu,B...</td>\n",
       "      <td>RR7JLC3VD2TBS,R3PG7SPU02XR6Z,R382LEGRZSS0UN,R1...</td>\n",
       "      <td>Good product, worth it,Not worthy to buy,good ...</td>\n",
       "      <td>,Please don't buy this product.Cable stopped w...</td>\n",
       "      <td>https://m.media-amazon.com/images/I/21pqzUPpJN...</td>\n",
       "      <td>https://www.amazon.in/Amazon-Brand-Solimo-Char...</td>\n",
       "    </tr>\n",
       "  </tbody>\n",
       "</table>\n",
       "</div>"
      ],
      "text/plain": [
       "      product_id                                       product_name  \\\n",
       "67    B0B9XN9S3W  Acer 80 cm (32 inches) N Series HD Ready TV AR...   \n",
       "922   B08J82K4GX  Samsung 24-inch(60.46cm) FHD Monitor, IPS, 75 ...   \n",
       "970   B0083T231O  Belkin Essential Series 4-Socket Surge Protect...   \n",
       "236   B097ZQTDVZ  7SEVEN® TCL Remote Control Smart TV RC802V Rem...   \n",
       "37    B09RZS1NQT  Sounce 65W OnePlus Dash Warp Charge Cable, 6.5...   \n",
       "1384  B09XHXXCFH  AGARO Regal Electric Rice Cooker, 3L Ceramic I...   \n",
       "620   B07QZ3CZ48  boAt BassHeads 122 Wired Earphones with Heavy ...   \n",
       "1275  B0BM9H2NY9  Multifunctional 2 in 1 Electric Egg Boiling St...   \n",
       "1179  B07SPVMSC6            Bajaj Frore 1200 mm Ceiling Fan (Brown)   \n",
       "277   B09VH568H7  Amazon Brand - Solimo 3A Fast Charging Tough T...   \n",
       "\n",
       "                                               category discounted_price  \\\n",
       "67    Electronics|HomeTheater,TV&Video|Televisions|S...           ₹7,999   \n",
       "922                      Computers&Accessories|Monitors          ₹10,099   \n",
       "970        Electronics|PowerAccessories|SurgeProtectors           ₹1,289   \n",
       "236   Electronics|HomeTheater,TV&Video|Accessories|R...             ₹399   \n",
       "37    Computers&Accessories|Accessories&Peripherals|...             ₹199   \n",
       "1384  Home&Kitchen|Kitchen&HomeAppliances|SmallKitch...           ₹3,685   \n",
       "620   Electronics|Headphones,Earbuds&Accessories|Hea...             ₹399   \n",
       "1275  Home&Kitchen|Kitchen&HomeAppliances|SmallKitch...             ₹699   \n",
       "1179  Home&Kitchen|Heating,Cooling&AirQuality|Fans|C...           ₹1,399   \n",
       "277   Computers&Accessories|Accessories&Peripherals|...             ₹119   \n",
       "\n",
       "     actual_price discount_percentage rating rating_count  \\\n",
       "67        ₹14,990                 47%    4.3          457   \n",
       "922       ₹19,110                 47%    4.3        2,623   \n",
       "970        ₹1,499                 14%    4.5       20,668   \n",
       "236          ₹899                 56%    3.4          431   \n",
       "37           ₹999                 80%    4.0          576   \n",
       "1384       ₹5,495                 33%    4.1          290   \n",
       "620        ₹1,290                 69%    4.2          206   \n",
       "1275       ₹1,599                 56%    4.7        2,300   \n",
       "1179       ₹2,660                 47%    4.1        9,349   \n",
       "277          ₹299                 60%    3.8           51   \n",
       "\n",
       "                                          about_product  \\\n",
       "67    Resolution: HD Ready (1366 x 768) | Refresh Ra...   \n",
       "922   24 inch Samsung Monitor - 1,920 x 1,080 Resolu...   \n",
       "970   Maximum Spike Current: 6500 Amps|Grounds AC po...   \n",
       "236   Compatible for TCL 65P8S 32A323 32A325 32P30S ...   \n",
       "37    [USB C To USB C Cord 1M] With This 1 Meter USB...   \n",
       "1384  Multi functional use- Steamed veggies and rice...   \n",
       "620   Tune into Premium Audio with 10mm Drivers and ...   \n",
       "1275                                     Egg Frying Pan   \n",
       "1179  Sweep : 1200mm, Power : 56W, Air Delivery : 20...   \n",
       "277   Durable data cable with the toughest PVC jacke...   \n",
       "\n",
       "                                                user_id  \\\n",
       "67    AFXQSBDW6232K22UMJWF5PMYX5RQ,AG4IENR3HNMEINBTJ...   \n",
       "922   AGYJWE5KU7LQVHHG3UBK4DGPWP5A,AFAW4JGIBKTJDQE4E...   \n",
       "970   AGT572FSHJL725535LQUNZXHTO2A,AGGIJ2Y7MC4VSMU57...   \n",
       "236   AGKXFGRXVN4CMGMCT5SGOPB6BBIQ,AGNKWLEKAA53Y27KT...   \n",
       "37    AHUH7OYN3LAUATF5EGA575WCDI6A,AFQRX6TAM6CHKARXI...   \n",
       "1384  AHD7UBRNLFOB46RIRLFXKJY6N53Q,AETPMOGJUEKAM3X4B...   \n",
       "620   AEY3XQ3NAOS4ZK53VDEVWJ72UYMA,AFENYA36PCVR7U6VQ...   \n",
       "1275  AFZ2YKWX4KR7MWSA6UOMEGGHT32A,AEP6WZ7AR6XDQSBFS...   \n",
       "1179  AFE4ZYVJSLM3MSXZHWHIWFGRMNPQ,AGLLVLIYA7LEFYOBO...   \n",
       "277   AG5P7BKN4M3JH7HW64UV4Y2QZGHA,AHDAOL3TEKGCQABAY...   \n",
       "\n",
       "                                              user_name  \\\n",
       "67    ARUN KUMAR A V,Ankesh kumar pandit,Pradeep,lim...   \n",
       "922   Srikkanth,Sameer,Alexander,Siddhant Pawar,Deep...   \n",
       "970   Hayat Ansari,Basanti Renu Hembram,Darshana Pra...   \n",
       "236   umakanth,Sagar Ranpise,Martin Gibson Karkada,R...   \n",
       "37    Anmol,Vani,Tejas Jha,Rishabh Gupta,Nik,Harsha,...   \n",
       "1384  Pratik garg,Amazon Customer,olivia dutta,Ravit...   \n",
       "620   Clifford Francis,Paras s.,Aditya Pandey,Abhina...   \n",
       "1275  Nitin G.,Veerasomachary,Roshan,Kunwar Indransh...   \n",
       "1179  Shahul hameed,Bhaumik,Amjith K,Khimesh Chandra...   \n",
       "277   Sachin Dsouza,Ashrith S,Sheetal Prasad,Vibhu,B...   \n",
       "\n",
       "                                              review_id  \\\n",
       "67    R3FTW5HNPCX66C,RM7IFDV9KNC2O,RK9JKA9U9LZ49,R15...   \n",
       "922   R1R5HVWWX3D0P9,RRDFD5UYQWGA2,R1U2VOC38FXAK5,R3...   \n",
       "970   R1DQD1BRKH1AIO,R3ESPNPFL2XD8Z,RS64CINVRWLQ7,R3...   \n",
       "236   R16NWYD2LYHNFJ,R2Y32IVRENIANJ,R3BBJ9AXA1ZOSC,R...   \n",
       "37    RW294SCHB5QTK,R24AGC1O5RVWYI,R3NT7AA2V3I2FB,R2...   \n",
       "1384  R1FV12XCLPA07M,RR4FYBIUQQF0S,R3IGJPGKZS06NZ,R3...   \n",
       "620   RUVNSVGR3C0ZK,R3IZIBJ48U0KDN,REZOPKFLKI7YE,R3G...   \n",
       "1275  R2DHTJGY77MOP0,R36IXNHZC037AW,R3GPHUMRV75VWK,R...   \n",
       "1179  R15AE2SXC1IIK3,RQHVUM93NUCOU,R2DX0NQ3S7KOQ4,R1...   \n",
       "277   RR7JLC3VD2TBS,R3PG7SPU02XR6Z,R382LEGRZSS0UN,R1...   \n",
       "\n",
       "                                           review_title  \\\n",
       "67    Value for Money,Good product,Great excellent p...   \n",
       "922   Good one,, bright!,Great product altogether,Go...   \n",
       "970   Good product with bad resellers,Works great,Be...   \n",
       "236   When you can’t find the original this comes ha...   \n",
       "37    Worth it!,Good one,Robust and effective.,Good,...   \n",
       "1384  It is a great product can be used to make dish...   \n",
       "620   Boats are the best.,Just awesome,it is good in...   \n",
       "1275  Amazing! Value for money!,Very easy to use,2 i...   \n",
       "1179  💥,Considering the price range, it’s a good one...   \n",
       "277   Good product, worth it,Not worthy to buy,good ...   \n",
       "\n",
       "                                         review_content  \\\n",
       "67    Regarding rate I liked very much and reasonabl...   \n",
       "922   I had an LG 27\" monitor and broke it twice whi...   \n",
       "970   Product is excellent. But Belkin should check ...   \n",
       "236   Just got delivered, there’s lag in remote, it ...   \n",
       "37    It does the job really well. No complaints reg...   \n",
       "1384  I used it to make pulao and curry. It is eqsy ...   \n",
       "620   The sound quality is amazing but you have to b...   \n",
       "1275  Worth buying for eggetarians,Working great so ...   \n",
       "1179  Nice,This fan is working fine, I’ve been using...   \n",
       "277   ,Please don't buy this product.Cable stopped w...   \n",
       "\n",
       "                                               img_link  \\\n",
       "67    https://m.media-amazon.com/images/I/51FicDnawa...   \n",
       "922   https://m.media-amazon.com/images/I/417vDmMtbp...   \n",
       "970   https://m.media-amazon.com/images/W/WEBP_40237...   \n",
       "236   https://m.media-amazon.com/images/I/31DRQ+kgWa...   \n",
       "37    https://m.media-amazon.com/images/W/WEBP_40237...   \n",
       "1384  https://m.media-amazon.com/images/W/WEBP_40237...   \n",
       "620   https://m.media-amazon.com/images/I/41dNRo8Hu8...   \n",
       "1275  https://m.media-amazon.com/images/W/WEBP_40237...   \n",
       "1179  https://m.media-amazon.com/images/I/21qojQDoKW...   \n",
       "277   https://m.media-amazon.com/images/I/21pqzUPpJN...   \n",
       "\n",
       "                                           product_link  \n",
       "67    https://www.amazon.in/Acer-inches-Ready-AR32NS...  \n",
       "922   https://www.amazon.in/Samsung-inch-Bezel-Flick...  \n",
       "970   https://www.amazon.in/Belkin-Essential-F9E400z...  \n",
       "236   https://www.amazon.in/RC802V-Compatible-43S650...  \n",
       "37    https://www.amazon.in/Sounce-Type-C-Compatible...  \n",
       "1384  https://www.amazon.in/AGARO-Regal-Electric-Cer...  \n",
       "620   https://www.amazon.in/BassHeads-122-Earphones-...  \n",
       "1275  https://www.amazon.in/Multifunctional-Electric...  \n",
       "1179  https://www.amazon.in/Bajaj-Frore-1200-Brown-C...  \n",
       "277   https://www.amazon.in/Amazon-Brand-Solimo-Char...  "
      ]
     },
     "execution_count": 11,
     "metadata": {},
     "output_type": "execute_result"
    }
   ],
   "source": [
    "# 获取数据开头10行的信息\n",
    "# DF1.head(10)\n",
    "# 获取数据结尾10行的信息 \n",
    "# DF1.tail(10)\n",
    "# 获取数据随机10行的信息 \n",
    "# DF1.sample(10)"
   ]
  },
  {
   "cell_type": "markdown",
   "id": "bb451fb6-2974-4b5d-8f6e-c18d4063d275",
   "metadata": {},
   "source": [
    "调整展示`上限`"
   ]
  },
  {
   "cell_type": "code",
   "execution_count": null,
   "id": "944c338d-2edb-467e-89bb-7ea38a8b6957",
   "metadata": {},
   "outputs": [],
   "source": [
    "# pd.set_options(\"display.max_columns\", 150)\n",
    "# pd.set_options(\"display.max_columns\", 500)"
   ]
  },
  {
   "cell_type": "markdown",
   "id": "1683fdbf-c868-4917-8550-515064618ac4",
   "metadata": {},
   "source": [
    "评估`丢失数据`  \n",
    "`info`<br>\n",
    "`isnull`<br>"
   ]
  },
  {
   "cell_type": "code",
   "execution_count": 19,
   "id": "baf1e5e5-4fa7-4740-a1e5-c4822438aca7",
   "metadata": {},
   "outputs": [
    {
     "data": {
      "text/plain": [
       "001    95.0\n",
       "002    92.0\n",
       "003    81.0\n",
       "004    89.0\n",
       "005    91.0\n",
       "006     NaN\n",
       "Name: 考试2, dtype: float64"
      ]
     },
     "execution_count": 19,
     "metadata": {},
     "output_type": "execute_result"
    }
   ],
   "source": [
    "Scores[\"考试2\"]"
   ]
  },
  {
   "cell_type": "code",
   "execution_count": 22,
   "id": "ee1bb34f-e818-4e3e-9a2a-e6338ffe8c97",
   "metadata": {},
   "outputs": [
    {
     "data": {
      "text/plain": [
       "001    False\n",
       "002    False\n",
       "003    False\n",
       "004    False\n",
       "005    False\n",
       "006     True\n",
       "Name: 考试2, dtype: bool"
      ]
     },
     "execution_count": 22,
     "metadata": {},
     "output_type": "execute_result"
    }
   ],
   "source": [
    "Scores[\"考试2\"].isnull()"
   ]
  },
  {
   "cell_type": "code",
   "execution_count": 23,
   "id": "4cd5aeb3-b390-49eb-82b7-2eb6288491a0",
   "metadata": {},
   "outputs": [
    {
     "data": {
      "text/plain": [
       "np.int64(1)"
      ]
     },
     "execution_count": 23,
     "metadata": {},
     "output_type": "execute_result"
    }
   ],
   "source": [
    "Scores[\"考试2\"].isnull().sum()"
   ]
  },
  {
   "cell_type": "code",
   "execution_count": 21,
   "id": "52a119e5-e67b-4d0b-a57f-44d63f37478e",
   "metadata": {},
   "outputs": [
    {
     "data": {
      "text/html": [
       "<div>\n",
       "<style scoped>\n",
       "    .dataframe tbody tr th:only-of-type {\n",
       "        vertical-align: middle;\n",
       "    }\n",
       "\n",
       "    .dataframe tbody tr th {\n",
       "        vertical-align: top;\n",
       "    }\n",
       "\n",
       "    .dataframe thead th {\n",
       "        text-align: right;\n",
       "    }\n",
       "</style>\n",
       "<table border=\"1\" class=\"dataframe\">\n",
       "  <thead>\n",
       "    <tr style=\"text-align: right;\">\n",
       "      <th></th>\n",
       "      <th>姓名</th>\n",
       "      <th>考试1</th>\n",
       "      <th>考试2</th>\n",
       "      <th>考试3</th>\n",
       "    </tr>\n",
       "  </thead>\n",
       "  <tbody>\n",
       "    <tr>\n",
       "      <th>001</th>\n",
       "      <td>False</td>\n",
       "      <td>False</td>\n",
       "      <td>False</td>\n",
       "      <td>False</td>\n",
       "    </tr>\n",
       "    <tr>\n",
       "      <th>002</th>\n",
       "      <td>False</td>\n",
       "      <td>False</td>\n",
       "      <td>False</td>\n",
       "      <td>False</td>\n",
       "    </tr>\n",
       "    <tr>\n",
       "      <th>003</th>\n",
       "      <td>False</td>\n",
       "      <td>False</td>\n",
       "      <td>False</td>\n",
       "      <td>True</td>\n",
       "    </tr>\n",
       "    <tr>\n",
       "      <th>004</th>\n",
       "      <td>False</td>\n",
       "      <td>False</td>\n",
       "      <td>False</td>\n",
       "      <td>False</td>\n",
       "    </tr>\n",
       "    <tr>\n",
       "      <th>005</th>\n",
       "      <td>False</td>\n",
       "      <td>False</td>\n",
       "      <td>False</td>\n",
       "      <td>False</td>\n",
       "    </tr>\n",
       "    <tr>\n",
       "      <th>006</th>\n",
       "      <td>False</td>\n",
       "      <td>False</td>\n",
       "      <td>True</td>\n",
       "      <td>False</td>\n",
       "    </tr>\n",
       "  </tbody>\n",
       "</table>\n",
       "</div>"
      ],
      "text/plain": [
       "        姓名    考试1    考试2    考试3\n",
       "001  False  False  False  False\n",
       "002  False  False  False  False\n",
       "003  False  False  False   True\n",
       "004  False  False  False  False\n",
       "005  False  False  False  False\n",
       "006  False  False   True  False"
      ]
     },
     "execution_count": 21,
     "metadata": {},
     "output_type": "execute_result"
    }
   ],
   "source": [
    "Scores.isnull()"
   ]
  },
  {
   "cell_type": "code",
   "execution_count": 24,
   "id": "600d31d2-64bc-48c3-b881-d72db098af1a",
   "metadata": {},
   "outputs": [
    {
     "data": {
      "text/plain": [
       "姓名     0\n",
       "考试1    0\n",
       "考试2    1\n",
       "考试3    1\n",
       "dtype: int64"
      ]
     },
     "execution_count": 24,
     "metadata": {},
     "output_type": "execute_result"
    }
   ],
   "source": [
    "Scores.isnull().sum()"
   ]
  },
  {
   "cell_type": "code",
   "execution_count": 26,
   "id": "b1fb34f8-b10d-49bc-8204-9b253518eeed",
   "metadata": {},
   "outputs": [
    {
     "data": {
      "text/plain": [
       "9"
      ]
     },
     "execution_count": 26,
     "metadata": {},
     "output_type": "execute_result"
    }
   ],
   "source": [
    "True + 6\n",
    "False + 9"
   ]
  },
  {
   "cell_type": "markdown",
   "id": "9843b3d0-91a8-4a9d-b579-ccccc2f03710",
   "metadata": {},
   "source": [
    "提取`丢失数据`的行"
   ]
  },
  {
   "cell_type": "code",
   "execution_count": 28,
   "id": "5456a5e2-d5f7-44ca-b5be-8a2cb55d44dc",
   "metadata": {},
   "outputs": [
    {
     "data": {
      "text/html": [
       "<div>\n",
       "<style scoped>\n",
       "    .dataframe tbody tr th:only-of-type {\n",
       "        vertical-align: middle;\n",
       "    }\n",
       "\n",
       "    .dataframe tbody tr th {\n",
       "        vertical-align: top;\n",
       "    }\n",
       "\n",
       "    .dataframe thead th {\n",
       "        text-align: right;\n",
       "    }\n",
       "</style>\n",
       "<table border=\"1\" class=\"dataframe\">\n",
       "  <thead>\n",
       "    <tr style=\"text-align: right;\">\n",
       "      <th></th>\n",
       "      <th>姓名</th>\n",
       "      <th>考试1</th>\n",
       "      <th>考试2</th>\n",
       "      <th>考试3</th>\n",
       "    </tr>\n",
       "  </thead>\n",
       "  <tbody>\n",
       "    <tr>\n",
       "      <th>003</th>\n",
       "      <td>翘兔</td>\n",
       "      <td>86</td>\n",
       "      <td>81.0</td>\n",
       "      <td>NaN</td>\n",
       "    </tr>\n",
       "  </tbody>\n",
       "</table>\n",
       "</div>"
      ],
      "text/plain": [
       "     姓名  考试1   考试2  考试3\n",
       "003  翘兔   86  81.0  NaN"
      ]
     },
     "execution_count": 28,
     "metadata": {},
     "output_type": "execute_result"
    }
   ],
   "source": [
    "Scores[Scores[\"考试3\"].isnull()]"
   ]
  },
  {
   "cell_type": "markdown",
   "id": "1f96f3ec-03e5-4127-80b9-b1beca96509e",
   "metadata": {},
   "source": [
    "## 评估 `重复数据`"
   ]
  },
  {
   "cell_type": "code",
   "execution_count": 30,
   "id": "93d696a6-c2d2-4a6d-8955-8c26a97ea362",
   "metadata": {},
   "outputs": [
    {
     "data": {
      "text/plain": [
       "0    001\n",
       "1    002\n",
       "2    003\n",
       "3    002\n",
       "4    005\n",
       "5    002\n",
       "6    006\n",
       "dtype: object"
      ]
     },
     "execution_count": 30,
     "metadata": {},
     "output_type": "execute_result"
    }
   ],
   "source": [
    "Students = pd.Series([\"001\", \"002\", \"003\", \"002\", \"005\", \"002\", \"006\"], \n",
    "              index = [0, 1, 2, 3, 4, 5, 6])\n",
    "Students"
   ]
  },
  {
   "cell_type": "code",
   "execution_count": 31,
   "id": "05175729-dcce-49ce-89ed-fcb58358bdc3",
   "metadata": {},
   "outputs": [
    {
     "data": {
      "text/plain": [
       "0    False\n",
       "1    False\n",
       "2    False\n",
       "3     True\n",
       "4    False\n",
       "5     True\n",
       "6    False\n",
       "dtype: bool"
      ]
     },
     "execution_count": 31,
     "metadata": {},
     "output_type": "execute_result"
    }
   ],
   "source": [
    "Students.duplicated()"
   ]
  },
  {
   "cell_type": "code",
   "execution_count": 32,
   "id": "89bcc2c5-157a-4144-ab0d-7fa4931fba2d",
   "metadata": {},
   "outputs": [
    {
     "data": {
      "text/html": [
       "<div>\n",
       "<style scoped>\n",
       "    .dataframe tbody tr th:only-of-type {\n",
       "        vertical-align: middle;\n",
       "    }\n",
       "\n",
       "    .dataframe tbody tr th {\n",
       "        vertical-align: top;\n",
       "    }\n",
       "\n",
       "    .dataframe thead th {\n",
       "        text-align: right;\n",
       "    }\n",
       "</style>\n",
       "<table border=\"1\" class=\"dataframe\">\n",
       "  <thead>\n",
       "    <tr style=\"text-align: right;\">\n",
       "      <th></th>\n",
       "      <th>学号</th>\n",
       "      <th>姓名</th>\n",
       "      <th>性别</th>\n",
       "      <th>身高</th>\n",
       "    </tr>\n",
       "  </thead>\n",
       "  <tbody>\n",
       "    <tr>\n",
       "      <th>0</th>\n",
       "      <td>001</td>\n",
       "      <td>孙哥</td>\n",
       "      <td>女</td>\n",
       "      <td>172.5</td>\n",
       "    </tr>\n",
       "    <tr>\n",
       "      <th>1</th>\n",
       "      <td>002</td>\n",
       "      <td>黄哥</td>\n",
       "      <td>女</td>\n",
       "      <td>168.0</td>\n",
       "    </tr>\n",
       "    <tr>\n",
       "      <th>2</th>\n",
       "      <td>003</td>\n",
       "      <td>翘兔</td>\n",
       "      <td>男</td>\n",
       "      <td>178.2</td>\n",
       "    </tr>\n",
       "    <tr>\n",
       "      <th>3</th>\n",
       "      <td>002</td>\n",
       "      <td>sed老师</td>\n",
       "      <td>男</td>\n",
       "      <td>181.2</td>\n",
       "    </tr>\n",
       "    <tr>\n",
       "      <th>4</th>\n",
       "      <td>005</td>\n",
       "      <td>狗处</td>\n",
       "      <td>女</td>\n",
       "      <td>161.7</td>\n",
       "    </tr>\n",
       "    <tr>\n",
       "      <th>5</th>\n",
       "      <td>002</td>\n",
       "      <td>黄哥</td>\n",
       "      <td>女</td>\n",
       "      <td>168.0</td>\n",
       "    </tr>\n",
       "    <tr>\n",
       "      <th>6</th>\n",
       "      <td>006</td>\n",
       "      <td>死矮子</td>\n",
       "      <td>女</td>\n",
       "      <td>158.5</td>\n",
       "    </tr>\n",
       "  </tbody>\n",
       "</table>\n",
       "</div>"
      ],
      "text/plain": [
       "    学号     姓名 性别     身高\n",
       "0  001     孙哥  女  172.5\n",
       "1  002     黄哥  女  168.0\n",
       "2  003     翘兔  男  178.2\n",
       "3  002  sed老师  男  181.2\n",
       "4  005     狗处  女  161.7\n",
       "5  002     黄哥  女  168.0\n",
       "6  006    死矮子  女  158.5"
      ]
     },
     "execution_count": 32,
     "metadata": {},
     "output_type": "execute_result"
    }
   ],
   "source": [
    "S_ID1 = pd.Series([\"001\", \"002\", \"003\", \"002\", \"005\", \"002\", \"006\"])\n",
    "S_Name1 = pd.Series([\"孙哥\", \"黄哥\", \"翘兔\", \"sed老师\", \"狗处\", \"黄哥\", \"死矮子\"])\n",
    "S_Gender1 = pd.Series([\"女\", \"女\", \"男\", \"男\", \"女\", \"女\", \"女\"])\n",
    "S_Height1 = pd.Series([172.5, 168.0, 178.2, 181.2, 161.7, 168.0, 158.5])\n",
    "Students1 = pd.DataFrame({\"学号\":S_ID1, \"姓名\":S_Name1, \"性别\":S_Gender1 , \"身高\":S_Height1})\n",
    "New_Index1 = [0, 1, 2, 3, 4, 5, 6]\n",
    "Students1.index = New_Index1\n",
    "Students1"
   ]
  },
  {
   "cell_type": "code",
   "execution_count": 35,
   "id": "e2e34901-67d5-4328-a2f4-99c19b2f5baa",
   "metadata": {},
   "outputs": [
    {
     "data": {
      "text/plain": [
       "0    False\n",
       "1    False\n",
       "2    False\n",
       "3    False\n",
       "4    False\n",
       "5     True\n",
       "6    False\n",
       "dtype: bool"
      ]
     },
     "execution_count": 35,
     "metadata": {},
     "output_type": "execute_result"
    }
   ],
   "source": [
    "Students1.duplicated()"
   ]
  },
  {
   "cell_type": "code",
   "execution_count": 36,
   "id": "7855650b-b020-4911-b8d5-cba19f6403b3",
   "metadata": {},
   "outputs": [
    {
     "data": {
      "text/plain": [
       "0    False\n",
       "1    False\n",
       "2    False\n",
       "3    False\n",
       "4    False\n",
       "5     True\n",
       "6    False\n",
       "dtype: bool"
      ]
     },
     "execution_count": 36,
     "metadata": {},
     "output_type": "execute_result"
    }
   ],
   "source": [
    "Students1.duplicated(subset = [\"学号\", \"性别\"])"
   ]
  },
  {
   "cell_type": "code",
   "execution_count": 37,
   "id": "435f4d7d-2e56-4064-9026-743b4c867c3d",
   "metadata": {},
   "outputs": [
    {
     "data": {
      "text/html": [
       "<div>\n",
       "<style scoped>\n",
       "    .dataframe tbody tr th:only-of-type {\n",
       "        vertical-align: middle;\n",
       "    }\n",
       "\n",
       "    .dataframe tbody tr th {\n",
       "        vertical-align: top;\n",
       "    }\n",
       "\n",
       "    .dataframe thead th {\n",
       "        text-align: right;\n",
       "    }\n",
       "</style>\n",
       "<table border=\"1\" class=\"dataframe\">\n",
       "  <thead>\n",
       "    <tr style=\"text-align: right;\">\n",
       "      <th></th>\n",
       "      <th>学号</th>\n",
       "      <th>姓名</th>\n",
       "      <th>性别</th>\n",
       "      <th>身高</th>\n",
       "    </tr>\n",
       "  </thead>\n",
       "  <tbody>\n",
       "    <tr>\n",
       "      <th>5</th>\n",
       "      <td>002</td>\n",
       "      <td>黄哥</td>\n",
       "      <td>女</td>\n",
       "      <td>168.0</td>\n",
       "    </tr>\n",
       "  </tbody>\n",
       "</table>\n",
       "</div>"
      ],
      "text/plain": [
       "    学号  姓名 性别     身高\n",
       "5  002  黄哥  女  168.0"
      ]
     },
     "execution_count": 37,
     "metadata": {},
     "output_type": "execute_result"
    }
   ],
   "source": [
    "Students1[Students1.duplicated(subset = [\"学号\", \"性别\"])]"
   ]
  },
  {
   "cell_type": "markdown",
   "id": "9809ed47-1674-45d2-9c15-7a3374119e22",
   "metadata": {},
   "source": [
    "评估`不一致数据`"
   ]
  },
  {
   "cell_type": "code",
   "execution_count": 38,
   "id": "eaf09e34-0508-446c-8c2c-4d597d2fe1ae",
   "metadata": {},
   "outputs": [
    {
     "data": {
      "text/html": [
       "<div>\n",
       "<style scoped>\n",
       "    .dataframe tbody tr th:only-of-type {\n",
       "        vertical-align: middle;\n",
       "    }\n",
       "\n",
       "    .dataframe tbody tr th {\n",
       "        vertical-align: top;\n",
       "    }\n",
       "\n",
       "    .dataframe thead th {\n",
       "        text-align: right;\n",
       "    }\n",
       "</style>\n",
       "<table border=\"1\" class=\"dataframe\">\n",
       "  <thead>\n",
       "    <tr style=\"text-align: right;\">\n",
       "      <th></th>\n",
       "      <th>学号</th>\n",
       "      <th>姓名</th>\n",
       "      <th>性别</th>\n",
       "      <th>班级</th>\n",
       "    </tr>\n",
       "  </thead>\n",
       "  <tbody>\n",
       "    <tr>\n",
       "      <th>0</th>\n",
       "      <td>001</td>\n",
       "      <td>孙哥</td>\n",
       "      <td>女</td>\n",
       "      <td>1 班</td>\n",
       "    </tr>\n",
       "    <tr>\n",
       "      <th>1</th>\n",
       "      <td>002</td>\n",
       "      <td>黄哥</td>\n",
       "      <td>女</td>\n",
       "      <td>1班</td>\n",
       "    </tr>\n",
       "    <tr>\n",
       "      <th>2</th>\n",
       "      <td>003</td>\n",
       "      <td>黄哥</td>\n",
       "      <td>女</td>\n",
       "      <td>1 班</td>\n",
       "    </tr>\n",
       "    <tr>\n",
       "      <th>3</th>\n",
       "      <td>002</td>\n",
       "      <td>翘兔</td>\n",
       "      <td>男</td>\n",
       "      <td>一班</td>\n",
       "    </tr>\n",
       "    <tr>\n",
       "      <th>4</th>\n",
       "      <td>005</td>\n",
       "      <td>sed老师</td>\n",
       "      <td>男</td>\n",
       "      <td>二班</td>\n",
       "    </tr>\n",
       "    <tr>\n",
       "      <th>5</th>\n",
       "      <td>002</td>\n",
       "      <td>狗处</td>\n",
       "      <td>女</td>\n",
       "      <td>2 班</td>\n",
       "    </tr>\n",
       "    <tr>\n",
       "      <th>6</th>\n",
       "      <td>006</td>\n",
       "      <td>死矮子</td>\n",
       "      <td>女</td>\n",
       "      <td>2 班</td>\n",
       "    </tr>\n",
       "  </tbody>\n",
       "</table>\n",
       "</div>"
      ],
      "text/plain": [
       "    学号     姓名 性别   班级\n",
       "0  001     孙哥  女  1 班\n",
       "1  002     黄哥  女   1班\n",
       "2  003     黄哥  女  1 班\n",
       "3  002     翘兔  男   一班\n",
       "4  005  sed老师  男   二班\n",
       "5  002     狗处  女  2 班\n",
       "6  006    死矮子  女  2 班"
      ]
     },
     "execution_count": 38,
     "metadata": {},
     "output_type": "execute_result"
    }
   ],
   "source": [
    "S_ID2 = pd.Series([\"001\", \"002\", \"003\", \"002\", \"005\", \"002\", \"006\"])\n",
    "S_Name2 = pd.Series([\"孙哥\", \"黄哥\", \"黄哥\", \"翘兔\", \"sed老师\", \"狗处\", \"死矮子\"])\n",
    "S_Gender2 = pd.Series([\"女\", \"女\", \"女\", \"男\", \"男\", \"女\", \"女\"])\n",
    "S_Class2 = pd.Series([\"1 班\", \"1班\", \"1 班\", \"一班\", \"二班\", \"2 班\", \"2 班\"])\n",
    "Students2 = pd.DataFrame({\"学号\":S_ID2, \"姓名\":S_Name2, \"性别\":S_Gender2 , \"班级\":S_Class2})\n",
    "New_Index2 = [0, 1, 2, 3, 4, 5, 6]\n",
    "Students2.index = New_Index2\n",
    "Students2"
   ]
  },
  {
   "cell_type": "code",
   "execution_count": 39,
   "id": "78ddf501-104d-4157-8678-e380b398bcd3",
   "metadata": {},
   "outputs": [
    {
     "data": {
      "text/plain": [
       "0    1 班\n",
       "1     1班\n",
       "2    1 班\n",
       "3     一班\n",
       "4     二班\n",
       "5    2 班\n",
       "6    2 班\n",
       "Name: 班级, dtype: object"
      ]
     },
     "execution_count": 39,
     "metadata": {},
     "output_type": "execute_result"
    }
   ],
   "source": [
    "Students2[\"班级\"]"
   ]
  },
  {
   "cell_type": "code",
   "execution_count": 40,
   "id": "9894493c-8ee8-4974-8592-2275c02123a4",
   "metadata": {},
   "outputs": [
    {
     "data": {
      "text/plain": [
       "班级\n",
       "1 班    2\n",
       "2 班    2\n",
       "1班     1\n",
       "一班     1\n",
       "二班     1\n",
       "Name: count, dtype: int64"
      ]
     },
     "execution_count": 40,
     "metadata": {},
     "output_type": "execute_result"
    }
   ],
   "source": [
    "Students2[\"班级\"].value_counts()"
   ]
  },
  {
   "cell_type": "markdown",
   "id": "ff1c7ecd-c57c-40d2-9c9b-80821eab3fb1",
   "metadata": {},
   "source": [
    "评估`无效/错误数据`"
   ]
  },
  {
   "cell_type": "code",
   "execution_count": 45,
   "id": "134a3235-523f-428d-8e02-651bf2e67e52",
   "metadata": {},
   "outputs": [
    {
     "data": {
      "text/html": [
       "<div>\n",
       "<style scoped>\n",
       "    .dataframe tbody tr th:only-of-type {\n",
       "        vertical-align: middle;\n",
       "    }\n",
       "\n",
       "    .dataframe tbody tr th {\n",
       "        vertical-align: top;\n",
       "    }\n",
       "\n",
       "    .dataframe thead th {\n",
       "        text-align: right;\n",
       "    }\n",
       "</style>\n",
       "<table border=\"1\" class=\"dataframe\">\n",
       "  <thead>\n",
       "    <tr style=\"text-align: right;\">\n",
       "      <th></th>\n",
       "      <th>学号</th>\n",
       "      <th>姓名</th>\n",
       "      <th>性别</th>\n",
       "      <th>身高</th>\n",
       "    </tr>\n",
       "  </thead>\n",
       "  <tbody>\n",
       "    <tr>\n",
       "      <th>0</th>\n",
       "      <td>孙哥</td>\n",
       "      <td>孙哥</td>\n",
       "      <td>女</td>\n",
       "      <td>172.5</td>\n",
       "    </tr>\n",
       "    <tr>\n",
       "      <th>1</th>\n",
       "      <td>黄哥</td>\n",
       "      <td>黄哥</td>\n",
       "      <td>女</td>\n",
       "      <td>168.0</td>\n",
       "    </tr>\n",
       "    <tr>\n",
       "      <th>2</th>\n",
       "      <td>黄哥</td>\n",
       "      <td>黄哥</td>\n",
       "      <td>女</td>\n",
       "      <td>1168.0</td>\n",
       "    </tr>\n",
       "    <tr>\n",
       "      <th>3</th>\n",
       "      <td>翘兔</td>\n",
       "      <td>翘兔</td>\n",
       "      <td>男</td>\n",
       "      <td>178.2</td>\n",
       "    </tr>\n",
       "    <tr>\n",
       "      <th>4</th>\n",
       "      <td>sed老师</td>\n",
       "      <td>sed老师</td>\n",
       "      <td>男</td>\n",
       "      <td>181.3</td>\n",
       "    </tr>\n",
       "    <tr>\n",
       "      <th>5</th>\n",
       "      <td>狗处</td>\n",
       "      <td>狗处</td>\n",
       "      <td>女</td>\n",
       "      <td>-161.7</td>\n",
       "    </tr>\n",
       "    <tr>\n",
       "      <th>6</th>\n",
       "      <td>死矮子</td>\n",
       "      <td>死矮子</td>\n",
       "      <td>女</td>\n",
       "      <td>158.5</td>\n",
       "    </tr>\n",
       "  </tbody>\n",
       "</table>\n",
       "</div>"
      ],
      "text/plain": [
       "      学号     姓名 性别      身高\n",
       "0     孙哥     孙哥  女   172.5\n",
       "1     黄哥     黄哥  女   168.0\n",
       "2     黄哥     黄哥  女  1168.0\n",
       "3     翘兔     翘兔  男   178.2\n",
       "4  sed老师  sed老师  男   181.3\n",
       "5     狗处     狗处  女  -161.7\n",
       "6    死矮子    死矮子  女   158.5"
      ]
     },
     "execution_count": 45,
     "metadata": {},
     "output_type": "execute_result"
    }
   ],
   "source": [
    "S_Name3 = pd.Series([\"孙哥\", \"黄哥\", \"黄哥\", \"翘兔\", \"sed老师\", \"狗处\", \"死矮子\"])\n",
    "S_Gender3 = pd.Series([\"女\", \"女\", \"女\", \"男\", \"男\", \"女\", \"女\"])\n",
    "S_Height3 = pd.Series([172.5, 168.0, 1168.0, 178.2, 181.3, -161.7, 158.5])\n",
    "Students3 = pd.DataFrame({\"学号\":S_Name3, \"姓名\":S_Name3, \"性别\":S_Gender3, \"身高\":S_Height3})\n",
    "# New_Index3 = [0, 1, 2, 3, 4, 5, 6]\n",
    "# Students2.index = New_Index3\n",
    "Students3"
   ]
  },
  {
   "cell_type": "code",
   "execution_count": 46,
   "id": "43ee6d01-e7ee-4cbf-a3e2-fb1fd0d55fa5",
   "metadata": {},
   "outputs": [
    {
     "data": {
      "text/plain": [
       "5    -161.7\n",
       "6     158.5\n",
       "1     168.0\n",
       "0     172.5\n",
       "3     178.2\n",
       "4     181.3\n",
       "2    1168.0\n",
       "Name: 身高, dtype: float64"
      ]
     },
     "execution_count": 46,
     "metadata": {},
     "output_type": "execute_result"
    }
   ],
   "source": [
    "Students3[\"身高\"].sort_values()"
   ]
  },
  {
   "cell_type": "code",
   "execution_count": 47,
   "id": "5be87e44-d609-421a-a678-de5293e9c32e",
   "metadata": {},
   "outputs": [
    {
     "data": {
      "text/html": [
       "<div>\n",
       "<style scoped>\n",
       "    .dataframe tbody tr th:only-of-type {\n",
       "        vertical-align: middle;\n",
       "    }\n",
       "\n",
       "    .dataframe tbody tr th {\n",
       "        vertical-align: top;\n",
       "    }\n",
       "\n",
       "    .dataframe thead th {\n",
       "        text-align: right;\n",
       "    }\n",
       "</style>\n",
       "<table border=\"1\" class=\"dataframe\">\n",
       "  <thead>\n",
       "    <tr style=\"text-align: right;\">\n",
       "      <th></th>\n",
       "      <th>身高</th>\n",
       "    </tr>\n",
       "  </thead>\n",
       "  <tbody>\n",
       "    <tr>\n",
       "      <th>count</th>\n",
       "      <td>7.000000</td>\n",
       "    </tr>\n",
       "    <tr>\n",
       "      <th>mean</th>\n",
       "      <td>266.400000</td>\n",
       "    </tr>\n",
       "    <tr>\n",
       "      <th>std</th>\n",
       "      <td>416.596447</td>\n",
       "    </tr>\n",
       "    <tr>\n",
       "      <th>min</th>\n",
       "      <td>-161.700000</td>\n",
       "    </tr>\n",
       "    <tr>\n",
       "      <th>25%</th>\n",
       "      <td>163.250000</td>\n",
       "    </tr>\n",
       "    <tr>\n",
       "      <th>50%</th>\n",
       "      <td>172.500000</td>\n",
       "    </tr>\n",
       "    <tr>\n",
       "      <th>75%</th>\n",
       "      <td>179.750000</td>\n",
       "    </tr>\n",
       "    <tr>\n",
       "      <th>max</th>\n",
       "      <td>1168.000000</td>\n",
       "    </tr>\n",
       "  </tbody>\n",
       "</table>\n",
       "</div>"
      ],
      "text/plain": [
       "                身高\n",
       "count     7.000000\n",
       "mean    266.400000\n",
       "std     416.596447\n",
       "min    -161.700000\n",
       "25%     163.250000\n",
       "50%     172.500000\n",
       "75%     179.750000\n",
       "max    1168.000000"
      ]
     },
     "execution_count": 47,
     "metadata": {},
     "output_type": "execute_result"
    }
   ],
   "source": [
    "Students3.describe()"
   ]
  },
  {
   "cell_type": "code",
   "execution_count": null,
   "id": "4e27b9c7-5880-43f8-9318-75247767e8c1",
   "metadata": {},
   "outputs": [],
   "source": []
  },
  {
   "cell_type": "code",
   "execution_count": null,
   "id": "111d8e93-d0a3-4697-b8c1-a373b86bf07d",
   "metadata": {},
   "outputs": [],
   "source": []
  },
  {
   "cell_type": "code",
   "execution_count": null,
   "id": "0feac6ad-e26a-460f-8507-93de33f8556a",
   "metadata": {},
   "outputs": [],
   "source": []
  },
  {
   "cell_type": "code",
   "execution_count": null,
   "id": "8811ac05-d5dd-46a1-9d67-c61f1f534518",
   "metadata": {},
   "outputs": [],
   "source": []
  },
  {
   "cell_type": "code",
   "execution_count": null,
   "id": "79978c3d-6083-4689-91a4-ee626cfe5851",
   "metadata": {},
   "outputs": [],
   "source": []
  },
  {
   "cell_type": "code",
   "execution_count": null,
   "id": "48f6a20a-e040-4e52-8c3c-4b40d17d9478",
   "metadata": {},
   "outputs": [],
   "source": []
  },
  {
   "cell_type": "code",
   "execution_count": null,
   "id": "ff0f37d5-736e-418a-8f0c-88d04ba90651",
   "metadata": {},
   "outputs": [],
   "source": []
  },
  {
   "cell_type": "code",
   "execution_count": null,
   "id": "07704f04-7a21-441b-b335-797d2208354f",
   "metadata": {},
   "outputs": [],
   "source": []
  },
  {
   "cell_type": "code",
   "execution_count": null,
   "id": "2ed5b840-399f-466a-bd8f-4e0a5f909b52",
   "metadata": {},
   "outputs": [],
   "source": []
  },
  {
   "cell_type": "code",
   "execution_count": null,
   "id": "f40c9a8e-c0c2-4902-9f5d-236d255ec53a",
   "metadata": {},
   "outputs": [],
   "source": []
  },
  {
   "cell_type": "code",
   "execution_count": null,
   "id": "ccdbdc6e-bbe1-4970-b55a-a62b9c5b9e6c",
   "metadata": {},
   "outputs": [],
   "source": []
  },
  {
   "cell_type": "code",
   "execution_count": null,
   "id": "70f9b9d7-5a2c-4bfa-a5ec-29d0dcacef6b",
   "metadata": {},
   "outputs": [],
   "source": []
  },
  {
   "cell_type": "code",
   "execution_count": null,
   "id": "d1028801-3751-4cee-9399-20092a81b047",
   "metadata": {},
   "outputs": [],
   "source": []
  },
  {
   "cell_type": "code",
   "execution_count": null,
   "id": "e9f3b1dc-3757-40eb-9f3c-68e1a589aacd",
   "metadata": {},
   "outputs": [],
   "source": []
  },
  {
   "cell_type": "code",
   "execution_count": null,
   "id": "c583fe38-ce29-4612-8d8e-9ddd61818101",
   "metadata": {},
   "outputs": [],
   "source": []
  },
  {
   "cell_type": "code",
   "execution_count": null,
   "id": "923c68cd-5a2c-4617-b425-ce627f6eb35e",
   "metadata": {},
   "outputs": [],
   "source": []
  },
  {
   "cell_type": "code",
   "execution_count": null,
   "id": "e9078f3e-5f35-459f-bbda-73ed3bc7fc7a",
   "metadata": {},
   "outputs": [],
   "source": []
  },
  {
   "cell_type": "code",
   "execution_count": null,
   "id": "d83703ad-9afd-409f-baa2-18001d195d7f",
   "metadata": {},
   "outputs": [],
   "source": []
  },
  {
   "cell_type": "code",
   "execution_count": null,
   "id": "5a1966ce-317d-479a-99ab-92628f25c23f",
   "metadata": {},
   "outputs": [],
   "source": []
  },
  {
   "cell_type": "code",
   "execution_count": null,
   "id": "300d8fed-787c-4270-95df-6f884ef96bd2",
   "metadata": {},
   "outputs": [],
   "source": []
  },
  {
   "cell_type": "code",
   "execution_count": null,
   "id": "3b6e6283-cf88-4636-9a3e-67221cc53227",
   "metadata": {},
   "outputs": [],
   "source": []
  },
  {
   "cell_type": "code",
   "execution_count": null,
   "id": "2f6acdec-c419-4898-af0a-0f4ebf805009",
   "metadata": {},
   "outputs": [],
   "source": []
  },
  {
   "cell_type": "code",
   "execution_count": null,
   "id": "302c0a8b-cd3e-4ec9-8bde-0bf0671a6459",
   "metadata": {},
   "outputs": [],
   "source": []
  },
  {
   "cell_type": "code",
   "execution_count": null,
   "id": "b629fee0-4387-41e1-94d0-da5e399eb7fc",
   "metadata": {},
   "outputs": [],
   "source": []
  },
  {
   "cell_type": "code",
   "execution_count": null,
   "id": "a593b411-e978-4b3e-8f65-2eebf39611af",
   "metadata": {},
   "outputs": [],
   "source": []
  },
  {
   "cell_type": "code",
   "execution_count": null,
   "id": "203e879b-fae2-4d22-abe8-0283a416ecdf",
   "metadata": {},
   "outputs": [],
   "source": []
  },
  {
   "cell_type": "code",
   "execution_count": null,
   "id": "d8b00d4b-28c8-41ee-9309-ea2c8b0c8002",
   "metadata": {},
   "outputs": [],
   "source": []
  },
  {
   "cell_type": "code",
   "execution_count": null,
   "id": "9d2d15b7-9535-427b-a83c-adaf0fa55313",
   "metadata": {},
   "outputs": [],
   "source": []
  },
  {
   "cell_type": "code",
   "execution_count": null,
   "id": "b5f03378-476b-4f6e-b0dc-bdc3e10ae3ec",
   "metadata": {},
   "outputs": [],
   "source": []
  },
  {
   "cell_type": "code",
   "execution_count": null,
   "id": "ce80086a-7f18-4e8a-b2b5-4d812b75914d",
   "metadata": {},
   "outputs": [],
   "source": []
  },
  {
   "cell_type": "code",
   "execution_count": null,
   "id": "f2e827d2-22c3-4445-a74a-252fd743883e",
   "metadata": {},
   "outputs": [],
   "source": []
  },
  {
   "cell_type": "code",
   "execution_count": null,
   "id": "16b5228e-ddfe-4441-913c-c697e2855b01",
   "metadata": {},
   "outputs": [],
   "source": []
  },
  {
   "cell_type": "code",
   "execution_count": null,
   "id": "ed189b1f-bf70-4048-b856-68e49608fdf8",
   "metadata": {},
   "outputs": [],
   "source": []
  },
  {
   "cell_type": "code",
   "execution_count": null,
   "id": "11aa66b5-b24f-40b6-9edc-e0ce7e6523e3",
   "metadata": {},
   "outputs": [],
   "source": []
  },
  {
   "cell_type": "code",
   "execution_count": null,
   "id": "2fab8cea-8fd2-43fd-8f09-6b586715a0f9",
   "metadata": {},
   "outputs": [],
   "source": []
  },
  {
   "cell_type": "code",
   "execution_count": null,
   "id": "269904e3-208f-449f-ad53-f3cfea78ad39",
   "metadata": {},
   "outputs": [],
   "source": []
  },
  {
   "cell_type": "code",
   "execution_count": null,
   "id": "bd1b33b6-9a0e-43a5-96bd-508d1a1613fd",
   "metadata": {},
   "outputs": [],
   "source": []
  },
  {
   "cell_type": "code",
   "execution_count": null,
   "id": "26ab8300-2082-43fe-8528-af00dbee9183",
   "metadata": {},
   "outputs": [],
   "source": []
  },
  {
   "cell_type": "code",
   "execution_count": null,
   "id": "79aa4244-43c2-49c3-ad95-dbcd88596b39",
   "metadata": {},
   "outputs": [],
   "source": []
  },
  {
   "cell_type": "code",
   "execution_count": null,
   "id": "808ffc69-dfe1-4561-9019-050f60f9a71b",
   "metadata": {},
   "outputs": [],
   "source": []
  },
  {
   "cell_type": "code",
   "execution_count": null,
   "id": "ca061656-efbc-48c1-9545-b3b5931cfc83",
   "metadata": {},
   "outputs": [],
   "source": []
  },
  {
   "cell_type": "code",
   "execution_count": null,
   "id": "e757bd6e-6aa1-4fb8-8eeb-11b833fedb21",
   "metadata": {},
   "outputs": [],
   "source": []
  },
  {
   "cell_type": "code",
   "execution_count": null,
   "id": "70a4ef75-b93e-46bb-b926-bff40c55779b",
   "metadata": {},
   "outputs": [],
   "source": []
  },
  {
   "cell_type": "code",
   "execution_count": null,
   "id": "17716a3a-30a8-44de-835c-d910f1dc79a9",
   "metadata": {},
   "outputs": [],
   "source": []
  },
  {
   "cell_type": "code",
   "execution_count": null,
   "id": "1d89c5dd-0a62-47c2-bd0a-19046774970c",
   "metadata": {},
   "outputs": [],
   "source": []
  },
  {
   "cell_type": "code",
   "execution_count": null,
   "id": "213e1378-6521-4b56-ab19-7ae793f7108c",
   "metadata": {},
   "outputs": [],
   "source": []
  },
  {
   "cell_type": "code",
   "execution_count": null,
   "id": "9649b30f-1ab4-4014-bc8a-14ed93d57bd1",
   "metadata": {},
   "outputs": [],
   "source": []
  },
  {
   "cell_type": "code",
   "execution_count": null,
   "id": "fcc01be4-1201-4a91-9a9c-5b0f9b37a31d",
   "metadata": {},
   "outputs": [],
   "source": []
  },
  {
   "cell_type": "code",
   "execution_count": null,
   "id": "f68aa10d-c6d7-4a88-aebb-c30147a0a4df",
   "metadata": {},
   "outputs": [],
   "source": []
  },
  {
   "cell_type": "code",
   "execution_count": null,
   "id": "dbd97877-944e-40bb-a657-e181de66fae3",
   "metadata": {},
   "outputs": [],
   "source": []
  },
  {
   "cell_type": "code",
   "execution_count": null,
   "id": "90933b30-e823-4e77-b67a-52913f43854e",
   "metadata": {},
   "outputs": [],
   "source": []
  },
  {
   "cell_type": "code",
   "execution_count": null,
   "id": "1d3790b4-6fa3-411c-a265-03e163cb6efb",
   "metadata": {},
   "outputs": [],
   "source": []
  },
  {
   "cell_type": "code",
   "execution_count": null,
   "id": "676bb439-22e7-4d49-85a4-97b203f766cf",
   "metadata": {},
   "outputs": [],
   "source": []
  },
  {
   "cell_type": "code",
   "execution_count": null,
   "id": "37625ea4-2670-43fb-ab84-c00f8e4efb1b",
   "metadata": {},
   "outputs": [],
   "source": []
  },
  {
   "cell_type": "code",
   "execution_count": null,
   "id": "12e9e806-59c9-45f8-9332-053fe831d0bb",
   "metadata": {},
   "outputs": [],
   "source": []
  },
  {
   "cell_type": "code",
   "execution_count": null,
   "id": "0500453b-a480-4592-9a4b-1578bc7ca438",
   "metadata": {},
   "outputs": [],
   "source": []
  },
  {
   "cell_type": "code",
   "execution_count": null,
   "id": "403ec98c-090b-4da6-ab96-ee023f06d225",
   "metadata": {},
   "outputs": [],
   "source": []
  },
  {
   "cell_type": "code",
   "execution_count": null,
   "id": "27f302a7-3503-49cc-b33e-bee204d2bf1a",
   "metadata": {},
   "outputs": [],
   "source": []
  },
  {
   "cell_type": "code",
   "execution_count": null,
   "id": "1fde821f-aa4b-484b-81db-c9397084989e",
   "metadata": {},
   "outputs": [],
   "source": []
  },
  {
   "cell_type": "code",
   "execution_count": null,
   "id": "bc64bb7d-8705-4ccb-872f-95d47f5b5846",
   "metadata": {},
   "outputs": [],
   "source": []
  },
  {
   "cell_type": "code",
   "execution_count": null,
   "id": "71f07f7d-253e-4411-b371-6da374037e93",
   "metadata": {},
   "outputs": [],
   "source": []
  },
  {
   "cell_type": "code",
   "execution_count": null,
   "id": "f3cc3d57-0da1-4c66-8653-0105802c4aa3",
   "metadata": {},
   "outputs": [],
   "source": []
  },
  {
   "cell_type": "code",
   "execution_count": null,
   "id": "219f4766-83cd-49e6-b835-d80c615c9c9f",
   "metadata": {},
   "outputs": [],
   "source": []
  },
  {
   "cell_type": "code",
   "execution_count": null,
   "id": "c53b08ff-4d53-4359-a0df-79d000e9230e",
   "metadata": {},
   "outputs": [],
   "source": []
  },
  {
   "cell_type": "code",
   "execution_count": null,
   "id": "24600d5f-aaf9-4880-819d-1ceb9a2876d1",
   "metadata": {},
   "outputs": [],
   "source": []
  },
  {
   "cell_type": "code",
   "execution_count": null,
   "id": "9b84afe0-e785-4252-95bd-9921481cc69a",
   "metadata": {},
   "outputs": [],
   "source": []
  },
  {
   "cell_type": "code",
   "execution_count": null,
   "id": "3a98a742-6f47-4555-b827-c9eae7e9ac9f",
   "metadata": {},
   "outputs": [],
   "source": []
  },
  {
   "cell_type": "code",
   "execution_count": null,
   "id": "9cbb59f1-6eb5-4ef5-a1e8-5b651bd290ac",
   "metadata": {},
   "outputs": [],
   "source": []
  },
  {
   "cell_type": "code",
   "execution_count": null,
   "id": "b3bfab3d-d8cb-4476-9b05-cd61ed3d3527",
   "metadata": {},
   "outputs": [],
   "source": []
  },
  {
   "cell_type": "code",
   "execution_count": null,
   "id": "443bff97-75bc-48db-b407-a0d626e020e3",
   "metadata": {},
   "outputs": [],
   "source": []
  },
  {
   "cell_type": "code",
   "execution_count": null,
   "id": "a271e403-fed8-40d0-942f-91d15033b5d1",
   "metadata": {},
   "outputs": [],
   "source": []
  },
  {
   "cell_type": "code",
   "execution_count": null,
   "id": "e6f1df4f-2bd1-4d7c-9fa6-6580def82a4e",
   "metadata": {},
   "outputs": [],
   "source": []
  },
  {
   "cell_type": "code",
   "execution_count": null,
   "id": "be2ebd08-ed22-4659-87aa-8ea5e0dc0020",
   "metadata": {},
   "outputs": [],
   "source": []
  },
  {
   "cell_type": "code",
   "execution_count": null,
   "id": "37f10167-9f5f-4e84-9d06-12c7f9da1d0b",
   "metadata": {},
   "outputs": [],
   "source": []
  },
  {
   "cell_type": "code",
   "execution_count": null,
   "id": "3736e835-00c5-46ae-84c2-efc6b0a2ffe0",
   "metadata": {},
   "outputs": [],
   "source": []
  }
 ],
 "metadata": {
  "kernelspec": {
   "display_name": "Python 3 (ipykernel)",
   "language": "python",
   "name": "python3"
  },
  "language_info": {
   "codemirror_mode": {
    "name": "ipython",
    "version": 3
   },
   "file_extension": ".py",
   "mimetype": "text/x-python",
   "name": "python",
   "nbconvert_exporter": "python",
   "pygments_lexer": "ipython3",
   "version": "3.11.5"
  }
 },
 "nbformat": 4,
 "nbformat_minor": 5
}
