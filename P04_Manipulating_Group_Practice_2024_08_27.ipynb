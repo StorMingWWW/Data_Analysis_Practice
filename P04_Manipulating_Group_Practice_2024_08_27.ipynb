{
 "cells": [
  {
   "cell_type": "markdown",
   "id": "ab2959a4-17a0-4a4f-8227-4ebe5b62f160",
   "metadata": {},
   "source": [
    "写入导入 numpy 的语句，并且给 numpy 别名为 np。"
   ]
  },
  {
   "cell_type": "code",
   "execution_count": 1,
   "id": "b093c0bd-e6c3-4154-a239-815f929e9152",
   "metadata": {},
   "outputs": [],
   "source": [
    "import numpy as np"
   ]
  },
  {
   "cell_type": "markdown",
   "id": "bd2dceda-69fa-4516-b694-cb5aae626271",
   "metadata": {},
   "source": [
    "创建 arr1 为包含了元素1、 3、 2、 4、 9 的数组， 创建 arr2 为长度为 5 的由 1 组成的一维数组， arr3 为长度为 3 的由 0 组成的一维数组。"
   ]
  },
  {
   "cell_type": "code",
   "execution_count": 2,
   "id": "acc880ef-d21e-4a64-9adf-3405dd263680",
   "metadata": {},
   "outputs": [],
   "source": [
    "arr1 = np. array([1, 3, 2, 4, 9])\n",
    "arr2 = np. ones(5)\n",
    "arr3 = np. zeros(3)"
   ]
  },
  {
   "cell_type": "markdown",
   "id": "987be89a-fcbd-441e-9752-d4f76078ee14",
   "metadata": {},
   "source": [
    "创建数组 arr4, 包括所有 arr1、 arr2、 arr3 里面的数字，并输出。"
   ]
  },
  {
   "cell_type": "code",
   "execution_count": 5,
   "id": "a3768f26-e15b-4e08-a6c0-453e63ba4ee5",
   "metadata": {},
   "outputs": [
    {
     "data": {
      "text/plain": [
       "array([1., 3., 2., 4., 9., 1., 1., 1., 1., 1., 0., 0., 0.])"
      ]
     },
     "execution_count": 5,
     "metadata": {},
     "output_type": "execute_result"
    }
   ],
   "source": [
    "arr4 =  np. concatenate([arr1, arr2, arr3])\n",
    "arr4"
   ]
  },
  {
   "cell_type": "markdown",
   "id": "bec98d87-f2d7-4406-b537-99ae3e3225e1",
   "metadata": {},
   "source": [
    "更改 arr1, 对 arr1 里的元素进行排序， 并输出排序后的结果。"
   ]
  },
  {
   "cell_type": "code",
   "execution_count": 6,
   "id": "abbc5325-9fab-415a-b0ff-fb7aa99cb1a2",
   "metadata": {},
   "outputs": [
    {
     "data": {
      "text/plain": [
       "array([1, 2, 3, 4, 9])"
      ]
     },
     "execution_count": 6,
     "metadata": {},
     "output_type": "execute_result"
    }
   ],
   "source": [
    "arr1. sort()\n",
    "arr1"
   ]
  },
  {
   "cell_type": "markdown",
   "id": "b875838c-5379-4a40-97e1-65eb1503e314",
   "metadata": {},
   "source": [
    "用两种方法打印 arr1 的第三个元素。"
   ]
  },
  {
   "cell_type": "code",
   "execution_count": 7,
   "id": "dbf9d05a-ef07-468a-aa3a-da601282673a",
   "metadata": {},
   "outputs": [
    {
     "name": "stdout",
     "output_type": "stream",
     "text": [
      "3\n",
      "3\n"
     ]
    }
   ],
   "source": [
    "print(arr1[2])\n",
    "print(arr1[-3])"
   ]
  },
  {
   "cell_type": "markdown",
   "id": "97688782-9f26-4b72-94e8-caaad71d83b5",
   "metadata": {},
   "source": [
    "输出从 arr1 第 2 个元素到第 4 个元素组成的数组。"
   ]
  },
  {
   "cell_type": "code",
   "execution_count": 8,
   "id": "3d37e95f-4412-42cb-a45d-c311937fb6e7",
   "metadata": {},
   "outputs": [
    {
     "data": {
      "text/plain": [
       "array([2, 3, 4])"
      ]
     },
     "execution_count": 8,
     "metadata": {},
     "output_type": "execute_result"
    }
   ],
   "source": [
    "arr1[1:4]"
   ]
  },
  {
   "cell_type": "markdown",
   "id": "b67e3721-ef99-43b5-82da-9bf07cf4505b",
   "metadata": {},
   "source": [
    "输出 arr1 与 arr2 的同位置元素相加后组成的数组。"
   ]
  },
  {
   "cell_type": "code",
   "execution_count": 9,
   "id": "7b81716f-a690-4b22-a189-25e204c282f4",
   "metadata": {},
   "outputs": [
    {
     "data": {
      "text/plain": [
       "array([ 2.,  3.,  4.,  5., 10.])"
      ]
     },
     "execution_count": 9,
     "metadata": {},
     "output_type": "execute_result"
    }
   ],
   "source": [
    "arr1 + arr2"
   ]
  },
  {
   "cell_type": "markdown",
   "id": "0f611973-15aa-4633-b8c1-7b624deaa9dc",
   "metadata": {},
   "source": [
    "输出 arr1 的各个元素乘以 -5 后组成的数组。"
   ]
  },
  {
   "cell_type": "code",
   "execution_count": 10,
   "id": "737407a1-ff54-40c5-9120-3741cf1ccedd",
   "metadata": {},
   "outputs": [
    {
     "data": {
      "text/plain": [
       "array([ -5, -10, -15, -20, -45])"
      ]
     },
     "execution_count": 10,
     "metadata": {},
     "output_type": "execute_result"
    }
   ],
   "source": [
    "arr1 * -5"
   ]
  },
  {
   "cell_type": "markdown",
   "id": "8d22d6d7-df29-4275-905a-2556a773a363",
   "metadata": {},
   "source": [
    "打印 arr1 数组的最大值、 最小值、 和、 平均值。"
   ]
  },
  {
   "cell_type": "code",
   "execution_count": 11,
   "id": "cfba4edf-ff55-4c9d-8003-36b27e906fc4",
   "metadata": {},
   "outputs": [
    {
     "name": "stdout",
     "output_type": "stream",
     "text": [
      "9\n",
      "1\n",
      "19\n",
      "3.8\n"
     ]
    }
   ],
   "source": [
    "print(arr1.max())\n",
    "print(arr1.min())\n",
    "print(arr1.sum())\n",
    "print(arr1.mean())"
   ]
  },
  {
   "cell_type": "markdown",
   "id": "d277531c-c7d7-4582-90ce-e4e4d33135cf",
   "metadata": {},
   "source": [
    "筛选出 arr1 数组里所有小于 1 或大于 3 的数字， 并打印出来"
   ]
  },
  {
   "cell_type": "code",
   "execution_count": 13,
   "id": "11172ca0-7b74-4f87-bae3-74b8437d01d7",
   "metadata": {},
   "outputs": [
    {
     "data": {
      "text/plain": [
       "array([4, 9])"
      ]
     },
     "execution_count": 13,
     "metadata": {},
     "output_type": "execute_result"
    }
   ],
   "source": [
    "arr1[(arr1 < 1)|(arr1 > 3)]"
   ]
  },
  {
   "cell_type": "code",
   "execution_count": null,
   "id": "5f6ef1d6-977b-4aa9-bf80-57c5989d47e3",
   "metadata": {},
   "outputs": [],
   "source": []
  },
  {
   "cell_type": "code",
   "execution_count": null,
   "id": "a1f152dc-e941-461e-8af2-280a88258a66",
   "metadata": {},
   "outputs": [],
   "source": []
  },
  {
   "cell_type": "code",
   "execution_count": null,
   "id": "80109bc4-0848-4854-93e0-f7e4e4dd4257",
   "metadata": {},
   "outputs": [],
   "source": []
  },
  {
   "cell_type": "code",
   "execution_count": null,
   "id": "bea90a67-2f2e-45b4-b3ac-9b2218d11b3d",
   "metadata": {},
   "outputs": [],
   "source": []
  },
  {
   "cell_type": "code",
   "execution_count": null,
   "id": "a9285cb7-c646-4d05-8513-695a7e87b6bd",
   "metadata": {},
   "outputs": [],
   "source": []
  },
  {
   "cell_type": "code",
   "execution_count": null,
   "id": "8514dd82-6d79-4103-8753-587bc954d4e4",
   "metadata": {},
   "outputs": [],
   "source": []
  },
  {
   "cell_type": "code",
   "execution_count": null,
   "id": "d8f698ca-dd67-4540-ae04-5a273b87b78f",
   "metadata": {},
   "outputs": [],
   "source": []
  },
  {
   "cell_type": "code",
   "execution_count": null,
   "id": "7c4c3b9e-1e67-48af-9f56-7646c6d38983",
   "metadata": {},
   "outputs": [],
   "source": []
  },
  {
   "cell_type": "code",
   "execution_count": null,
   "id": "4e1c797c-b8c3-4998-b784-63a846227afa",
   "metadata": {},
   "outputs": [],
   "source": []
  },
  {
   "cell_type": "code",
   "execution_count": null,
   "id": "5ac5c1e6-0e8f-44fe-b1ab-5fd7ef15c9d8",
   "metadata": {},
   "outputs": [],
   "source": []
  }
 ],
 "metadata": {
  "kernelspec": {
   "display_name": "Python 3 (ipykernel)",
   "language": "python",
   "name": "python3"
  },
  "language_info": {
   "codemirror_mode": {
    "name": "ipython",
    "version": 3
   },
   "file_extension": ".py",
   "mimetype": "text/x-python",
   "name": "python",
   "nbconvert_exporter": "python",
   "pygments_lexer": "ipython3",
   "version": "3.11.5"
  }
 },
 "nbformat": 4,
 "nbformat_minor": 5
}
